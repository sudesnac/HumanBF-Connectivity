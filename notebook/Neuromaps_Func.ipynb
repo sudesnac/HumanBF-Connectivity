{
 "cells": [
  {
   "cell_type": "code",
   "execution_count": 1,
   "id": "7587bbac-44a6-4fed-a242-d9dd4a0b3ec4",
   "metadata": {},
   "outputs": [],
   "source": [
    "# This notebook is for comparing selected receptors of neuromaps with BF parcellation cortical data\n",
    "\n",
    "# Includes:\n",
    "#  Selected neuromaps - M1, nAchRs, FEOBVs\n",
    "#  fetching the neuromaps\n",
    "#  transofrming the maps to surface space\n",
    "#  tresholding the maps for comparasion with gradients (on another notebook)\n",
    "#  Visualizing the maps"
   ]
  },
  {
   "cell_type": "code",
   "execution_count": 29,
   "id": "d8241e54-96e5-4d99-a14c-1445f726b95d",
   "metadata": {},
   "outputs": [],
   "source": [
    "from neuromaps import stats\n",
    "from neuromaps import datasets, images, nulls, resampling\n",
    "from neuromaps.datasets import available_annotations\n",
    "from neuromaps.datasets import available_tags\n",
    "from neuromaps.datasets import fetch_annotation\n",
    "import nibabel as nib\n",
    "from nilearn.plotting import plot_glass_brain\n",
    "import pandas as pd\n",
    "from neuromaps import transforms, plotting\n",
    "import numpy as np\n",
    "from brainspace.datasets import load_conte69, load_fsa5\n",
    "from brainspace.plotting import plot_hemispheres\n",
    "from neuromaps.datasets import fetch_fslr\n",
    "from surfplot import Plot\n",
    "from matplotlib import pyplot as plt   "
   ]
  },
  {
   "cell_type": "markdown",
   "id": "d39e27fe-df4e-4dd6-b8a1-5e26b49862d8",
   "metadata": {},
   "source": [
    "### Setting up the path and loading necessary neuromap files"
   ]
  },
  {
   "cell_type": "code",
   "execution_count": 3,
   "id": "c3379120-c880-4d30-8559-3443b0b27e2b",
   "metadata": {},
   "outputs": [],
   "source": [
    "note_path = \"/home/ROBARTS/schakraborty/graham/sudesnacPJ/21_Codes/HumanBF-Parcellation/notebook/\"\n",
    "data_path = \"/home/ROBARTS/schakraborty/graham/sudesnacPJ/21_Codes/HumanBF-Parcellation/data/\"\n",
    "results_path = \"/home/ROBARTS/schakraborty/graham/sudesnacPJ/21_Codes/HumanBF-Parcellation/results/Neuromaps/\"\n",
    "fig_path = \"/home/ROBARTS/schakraborty/graham/sudesnacPJ/21_Codes/HumanBF-Parcellation/results/figures/Neuromaps/\""
   ]
  },
  {
   "cell_type": "code",
   "execution_count": 4,
   "id": "3e17f647-0f12-4233-bf2b-03e000e23d3b",
   "metadata": {},
   "outputs": [],
   "source": [
    "# Receptors to fetch\n",
    "Aghourian_FEOBV = datasets.fetch_annotation(source='aghourian2017', desc='feobv')\n",
    "Bedard_FEOBV = datasets.fetch_annotation(source='bedard2019', desc='feobv')\n",
    "Tuominen_FEOBV = datasets.fetch_annotation(source='tuominen', desc='feobv')\n",
    "M1 = datasets.fetch_annotation(desc='lsn3172176')\n",
    "nAchRs = datasets.fetch_annotation(desc='flubatine')"
   ]
  },
  {
   "cell_type": "code",
   "execution_count": 5,
   "id": "6f2f6a92-d8ad-483c-a74a-db6a70b67f9c",
   "metadata": {},
   "outputs": [],
   "source": [
    "# transform to fsLR space\n",
    "Aghourian_FEOBV_fslr = transforms.mni152_to_fslr(Aghourian_FEOBV, '32k')\n",
    "Bedard_FEOBV_fslr = transforms.mni152_to_fslr(Bedard_FEOBV, '32k')\n",
    "Tuominen_FEOBV_fslr = transforms.mni152_to_fslr(Tuominen_FEOBV, '32k')\n",
    "M1_fslr = transforms.mni152_to_fslr(M1, '32k')\n",
    "nAchRs_fslr = transforms.mni152_to_fslr(nAchRs, '32k')"
   ]
  },
  {
   "cell_type": "code",
   "execution_count": 6,
   "id": "5c167dbb-f1af-4b65-9a41-f5fff23bf1fc",
   "metadata": {},
   "outputs": [],
   "source": [
    "# transform to fsaverage space\n",
    "Aghourian_FEOBV_fsa = transforms.mni152_to_fsaverage(Aghourian_FEOBV, '10k')\n",
    "Bedard_FEOBV_fsa = transforms.mni152_to_fsaverage(Bedard_FEOBV, '10k')\n",
    "Tuominen_FEOBV_fsa = transforms.mni152_to_fsaverage(Tuominen_FEOBV, '10k')\n",
    "M1_fsa = transforms.mni152_to_fsaverage(M1, '10k')\n",
    "nAchRs_fsa = transforms.mni152_to_fsaverage(nAchRs, '10k')"
   ]
  },
  {
   "cell_type": "code",
   "execution_count": 7,
   "id": "20062b50-89fc-40c2-a5a2-97e1a16415c3",
   "metadata": {},
   "outputs": [],
   "source": [
    "# Load the tresholded data\n",
    "Tr_Aghourian_FEOBV_fslr_L = images.load_gifti(results_path+'Receptor-Aghourian_FEOBV_Treshold25%_L_fsLR-32k.gii')\n",
    "Tr_Aghourian_FEOBV_fslr_R = images.load_gifti(results_path+'Receptor-Aghourian_FEOBV_Treshold25%_R_fsLR-32k.gii')\n",
    "Tr_Aghourian_FEOBV_fslr_L_data = Tr_Aghourian_FEOBV_fslr_L.agg_data()\n",
    "Tr_Aghourian_FEOBV_fslr_R_data = Tr_Aghourian_FEOBV_fslr_R.agg_data()\n",
    "Tr_Aghourian_FEOBV_fslr = (Tr_Aghourian_FEOBV_fslr_L, Tr_Aghourian_FEOBV_fslr_R)\n",
    "\n",
    "Tr_Bedard_FEOBV_fslr_L = images.load_gifti(results_path+'Receptor-Bedard_FEOBV_Treshold25%_L_fsLR-32k.gii')\n",
    "Tr_Bedard_FEOBV_fslr_R = images.load_gifti(results_path+'Receptor-Bedard_FEOBV_Treshold25%_R_fsLR-32k.gii')\n",
    "Tr_Bedard_FEOBV_fslr_L_data = Tr_Bedard_FEOBV_fslr_L.agg_data()\n",
    "Tr_Bedard_FEOBV_fslr_R_data = Tr_Bedard_FEOBV_fslr_R.agg_data()\n",
    "Tr_Bedard_FEOBV_fslr = (Tr_Bedard_FEOBV_fslr_L, Tr_Bedard_FEOBV_fslr_R)\n",
    "\n",
    "Tr_Tuominen_FEOBV_fslr_L = images.load_gifti(results_path+'Receptor-Tuominen_FEOBV_Treshold25%_L_fsLR-32k.gii')\n",
    "Tr_Tuominen_FEOBV_fslr_R = images.load_gifti(results_path+'Receptor-Tuominen_FEOBV_Treshold25%_R_fsLR-32k.gii')\n",
    "Tr_Tuominen_FEOBV_fslr_L_data = Tr_Tuominen_FEOBV_fslr_L.agg_data()\n",
    "Tr_Tuominen_FEOBV_fslr_R_data = Tr_Tuominen_FEOBV_fslr_R.agg_data()\n",
    "Tr_Tuominen_FEOBV_fslr = (Tr_Tuominen_FEOBV_fslr_L, Tr_Tuominen_FEOBV_fslr_R)\n",
    "\n",
    "Tr_M1_fslr_L = images.load_gifti(results_path+'Receptor-M1_Treshold25%_L_fsLR-32k.gii')\n",
    "Tr_M1_fslr_R = images.load_gifti(results_path+'Receptor-M1_Treshold25%_R_fsLR-32k.gii')\n",
    "Tr_M1_fslr_L_data = Tr_M1_fslr_L.agg_data()\n",
    "Tr_M1_fslr_R_data = Tr_M1_fslr_R.agg_data()\n",
    "Tr_M1_fslr = (Tr_M1_fslr_L, Tr_M1_fslr_R)\n",
    "\n",
    "Tr_nAchRs_fslr_L = images.load_gifti(results_path+'Receptor-nAchRs_Treshold25%_L_fsLR-32k.gii')\n",
    "Tr_nAchRs_fslr_R = images.load_gifti(results_path+'Receptor-nAchRs_Treshold25%_R_fsLR-32k.gii')\n",
    "Tr_nAchRs_fslr_L_data = Tr_nAchRs_fslr_L.agg_data()\n",
    "Tr_nAchRs_fslr_R_data = Tr_nAchRs_fslr_R.agg_data()\n",
    "Tr_nAchRs_fslr = (Tr_nAchRs_fslr_L, Tr_nAchRs_fslr_R)"
   ]
  },
  {
   "cell_type": "code",
   "execution_count": 8,
   "id": "596e6696-22ac-4dba-b6f6-eba3f3861542",
   "metadata": {},
   "outputs": [],
   "source": [
    "# transform tresholded data to fsaverage space\n",
    "Tr_Aghourian_FEOBV_fsa = transforms.fslr_to_fsaverage(Tr_Aghourian_FEOBV_fslr, '10k')\n",
    "Tr_Bedard_FEOBV_fsa = transforms.fslr_to_fsaverage(Tr_Bedard_FEOBV_fslr, '10k')\n",
    "Tr_Tuominen_FEOBV_fsa = transforms.fslr_to_fsaverage(Tr_Tuominen_FEOBV_fslr, '10k')\n",
    "Tr_M1_fsa = transforms.fslr_to_fsaverage(Tr_M1_fslr, '10k')\n",
    "Tr_nAchRs_fsa = transforms.fslr_to_fsaverage(Tr_nAchRs_fslr, '10k')"
   ]
  },
  {
   "cell_type": "markdown",
   "id": "23b89ce7-fa6c-43fd-bce3-3892ec33ac76",
   "metadata": {},
   "source": [
    "### Func Schaefer data comparison"
   ]
  },
  {
   "cell_type": "code",
   "execution_count": 9,
   "id": "21a5d6bf-3283-48ab-9544-1cb9c4baa672",
   "metadata": {},
   "outputs": [],
   "source": [
    "# Data path for func schaefer\n",
    "FS_results_path = \"/home/ROBARTS/schakraborty/graham/sudesnacPJ/21_Codes/HumanBF-Parcellation/results/Func_Schaefer/\""
   ]
  },
  {
   "cell_type": "code",
   "execution_count": 10,
   "id": "2189e0d0-f51d-4b74-a4b9-12e087bfb5b3",
   "metadata": {},
   "outputs": [],
   "source": [
    "# Cluster Data\n",
    "k3clust1_L = images.load_gifti(FS_results_path+'Func_Schaefer_k-3_cluster-1_L_fsLR-32k.gii')\n",
    "k3clust1_R = images.load_gifti(FS_results_path+'Func_Schaefer_k-3_cluster-1_R_fsLR-32k.gii')\n",
    "k3clust1 = (k3clust1_L, k3clust1_R)\n",
    "k3clust2_L = images.load_gifti(FS_results_path+'Func_Schaefer_k-3_cluster-2_L_fsLR-32k.gii')\n",
    "k3clust2_R = images.load_gifti(FS_results_path+'Func_Schaefer_k-3_cluster-2_R_fsLR-32k.gii')\n",
    "k3clust2 = (k3clust2_L, k3clust2_R)\n",
    "k3clust3_L = images.load_gifti(FS_results_path+'Func_Schaefer_k-3_cluster-3_L_fsLR-32k.gii')\n",
    "k3clust3_R = images.load_gifti(FS_results_path+'Func_Schaefer_k-3_cluster-3_R_fsLR-32k.gii')\n",
    "k3clust3 = (k3clust3_L, k3clust3_R)\n",
    "\n",
    "# Gradient data\n",
    "grad1_L = images.load_gifti(FS_results_path+'Func_Schaefer_Gradient-1_weighted_L_fsLR-32k.gii')\n",
    "grad1_R = images.load_gifti(FS_results_path+'Func_Schaefer_Gradient-1_weighted_R_fsLR-32k.gii')\n",
    "grad1 = (grad1_L, grad1_R)\n",
    "\n",
    "grad2_L = images.load_gifti(FS_results_path+'Func_Schaefer_Gradient-2_weighted_L_fsLR-32k.gii')\n",
    "grad2_R = images.load_gifti(FS_results_path+'Func_Schaefer_Gradient-2_weighted_R_fsLR-32k.gii')\n",
    "grad2 = (grad2_L, grad2_R)\n",
    "\n",
    "grad1_upper25_L = images.load_gifti(FS_results_path+'Func_Schaefer_Gradient-1_Upper25%_L_fsLR-32k.gii')\n",
    "grad1_upper25_R = images.load_gifti(FS_results_path+'Func_Schaefer_Gradient-1_Upper25%_R_fsLR-32k.gii')\n",
    "grad1_lower25_L = images.load_gifti(FS_results_path+'Func_Schaefer_Gradient-1_Lower25%_L_fsLR-32k.gii')\n",
    "grad1_lower25_R = images.load_gifti(FS_results_path+'Func_Schaefer_Gradient-1_Lower25%_R_fsLR-32k.gii')\n",
    "grad1_upper25 = (grad1_upper25_L, grad1_upper25_R)\n",
    "grad1_lower25 = (grad1_lower25_L, grad1_lower25_R)\n",
    "\n",
    "grad2_upper25_L = images.load_gifti(FS_results_path+'Func_Schaefer_Gradient-2_Upper25%_L_fsLR-32k.gii')\n",
    "grad2_upper25_R = images.load_gifti(FS_results_path+'Func_Schaefer_Gradient-2_Upper25%_R_fsLR-32k.gii')\n",
    "grad2_lower25_L = images.load_gifti(FS_results_path+'Func_Schaefer_Gradient-2_Lower25%_L_fsLR-32k.gii')\n",
    "grad2_lower25_R = images.load_gifti(FS_results_path+'Func_Schaefer_Gradient-2_Lower25%_R_fsLR-32k.gii')\n",
    "grad2_upper25 = (grad2_upper25_L, grad2_upper25_R)\n",
    "grad2_lower25 = (grad2_lower25_L, grad2_lower25_R)"
   ]
  },
  {
   "cell_type": "code",
   "execution_count": 11,
   "id": "18ba9cf7-46e0-4f02-b9f3-beba48ee6dc8",
   "metadata": {},
   "outputs": [],
   "source": [
    "# Compare with Aghourian_FEOBV\n",
    "Aghourian_FEOBVk3clust1corr = stats.compare_images(k3clust1, Aghourian_FEOBV_fslr, metric='pearsonr')\n",
    "Aghourian_FEOBVk3clust2corr = stats.compare_images(k3clust2, Aghourian_FEOBV_fslr, metric='pearsonr')\n",
    "Aghourian_FEOBVk3clust3corr = stats.compare_images(k3clust3, Aghourian_FEOBV_fslr, metric='pearsonr')\n",
    "\n",
    "Aghourian_FEOBVG1corr = stats.compare_images(grad1, Aghourian_FEOBV_fslr, metric='pearsonr')\n",
    "Aghourian_FEOBVG2corr = stats.compare_images(grad2, Aghourian_FEOBV_fslr, metric='pearsonr')\n",
    "\n",
    "Aghourian_FEOBVG1upper25corr = stats.compare_images(grad1_upper25, Tr_Aghourian_FEOBV_fslr, metric='pearsonr')\n",
    "Aghourian_FEOBVG1lower25corr = stats.compare_images(grad1_lower25, Tr_Aghourian_FEOBV_fslr, metric='pearsonr')\n",
    "Aghourian_FEOBVG2upper25corr = stats.compare_images(grad2_upper25, Tr_Aghourian_FEOBV_fslr, metric='pearsonr')\n",
    "Aghourian_FEOBVG2lower25corr = stats.compare_images(grad2_lower25, Tr_Aghourian_FEOBV_fslr, metric='pearsonr')"
   ]
  },
  {
   "cell_type": "code",
   "execution_count": 12,
   "id": "dd4a22a5-12ea-4ed5-acd2-1f8a02f79400",
   "metadata": {},
   "outputs": [],
   "source": [
    "# Compare with Bedard_FEOBV\n",
    "Bedard_FEOBVk3clust1corr = stats.compare_images(k3clust1, Bedard_FEOBV_fslr, metric='pearsonr')\n",
    "Bedard_FEOBVk3clust2corr = stats.compare_images(k3clust2, Bedard_FEOBV_fslr, metric='pearsonr')\n",
    "Bedard_FEOBVk3clust3corr = stats.compare_images(k3clust3, Bedard_FEOBV_fslr, metric='pearsonr')\n",
    "\n",
    "Bedard_FEOBVG1corr = stats.compare_images(grad1, Bedard_FEOBV_fslr, metric='pearsonr')\n",
    "Bedard_FEOBVG2corr = stats.compare_images(grad2, Bedard_FEOBV_fslr, metric='pearsonr')\n",
    "\n",
    "Bedard_FEOBVG1upper25corr = stats.compare_images(grad1_upper25, Tr_Bedard_FEOBV_fslr, metric='pearsonr')\n",
    "Bedard_FEOBVG1lower25corr = stats.compare_images(grad1_lower25, Tr_Bedard_FEOBV_fslr, metric='pearsonr')\n",
    "Bedard_FEOBVG2upper25corr = stats.compare_images(grad2_upper25, Tr_Bedard_FEOBV_fslr, metric='pearsonr')\n",
    "Bedard_FEOBVG2lower25corr = stats.compare_images(grad2_lower25, Tr_Bedard_FEOBV_fslr, metric='pearsonr')"
   ]
  },
  {
   "cell_type": "code",
   "execution_count": 13,
   "id": "20f2a964-3f52-41bc-88a4-d71e935bb8db",
   "metadata": {},
   "outputs": [],
   "source": [
    "# Compare with Tuominen_FEOBV\n",
    "Tuominen_FEOBVk3clust1corr = stats.compare_images(k3clust1, Tuominen_FEOBV_fslr, metric='pearsonr')\n",
    "Tuominen_FEOBVk3clust2corr = stats.compare_images(k3clust2, Tuominen_FEOBV_fslr, metric='pearsonr')\n",
    "Tuominen_FEOBVk3clust3corr = stats.compare_images(k3clust3, Tuominen_FEOBV_fslr, metric='pearsonr')\n",
    "\n",
    "Tuominen_FEOBVG1corr = stats.compare_images(grad1, Tuominen_FEOBV_fslr, metric='pearsonr')\n",
    "Tuominen_FEOBVG2corr = stats.compare_images(grad2, Tuominen_FEOBV_fslr, metric='pearsonr')\n",
    "\n",
    "Tuominen_FEOBVG1upper25corr = stats.compare_images(grad1_upper25, Tr_Tuominen_FEOBV_fslr, metric='pearsonr')\n",
    "Tuominen_FEOBVG1lower25corr = stats.compare_images(grad1_lower25, Tr_Tuominen_FEOBV_fslr, metric='pearsonr')\n",
    "Tuominen_FEOBVG2upper25corr = stats.compare_images(grad2_upper25, Tr_Tuominen_FEOBV_fslr, metric='pearsonr')\n",
    "Tuominen_FEOBVG2lower25corr = stats.compare_images(grad2_lower25, Tr_Tuominen_FEOBV_fslr, metric='pearsonr')"
   ]
  },
  {
   "cell_type": "code",
   "execution_count": 14,
   "id": "eee53c8c-efcf-4401-996c-ccc170f05868",
   "metadata": {},
   "outputs": [],
   "source": [
    "# Compare with M1\n",
    "M1k3clust1corr = stats.compare_images(k3clust1, M1_fslr, metric='pearsonr')\n",
    "M1k3clust2corr = stats.compare_images(k3clust2, M1_fslr, metric='pearsonr')\n",
    "M1k3clust3corr = stats.compare_images(k3clust3, M1_fslr, metric='pearsonr')\n",
    "\n",
    "M1G1corr = stats.compare_images(grad1, M1_fslr, metric='pearsonr')\n",
    "M1G2corr = stats.compare_images(grad2, M1_fslr, metric='pearsonr')\n",
    "\n",
    "M1G1upper25corr = stats.compare_images(grad1_upper25, Tr_M1_fslr, metric='pearsonr')\n",
    "M1G1lower25corr = stats.compare_images(grad1_lower25, Tr_M1_fslr, metric='pearsonr')\n",
    "M1G2upper25corr = stats.compare_images(grad2_upper25, Tr_M1_fslr, metric='pearsonr')\n",
    "M1G2lower25corr = stats.compare_images(grad2_lower25, Tr_M1_fslr, metric='pearsonr')"
   ]
  },
  {
   "cell_type": "code",
   "execution_count": 15,
   "id": "2d1bbe84-3074-4387-ad5f-4f938878d76b",
   "metadata": {},
   "outputs": [],
   "source": [
    "# Compare with nAchRs\n",
    "nAchRsk3clust1corr = stats.compare_images(k3clust1, nAchRs_fslr, metric='pearsonr')\n",
    "nAchRsk3clust2corr = stats.compare_images(k3clust2, nAchRs_fslr, metric='pearsonr')\n",
    "nAchRsk3clust3corr = stats.compare_images(k3clust3, nAchRs_fslr, metric='pearsonr')\n",
    "\n",
    "nAchRsG1corr = stats.compare_images(grad1, nAchRs_fslr, metric='pearsonr')\n",
    "nAchRsG2corr = stats.compare_images(grad2, nAchRs_fslr, metric='pearsonr')\n",
    "\n",
    "nAchRsG1upper25corr = stats.compare_images(grad1_upper25, Tr_nAchRs_fslr, metric='pearsonr')\n",
    "nAchRsG1lower25corr = stats.compare_images(grad1_lower25, Tr_nAchRs_fslr, metric='pearsonr')\n",
    "nAchRsG2upper25corr = stats.compare_images(grad2_upper25, Tr_nAchRs_fslr, metric='pearsonr')\n",
    "nAchRsG2lower25corr = stats.compare_images(grad2_lower25, Tr_nAchRs_fslr, metric='pearsonr')"
   ]
  },
  {
   "cell_type": "code",
   "execution_count": 16,
   "id": "92cd8546-c53a-4802-b68d-dfcc994e29d5",
   "metadata": {},
   "outputs": [],
   "source": [
    "FS_k3clust1corr = [Aghourian_FEOBVk3clust1corr, Bedard_FEOBVk3clust1corr, Tuominen_FEOBVk3clust1corr, M1k3clust1corr, nAchRsk3clust1corr]\n",
    "FS_k3clust2corr = [Aghourian_FEOBVk3clust2corr, Bedard_FEOBVk3clust2corr, Tuominen_FEOBVk3clust2corr, M1k3clust2corr, nAchRsk3clust2corr]\n",
    "FS_k3clust3corr = [Aghourian_FEOBVk3clust3corr, Bedard_FEOBVk3clust3corr, Tuominen_FEOBVk3clust3corr, M1k3clust3corr, nAchRsk3clust3corr]\n",
    "\n",
    "FS_grad1_corr = [Aghourian_FEOBVG1corr, Bedard_FEOBVG1corr, Tuominen_FEOBVG1corr, M1G1corr, nAchRsG1corr]\n",
    "FS_grad2_corr = [Aghourian_FEOBVG2corr, Bedard_FEOBVG2corr, Tuominen_FEOBVG2corr, M1G2corr, nAchRsG2corr]\n",
    "\n",
    "FS_grad1_upper25_corr = [Aghourian_FEOBVG1upper25corr, Bedard_FEOBVG1upper25corr, Tuominen_FEOBVG1upper25corr, M1G1upper25corr, nAchRsG1upper25corr]\n",
    "FS_grad1_lower25_corr = [Aghourian_FEOBVG1lower25corr, Bedard_FEOBVG1lower25corr, Tuominen_FEOBVG1lower25corr, M1G1lower25corr, nAchRsG1lower25corr]\n",
    "FS_grad2_upper25_corr = [Aghourian_FEOBVG2upper25corr, Bedard_FEOBVG2upper25corr, Tuominen_FEOBVG2upper25corr, M1G2upper25corr, nAchRsG2upper25corr]\n",
    "FS_grad2_lower25_corr = [Aghourian_FEOBVG2lower25corr, Bedard_FEOBVG2lower25corr, Tuominen_FEOBVG2lower25corr, M1G2lower25corr, nAchRsG2lower25corr]"
   ]
  },
  {
   "cell_type": "code",
   "execution_count": 17,
   "id": "e93b8425-8700-4616-9317-6dccb892c23c",
   "metadata": {},
   "outputs": [],
   "source": [
    "FS_k3clustcorr_df = pd.DataFrame({'k3clust1':FS_k3clust1corr,'k3clust2':FS_k3clust2corr, 'k3clust3':FS_k3clust3corr},index=['Aghourian_FEOBV', 'Bedard_FEOBV', 'Tuominen_FEOBV', 'M1', 'nAchRs'])\n",
    "FS_gradcorr_df = pd.DataFrame({'Grad1':FS_grad1_corr,'Grad2':FS_grad2_corr},index=['Aghourian_FEOBV', 'Bedard_FEOBV', 'Tuominen_FEOBV', 'M1', 'nAchRs'])\n",
    "FS_grad25corr_df = pd.DataFrame({'Grad1 upper 25%':FS_grad1_upper25_corr, 'Grad1 lower 25%':FS_grad1_lower25_corr, 'Grad2 upper 25%':FS_grad2_upper25_corr, 'Grad2 lower 25%':FS_grad2_lower25_corr},index=['Aghourian_FEOBV', 'Bedard_FEOBV', 'Tuominen_FEOBV', 'M1', 'nAchRs'])"
   ]
  },
  {
   "cell_type": "code",
   "execution_count": 18,
   "id": "27f9b926-38ed-498b-beca-3ecf44e82f42",
   "metadata": {},
   "outputs": [],
   "source": [
    "pd.DataFrame(FS_k3clustcorr_df).to_csv(results_path + 'Func_Schaefer_k3clust_corr.csv')\n",
    "pd.DataFrame(FS_gradcorr_df).to_csv(results_path + 'Func_Schaefer_Grad_corr.csv')\n",
    "pd.DataFrame(FS_grad25corr_df).to_csv(results_path + 'Func_Schaefer_Grad25_corr.csv')"
   ]
  },
  {
   "cell_type": "code",
   "execution_count": 81,
   "id": "aee0cca3-8d16-4d8c-90cc-3ad6d9398774",
   "metadata": {},
   "outputs": [],
   "source": [
    "# FS_k3clustcorr_df = pd.read_csv(results_path + 'Func_Schaefer_k3clust_corr.csv')\n",
    "# FS_gradcorr_df = pd.read_csv(results_path + 'Func_Schaefer_Grad_corr.csv')\n",
    "# FS_grad25corr_df = pd.read_csv(results_path + 'Func_Schaefer_Grad25_corr.csv')"
   ]
  },
  {
   "cell_type": "code",
   "execution_count": 25,
   "id": "8ec80ed8-1f32-4999-9285-48a9f830b1e2",
   "metadata": {},
   "outputs": [
    {
     "data": {
      "image/png": "[encoded data removed]",
      "text/plain": [
       "<Figure size 432x288 with 1 Axes>"
      ]
     },
     "metadata": {
      "needs_background": "light"
     },
     "output_type": "display_data"
    }
   ],
   "source": [
    "ax = FS_k3clustcorr_df.plot(kind='bar', color=['r','g', 'b'], fontsize=12) \n",
    "for p in ax.patches:\n",
    "    ax.set_ylabel('pearson correlation',fontsize=12)\n",
    "    ax.set_title('Functional Schaefer k-3 cluster', fontsize=16)\n",
    "#     ax.legend(loc='center left', bbox_to_anchor=(1.0, 0.9))\n",
    "ax.figure.savefig(fig_path+'Func_Schaefer_k-3cluster_comp.png', dpi=300)"
   ]
  },
  {
   "cell_type": "code",
   "execution_count": 24,
   "id": "03f98d28-6178-416f-99fe-7fcc3d872f9c",
   "metadata": {},
   "outputs": [
    {
     "data": {
      "image/png": "[encoded data removed]",
      "text/plain": [
       "<Figure size 432x288 with 1 Axes>"
      ]
     },
     "metadata": {
      "needs_background": "light"
     },
     "output_type": "display_data"
    }
   ],
   "source": [
    "ax = FS_gradcorr_df.plot(kind='bar', color=['y', 'c',]) \n",
    "x_offset = -0.5\n",
    "y_offset = 0.5\n",
    "for p in ax.patches:\n",
    "    b = p.get_bbox()\n",
    "    val = \"{:+.2f}\".format(b.y1 + b.y0)        \n",
    "    ax.annotate(val, ((b.x0 + b.x1)/2 + x_offset, b.y1 + y_offset))\n",
    "    ax.set_ylabel('pearson correlation')\n",
    "    ax.set_title('Functional Schaefer Gradients', fontsize=16)\n",
    "ax.figure.savefig(fig_path+'Func_Schaefer_Gradients_comp.png', dpi=300)"
   ]
  },
  {
   "cell_type": "code",
   "execution_count": 27,
   "id": "2d7ae9fd-7e60-4c56-a982-ffa6f1078680",
   "metadata": {},
   "outputs": [
    {
     "data": {
      "image/png": "[encoded data removed]",
      "text/plain": [
       "<Figure size 432x288 with 1 Axes>"
      ]
     },
     "metadata": {
      "needs_background": "light"
     },
     "output_type": "display_data"
    }
   ],
   "source": [
    "ax = FS_grad25corr_df.plot(kind='bar', color=['r','b', 'g', 'm']) \n",
    "x_offset = -1\n",
    "y_offset = 1\n",
    "for p in ax.patches:\n",
    "    b = p.get_bbox()\n",
    "    val = \"{:+.2f}\".format(b.y1 + b.y0)        \n",
    "    ax.annotate(val, ((b.x0 + b.x1)/2 + x_offset, b.y1 + y_offset))\n",
    "    ax.legend(loc='center left', bbox_to_anchor=(1.0, 0.9))\n",
    "    ax.set_ylabel('pearson correlation')\n",
    "    ax.set_title('Functional Schaefer Gradient 25%', fontsize=16)\n",
    "ax.figure.savefig(fig_path+'Func_Schaefer_Gradients_25%_comp.png', dpi=300)"
   ]
  },
  {
   "cell_type": "markdown",
   "id": "2887917a-5322-4ecc-82ab-507dec0010a2",
   "metadata": {},
   "source": [
    "### Spatial Null models"
   ]
  },
  {
   "cell_type": "code",
   "execution_count": 33,
   "id": "f5556ba9-d7c2-4242-b00d-268dafddd2b3",
   "metadata": {},
   "outputs": [],
   "source": [
    "alex_aghourian_rotated = nulls.alexander_bloch(Aghourian_FEOBV_fslr, atlas='fslr', density='32k', n_perm=100, seed=1234)\n",
    "alex_bedard_rotated = nulls.alexander_bloch(Bedard_FEOBV_fslr, atlas='fslr', density='32k', n_perm=100, seed=1234)\n",
    "alex_touminen_rotated = nulls.alexander_bloch(Tuominen_FEOBV_fslr, atlas='fslr', density='32k', n_perm=100, seed=1234)\n",
    "alex_M1_rotated = nulls.alexander_bloch(M1_fslr, atlas='fslr', density='32k', n_perm=100, seed=1234)\n",
    "alex_nAchRs_rotated = nulls.alexander_bloch(nAchRs_fslr, atlas='fslr', density='32k', n_perm=100, seed=1234)"
   ]
  },
  {
   "cell_type": "code",
   "execution_count": 34,
   "id": "c40cc0f0-33c3-4f4a-9fa6-5d4f45ea4ca8",
   "metadata": {},
   "outputs": [],
   "source": [
    "alex_tr_aghourian_rotated = nulls.alexander_bloch(Tr_Aghourian_FEOBV_fslr, atlas='fslr', density='32k', n_perm=100, seed=1234)\n",
    "alex_tr_bedard_rotated = nulls.alexander_bloch(Tr_Bedard_FEOBV_fslr, atlas='fslr', density='32k', n_perm=100, seed=1234)\n",
    "alex_tr_touminen_rotated = nulls.alexander_bloch(Tr_Tuominen_FEOBV_fslr, atlas='fslr', density='32k', n_perm=100, seed=1234)\n",
    "alex_tr_M1_rotated = nulls.alexander_bloch(Tr_M1_fslr, atlas='fslr', density='32k', n_perm=100, seed=1234)\n",
    "alex_tr_nAchRs_rotated = nulls.alexander_bloch(Tr_nAchRs_fslr, atlas='fslr', density='32k', n_perm=100, seed=1234)"
   ]
  },
  {
   "cell_type": "code",
   "execution_count": 57,
   "id": "e753a60f-0bcb-4e7f-88f5-eaa7a6968f17",
   "metadata": {},
   "outputs": [],
   "source": [
    "# Compare with Aghourian_FEOBV\n",
    "Aghourian_k3clust1corr, Aghourian_k3clust1pval = stats.compare_images(Aghourian_FEOBV_fslr, k3clust1, nulls=alex_aghourian_rotated)\n",
    "Aghourian_k3clust2corr, Aghourian_k3clust2pval = stats.compare_images(Aghourian_FEOBV_fslr, k3clust2, nulls=alex_aghourian_rotated)\n",
    "Aghourian_k3clust3corr, Aghourian_k3clust3pval = stats.compare_images(Aghourian_FEOBV_fslr, k3clust3, nulls=alex_aghourian_rotated)\n",
    "\n",
    "Aghourian_G1corr, Aghourian_G1pval = stats.compare_images(Aghourian_FEOBV_fslr, grad1, nulls=alex_aghourian_rotated)\n",
    "Aghourian_G2corr, Aghourian_G2pval = stats.compare_images(Aghourian_FEOBV_fslr, grad2, nulls=alex_aghourian_rotated)\n",
    "\n",
    "Aghourian_G1upper25corr, Aghourian_G1upper25pval = stats.compare_images(Tr_Aghourian_FEOBV_fslr, grad1_upper25, nulls=alex_tr_aghourian_rotated)\n",
    "Aghourian_G1lower25corr, Aghourian_G1lower25pval = stats.compare_images(Tr_Aghourian_FEOBV_fslr, grad1_lower25, nulls=alex_tr_aghourian_rotated)\n",
    "Aghourian_G2upper25corr, Aghourian_G2upper25pval = stats.compare_images(Tr_Aghourian_FEOBV_fslr, grad2_upper25, nulls=alex_tr_aghourian_rotated)\n",
    "Aghourian_G2lower25corr, Aghourian_G2lower25pval = stats.compare_images(Tr_Aghourian_FEOBV_fslr, grad2_lower25, nulls=alex_tr_aghourian_rotated)"
   ]
  },
  {
   "cell_type": "code",
   "execution_count": 58,
   "id": "1397e6f5-a4ca-4f1d-859f-ed1c87b35d72",
   "metadata": {},
   "outputs": [],
   "source": [
    "# Compare with Bedard_FEOBV\n",
    "Bedard_k3clust1corr, Bedard_k3clust1pval = stats.compare_images(Bedard_FEOBV_fslr, k3clust1, nulls=alex_bedard_rotated)\n",
    "Bedard_k3clust2corr, Bedard_k3clust2pval = stats.compare_images(Bedard_FEOBV_fslr, k3clust2, nulls=alex_bedard_rotated)\n",
    "Bedard_k3clust3corr, Bedard_k3clust3pval = stats.compare_images(Bedard_FEOBV_fslr, k3clust3, nulls=alex_bedard_rotated)\n",
    "\n",
    "Bedard_G1corr, Bedard_G1pval = stats.compare_images(Bedard_FEOBV_fslr, grad1, nulls=alex_bedard_rotated)\n",
    "Bedard_G2corr, Bedard_G2pval = stats.compare_images(Bedard_FEOBV_fslr, grad2, nulls=alex_bedard_rotated)\n",
    "\n",
    "Bedard_G1upper25corr, Bedard_G1upper25pval = stats.compare_images(Tr_Bedard_FEOBV_fslr, grad1_upper25, nulls=alex_tr_bedard_rotated)\n",
    "Bedard_G1lower25corr, Bedard_G1lower25pval = stats.compare_images(Tr_Bedard_FEOBV_fslr, grad1_lower25, nulls=alex_tr_bedard_rotated)\n",
    "Bedard_G2upper25corr, Bedard_G2upper25pval = stats.compare_images(Tr_Bedard_FEOBV_fslr, grad2_upper25, nulls=alex_tr_bedard_rotated)\n",
    "Bedard_G2lower25corr, Bedard_G2lower25pval = stats.compare_images(Tr_Bedard_FEOBV_fslr, grad2_lower25, nulls=alex_tr_bedard_rotated)"
   ]
  },
  {
   "cell_type": "code",
   "execution_count": 59,
   "id": "780b8504-29de-4996-ad9e-bca3bb978157",
   "metadata": {},
   "outputs": [],
   "source": [
    "# Compare with Tuominen_FEOBV\n",
    "Tuominen_k3clust1corr, Tuominen_k3clust1pval = stats.compare_images(Tuominen_FEOBV_fslr, k3clust1, nulls=alex_touminen_rotated)\n",
    "Tuominen_k3clust2corr, Tuominen_k3clust2pval = stats.compare_images(Tuominen_FEOBV_fslr, k3clust2, nulls=alex_touminen_rotated)\n",
    "Tuominen_k3clust3corr, Tuominen_k3clust3pval = stats.compare_images(Tuominen_FEOBV_fslr, k3clust3, nulls=alex_touminen_rotated)\n",
    "\n",
    "Tuominen_G1corr, Tuominen_G1pval = stats.compare_images(Tuominen_FEOBV_fslr, grad1, nulls=alex_touminen_rotated)\n",
    "Tuominen_G2corr, Tuominen_G2pval = stats.compare_images(Tuominen_FEOBV_fslr, grad2, nulls=alex_touminen_rotated)\n",
    "\n",
    "Tuominen_G1upper25corr, Tuominen_G1upper25pval = stats.compare_images(Tr_Tuominen_FEOBV_fslr, grad1_upper25, nulls=alex_tr_touminen_rotated)\n",
    "Tuominen_G1lower25corr, Tuominen_G1lower25pval = stats.compare_images(Tr_Tuominen_FEOBV_fslr, grad1_lower25, nulls=alex_tr_touminen_rotated)\n",
    "Tuominen_G2upper25corr, Tuominen_G2upper25pval = stats.compare_images(Tr_Tuominen_FEOBV_fslr, grad2_upper25, nulls=alex_tr_touminen_rotated)\n",
    "Tuominen_G2lower25corr, Tuominen_G2lower25pval = stats.compare_images(Tr_Tuominen_FEOBV_fslr, grad2_lower25, nulls=alex_tr_touminen_rotated)"
   ]
  },
  {
   "cell_type": "code",
   "execution_count": 60,
   "id": "b37844fe-64b4-47ed-8213-bc1dbce352d0",
   "metadata": {},
   "outputs": [],
   "source": [
    "# Compare with M1\n",
    "M1_k3clust1corr, M1_k3clust1pval = stats.compare_images(M1_fslr, k3clust1, nulls=alex_M1_rotated)\n",
    "M1_k3clust2corr, M1_k3clust2pval = stats.compare_images(M1_fslr, k3clust2, nulls=alex_M1_rotated)\n",
    "M1_k3clust3corr, M1_k3clust3pval = stats.compare_images(M1_fslr, k3clust3, nulls=alex_M1_rotated)\n",
    "\n",
    "M1_G1corr, M1_G1pval = stats.compare_images(M1_fslr, grad1, nulls=alex_M1_rotated)\n",
    "M1_G2corr, M1_G2pval = stats.compare_images(M1_fslr, grad2, nulls=alex_M1_rotated)\n",
    "\n",
    "M1_G1upper25corr, M1_G1upper25pval = stats.compare_images(Tr_M1_fslr, grad1_upper25, nulls=alex_tr_M1_rotated)\n",
    "M1_G1lower25corr, M1_G1lower25pval = stats.compare_images(Tr_M1_fslr, grad1_lower25, nulls=alex_tr_M1_rotated)\n",
    "M1_G2upper25corr, M1_G2upper25pval = stats.compare_images(Tr_M1_fslr, grad2_upper25, nulls=alex_tr_M1_rotated)\n",
    "M1_G2lower25corr, M1_G2lower25pval = stats.compare_images(Tr_M1_fslr, grad2_lower25, nulls=alex_tr_M1_rotated)"
   ]
  },
  {
   "cell_type": "code",
   "execution_count": 61,
   "id": "b013da20-2301-4bdc-ab72-7eac88327237",
   "metadata": {},
   "outputs": [],
   "source": [
    "# Compare with nAchRs\n",
    "nAchRs_k3clust1corr, nAchRs_k3clust1pval = stats.compare_images(nAchRs_fslr, k3clust1, nulls=alex_nAchRs_rotated)\n",
    "nAchRs_k3clust2corr, nAchRs_k3clust2pval = stats.compare_images(nAchRs_fslr, k3clust2, nulls=alex_nAchRs_rotated)\n",
    "nAchRs_k3clust3corr, nAchRs_k3clust3pval = stats.compare_images(nAchRs_fslr, k3clust3, nulls=alex_nAchRs_rotated)\n",
    "\n",
    "nAchRs_G1corr, nAchRs_G1pval = stats.compare_images(nAchRs_fslr, grad1, nulls=alex_nAchRs_rotated)\n",
    "nAchRs_G2corr, nAchRs_G2pval = stats.compare_images(nAchRs_fslr, grad2, nulls=alex_nAchRs_rotated)\n",
    "\n",
    "nAchRs_G1upper25corr, nAchRs_G1upper25pval = stats.compare_images(Tr_nAchRs_fslr, grad1_upper25, nulls=alex_tr_nAchRs_rotated)\n",
    "nAchRs_G1lower25corr, nAchRs_G1lower25pval = stats.compare_images(Tr_nAchRs_fslr, grad1_lower25, nulls=alex_tr_nAchRs_rotated)\n",
    "nAchRs_G2upper25corr, nAchRs_G2upper25pval = stats.compare_images(Tr_nAchRs_fslr, grad2_upper25, nulls=alex_tr_nAchRs_rotated)\n",
    "nAchRs_G2lower25corr, nAchRs_G2lower25pval = stats.compare_images(Tr_nAchRs_fslr, grad2_lower25, nulls=alex_tr_nAchRs_rotated)"
   ]
  },
  {
   "cell_type": "code",
   "execution_count": 62,
   "id": "23da8312-0ca8-4d27-8cda-0ce7c86c059b",
   "metadata": {},
   "outputs": [
    {
     "name": "stdout",
     "output_type": "stream",
     "text": [
      "0.22324420511722565 0.9504950495049505\n"
     ]
    }
   ],
   "source": [
    "print(nAchRs_G2lower25corr, nAchRs_G1upper25pval)"
   ]
  },
  {
   "cell_type": "code",
   "execution_count": 63,
   "id": "bcdb4f2f-9db5-4c8d-83c7-a9855aa708d6",
   "metadata": {},
   "outputs": [],
   "source": [
    "FS_null_k3clust1corr = [Aghourian_k3clust1corr, Bedard_k3clust1corr, Tuominen_k3clust1corr, M1_k3clust1corr, nAchRs_k3clust1corr]\n",
    "FS_null_k3clust2corr = [Aghourian_k3clust2corr, Bedard_k3clust2corr, Tuominen_k3clust2corr, M1_k3clust2corr, nAchRs_k3clust2corr]\n",
    "FS_null_k3clust3corr = [Aghourian_k3clust3corr, Bedard_k3clust3corr, Tuominen_k3clust3corr, M1_k3clust3corr, nAchRs_k3clust3corr]\n",
    "\n",
    "FS_null_grad1_corr = [Aghourian_G1corr, Bedard_G1corr, Tuominen_G1corr, M1_G1corr, nAchRs_G1corr]\n",
    "FS_null_grad2_corr = [Aghourian_G2corr, Bedard_G2corr, Tuominen_G2corr, M1_G2corr, nAchRs_G2corr]\n",
    "\n",
    "FS_null_grad1_upper25_corr = [Aghourian_G1upper25corr, Bedard_G1upper25corr, Tuominen_G1upper25corr, M1_G1upper25corr, nAchRs_G1upper25corr]\n",
    "FS_null_grad1_lower25_corr = [Aghourian_G1lower25corr, Bedard_G1lower25corr, Tuominen_G1lower25corr, M1_G1lower25corr, nAchRs_G1lower25corr]\n",
    "FS_null_grad2_upper25_corr = [Aghourian_G2upper25corr, Bedard_G2upper25corr, Tuominen_G2upper25corr, M1_G2upper25corr, nAchRs_G2upper25corr]\n",
    "FS_null_grad2_lower25_corr = [Aghourian_G2lower25corr, Bedard_G2lower25corr, Tuominen_G2lower25corr, M1_G2lower25corr, nAchRs_G2lower25corr]"
   ]
  },
  {
   "cell_type": "code",
   "execution_count": 64,
   "id": "cfeb8ce7-b780-4569-9d9a-2aa2b4031ff0",
   "metadata": {},
   "outputs": [],
   "source": [
    "FS_null_k3clust1pval = [Aghourian_k3clust1pval, Bedard_k3clust1pval, Tuominen_k3clust1pval, M1_k3clust1pval, nAchRs_k3clust1pval]\n",
    "FS_null_k3clust2pval = [Aghourian_k3clust2pval, Bedard_k3clust2pval, Tuominen_k3clust2pval, M1_k3clust2pval, nAchRs_k3clust2pval]\n",
    "FS_null_k3clust3pval = [Aghourian_k3clust3pval, Bedard_k3clust3pval, Tuominen_k3clust3pval, M1_k3clust3pval, nAchRs_k3clust3pval]\n",
    "\n",
    "FS_null_grad1_pval = [Aghourian_G1pval, Bedard_G1pval, Tuominen_G1pval, M1_G1pval, nAchRs_G1pval]\n",
    "FS_null_grad2_pval = [Aghourian_G2pval, Bedard_G2pval, Tuominen_G2pval, M1_G2pval, nAchRs_G2pval]\n",
    "\n",
    "FS_null_grad1_upper25_pval = [Aghourian_G1upper25pval, Bedard_G1upper25pval, Tuominen_G1upper25pval, M1_G1upper25pval, nAchRs_G1upper25pval]\n",
    "FS_null_grad1_lower25_pval = [Aghourian_G1lower25pval, Bedard_G1lower25pval, Tuominen_G1lower25pval, M1_G1lower25pval, nAchRs_G1lower25pval]\n",
    "FS_null_grad2_upper25_pval = [Aghourian_G2upper25pval, Bedard_G2upper25pval, Tuominen_G2upper25pval, M1_G2upper25pval, nAchRs_G2upper25pval]\n",
    "FS_null_grad2_lower25_pval = [Aghourian_G2lower25pval, Bedard_G2lower25pval, Tuominen_G2lower25pval, M1_G2lower25pval, nAchRs_G2lower25pval]"
   ]
  },
  {
   "cell_type": "code",
   "execution_count": 70,
   "id": "f808c950-99b0-4311-8033-209270608f30",
   "metadata": {},
   "outputs": [],
   "source": [
    "FS_null_k3clustcorr_df = pd.DataFrame({'k3clust1corr':FS_null_k3clust1corr, 'k3clust1pval':FS_null_k3clust1pval, 'k3clust2corr':FS_null_k3clust2corr, 'k3clust2pval':FS_null_k3clust2pval,'k3clust3corr':FS_null_k3clust3corr, 'k3clust3pval':FS_null_k3clust3pval},index=['Aghourian_FEOBV', 'Bedard_FEOBV', 'Tuominen_FEOBV', 'M1', 'nAchRs'])\n",
    "FS_null_gradcorr_df = pd.DataFrame({'Grad1corr':FS_null_grad1_corr, 'Grad1pval':FS_null_grad1_pval, 'Grad2corr':FS_null_grad2_corr, 'Grad2pval':FS_null_grad2_pval},index=['Aghourian_FEOBV', 'Bedard_FEOBV', 'Tuominen_FEOBV', 'M1', 'nAchRs'])\n",
    "FS_null_grad25corr_df = pd.DataFrame({'Grad1 upper 25% corr':FS_null_grad1_upper25_corr, 'Grad1 upper 25% pval':FS_null_grad1_upper25_pval, 'Grad1 lower 25% corr':FS_null_grad1_lower25_corr, 'Grad1 lower 25% pval':FS_null_grad1_lower25_pval, 'Grad2 upper 25% corr':FS_null_grad2_upper25_corr, 'Grad2 upper 25% pval':FS_null_grad2_upper25_pval, 'Grad2 lower 25% corr':FS_null_grad2_lower25_corr, 'Grad2 lower 25% pval':FS_null_grad2_lower25_pval},index=['Aghourian_FEOBV', 'Bedard_FEOBV', 'Tuominen_FEOBV', 'M1', 'nAchRs'])"
   ]
  },
  {
   "cell_type": "code",
   "execution_count": 71,
   "id": "627b5c42-ba76-4f5c-8df6-5b436f25e6a1",
   "metadata": {},
   "outputs": [
    {
     "data": {
      "text/html": [
       "<div>\n",
       "<style scoped>\n",
       "    .dataframe tbody tr th:only-of-type {\n",
       "        vertical-align: middle;\n",
       "    }\n",
       "\n",
       "    .dataframe tbody tr th {\n",
       "        vertical-align: top;\n",
       "    }\n",
       "\n",
       "    .dataframe thead th {\n",
       "        text-align: right;\n",
       "    }\n",
       "</style>\n",
       "<table border=\"1\" class=\"dataframe\">\n",
       "  <thead>\n",
       "    <tr style=\"text-align: right;\">\n",
       "      <th></th>\n",
       "      <th>k3clust1corr</th>\n",
       "      <th>k3clust1pval</th>\n",
       "      <th>k3clust2corr</th>\n",
       "      <th>k3clust2pval</th>\n",
       "      <th>k3clust3corr</th>\n",
       "      <th>k3clust3pval</th>\n",
       "    </tr>\n",
       "  </thead>\n",
       "  <tbody>\n",
       "    <tr>\n",
       "      <th>Aghourian_FEOBV</th>\n",
       "      <td>0.031729</td>\n",
       "      <td>0.881188</td>\n",
       "      <td>0.320856</td>\n",
       "      <td>0.039604</td>\n",
       "      <td>-0.038358</td>\n",
       "      <td>0.831683</td>\n",
       "    </tr>\n",
       "    <tr>\n",
       "      <th>Bedard_FEOBV</th>\n",
       "      <td>0.202449</td>\n",
       "      <td>0.257426</td>\n",
       "      <td>0.383332</td>\n",
       "      <td>0.009901</td>\n",
       "      <td>0.033890</td>\n",
       "      <td>0.811881</td>\n",
       "    </tr>\n",
       "    <tr>\n",
       "      <th>Tuominen_FEOBV</th>\n",
       "      <td>0.159793</td>\n",
       "      <td>0.425743</td>\n",
       "      <td>0.370126</td>\n",
       "      <td>0.009901</td>\n",
       "      <td>0.056407</td>\n",
       "      <td>0.732673</td>\n",
       "    </tr>\n",
       "    <tr>\n",
       "      <th>M1</th>\n",
       "      <td>-0.121115</td>\n",
       "      <td>0.544554</td>\n",
       "      <td>-0.050554</td>\n",
       "      <td>0.742574</td>\n",
       "      <td>-0.129600</td>\n",
       "      <td>0.346535</td>\n",
       "    </tr>\n",
       "    <tr>\n",
       "      <th>nAchRs</th>\n",
       "      <td>-0.193537</td>\n",
       "      <td>0.089109</td>\n",
       "      <td>-0.036102</td>\n",
       "      <td>0.683168</td>\n",
       "      <td>-0.226991</td>\n",
       "      <td>0.069307</td>\n",
       "    </tr>\n",
       "  </tbody>\n",
       "</table>\n",
       "</div>"
      ],
      "text/plain": [
       "                 k3clust1corr  k3clust1pval  k3clust2corr  k3clust2pval  \\\n",
       "Aghourian_FEOBV      0.031729      0.881188      0.320856      0.039604   \n",
       "Bedard_FEOBV         0.202449      0.257426      0.383332      0.009901   \n",
       "Tuominen_FEOBV       0.159793      0.425743      0.370126      0.009901   \n",
       "M1                  -0.121115      0.544554     -0.050554      0.742574   \n",
       "nAchRs              -0.193537      0.089109     -0.036102      0.683168   \n",
       "\n",
       "                 k3clust3corr  k3clust3pval  \n",
       "Aghourian_FEOBV     -0.038358      0.831683  \n",
       "Bedard_FEOBV         0.033890      0.811881  \n",
       "Tuominen_FEOBV       0.056407      0.732673  \n",
       "M1                  -0.129600      0.346535  \n",
       "nAchRs              -0.226991      0.069307  "
      ]
     },
     "execution_count": 71,
     "metadata": {},
     "output_type": "execute_result"
    }
   ],
   "source": [
    "FS_null_k3clustcorr_df"
   ]
  },
  {
   "cell_type": "code",
   "execution_count": 72,
   "id": "234faf03-c714-4a66-923f-7476454c0715",
   "metadata": {},
   "outputs": [
    {
     "data": {
      "text/html": [
       "<div>\n",
       "<style scoped>\n",
       "    .dataframe tbody tr th:only-of-type {\n",
       "        vertical-align: middle;\n",
       "    }\n",
       "\n",
       "    .dataframe tbody tr th {\n",
       "        vertical-align: top;\n",
       "    }\n",
       "\n",
       "    .dataframe thead th {\n",
       "        text-align: right;\n",
       "    }\n",
       "</style>\n",
       "<table border=\"1\" class=\"dataframe\">\n",
       "  <thead>\n",
       "    <tr style=\"text-align: right;\">\n",
       "      <th></th>\n",
       "      <th>Grad1corr</th>\n",
       "      <th>Grad1pval</th>\n",
       "      <th>Grad2corr</th>\n",
       "      <th>Grad2pval</th>\n",
       "    </tr>\n",
       "  </thead>\n",
       "  <tbody>\n",
       "    <tr>\n",
       "      <th>Aghourian_FEOBV</th>\n",
       "      <td>0.197948</td>\n",
       "      <td>0.069307</td>\n",
       "      <td>-0.093380</td>\n",
       "      <td>0.376238</td>\n",
       "    </tr>\n",
       "    <tr>\n",
       "      <th>Bedard_FEOBV</th>\n",
       "      <td>0.169375</td>\n",
       "      <td>0.118812</td>\n",
       "      <td>0.048044</td>\n",
       "      <td>0.693069</td>\n",
       "    </tr>\n",
       "    <tr>\n",
       "      <th>Tuominen_FEOBV</th>\n",
       "      <td>0.161977</td>\n",
       "      <td>0.198020</td>\n",
       "      <td>-0.110231</td>\n",
       "      <td>0.326733</td>\n",
       "    </tr>\n",
       "    <tr>\n",
       "      <th>M1</th>\n",
       "      <td>0.052424</td>\n",
       "      <td>0.623762</td>\n",
       "      <td>0.135159</td>\n",
       "      <td>0.237624</td>\n",
       "    </tr>\n",
       "    <tr>\n",
       "      <th>nAchRs</th>\n",
       "      <td>0.130237</td>\n",
       "      <td>0.257426</td>\n",
       "      <td>0.160909</td>\n",
       "      <td>0.128713</td>\n",
       "    </tr>\n",
       "  </tbody>\n",
       "</table>\n",
       "</div>"
      ],
      "text/plain": [
       "                 Grad1corr  Grad1pval  Grad2corr  Grad2pval\n",
       "Aghourian_FEOBV   0.197948   0.069307  -0.093380   0.376238\n",
       "Bedard_FEOBV      0.169375   0.118812   0.048044   0.693069\n",
       "Tuominen_FEOBV    0.161977   0.198020  -0.110231   0.326733\n",
       "M1                0.052424   0.623762   0.135159   0.237624\n",
       "nAchRs            0.130237   0.257426   0.160909   0.128713"
      ]
     },
     "execution_count": 72,
     "metadata": {},
     "output_type": "execute_result"
    }
   ],
   "source": [
    "FS_null_gradcorr_df"
   ]
  },
  {
   "cell_type": "code",
   "execution_count": 73,
   "id": "3b4914ff-ee94-4e72-a3b9-9b932c4bd033",
   "metadata": {},
   "outputs": [
    {
     "data": {
      "text/html": [
       "<div>\n",
       "<style scoped>\n",
       "    .dataframe tbody tr th:only-of-type {\n",
       "        vertical-align: middle;\n",
       "    }\n",
       "\n",
       "    .dataframe tbody tr th {\n",
       "        vertical-align: top;\n",
       "    }\n",
       "\n",
       "    .dataframe thead th {\n",
       "        text-align: right;\n",
       "    }\n",
       "</style>\n",
       "<table border=\"1\" class=\"dataframe\">\n",
       "  <thead>\n",
       "    <tr style=\"text-align: right;\">\n",
       "      <th></th>\n",
       "      <th>Grad1 upper 25% corr</th>\n",
       "      <th>Grad1 upper 25% pval</th>\n",
       "      <th>Grad1 lower 25% corr</th>\n",
       "      <th>Grad1 lower 25% pval</th>\n",
       "      <th>Grad2 upper 25% corr</th>\n",
       "      <th>Grad2 upper 25% pval</th>\n",
       "      <th>Grad2 lower 25% corr</th>\n",
       "      <th>Grad2 lower 25% pval</th>\n",
       "    </tr>\n",
       "  </thead>\n",
       "  <tbody>\n",
       "    <tr>\n",
       "      <th>Aghourian_FEOBV</th>\n",
       "      <td>0.299074</td>\n",
       "      <td>0.039604</td>\n",
       "      <td>-0.027955</td>\n",
       "      <td>0.792079</td>\n",
       "      <td>0.285337</td>\n",
       "      <td>0.118812</td>\n",
       "      <td>0.325982</td>\n",
       "      <td>0.009901</td>\n",
       "    </tr>\n",
       "    <tr>\n",
       "      <th>Bedard_FEOBV</th>\n",
       "      <td>0.349451</td>\n",
       "      <td>0.009901</td>\n",
       "      <td>-0.136679</td>\n",
       "      <td>0.396040</td>\n",
       "      <td>0.203977</td>\n",
       "      <td>0.306931</td>\n",
       "      <td>0.170682</td>\n",
       "      <td>0.267327</td>\n",
       "    </tr>\n",
       "    <tr>\n",
       "      <th>Tuominen_FEOBV</th>\n",
       "      <td>0.268269</td>\n",
       "      <td>0.178218</td>\n",
       "      <td>-0.119095</td>\n",
       "      <td>0.544554</td>\n",
       "      <td>0.159082</td>\n",
       "      <td>0.534653</td>\n",
       "      <td>0.109669</td>\n",
       "      <td>0.534653</td>\n",
       "    </tr>\n",
       "    <tr>\n",
       "      <th>M1</th>\n",
       "      <td>0.055023</td>\n",
       "      <td>0.643564</td>\n",
       "      <td>-0.044769</td>\n",
       "      <td>0.623762</td>\n",
       "      <td>0.012199</td>\n",
       "      <td>0.881188</td>\n",
       "      <td>-0.003405</td>\n",
       "      <td>0.980198</td>\n",
       "    </tr>\n",
       "    <tr>\n",
       "      <th>nAchRs</th>\n",
       "      <td>0.011757</td>\n",
       "      <td>0.950495</td>\n",
       "      <td>0.171208</td>\n",
       "      <td>0.168317</td>\n",
       "      <td>0.341763</td>\n",
       "      <td>0.029703</td>\n",
       "      <td>0.223244</td>\n",
       "      <td>0.118812</td>\n",
       "    </tr>\n",
       "  </tbody>\n",
       "</table>\n",
       "</div>"
      ],
      "text/plain": [
       "                 Grad1 upper 25% corr  Grad1 upper 25% pval  \\\n",
       "Aghourian_FEOBV              0.299074              0.039604   \n",
       "Bedard_FEOBV                 0.349451              0.009901   \n",
       "Tuominen_FEOBV               0.268269              0.178218   \n",
       "M1                           0.055023              0.643564   \n",
       "nAchRs                       0.011757              0.950495   \n",
       "\n",
       "                 Grad1 lower 25% corr  Grad1 lower 25% pval  \\\n",
       "Aghourian_FEOBV             -0.027955              0.792079   \n",
       "Bedard_FEOBV                -0.136679              0.396040   \n",
       "Tuominen_FEOBV              -0.119095              0.544554   \n",
       "M1                          -0.044769              0.623762   \n",
       "nAchRs                       0.171208              0.168317   \n",
       "\n",
       "                 Grad2 upper 25% corr  Grad2 upper 25% pval  \\\n",
       "Aghourian_FEOBV              0.285337              0.118812   \n",
       "Bedard_FEOBV                 0.203977              0.306931   \n",
       "Tuominen_FEOBV               0.159082              0.534653   \n",
       "M1                           0.012199              0.881188   \n",
       "nAchRs                       0.341763              0.029703   \n",
       "\n",
       "                 Grad2 lower 25% corr  Grad2 lower 25% pval  \n",
       "Aghourian_FEOBV              0.325982              0.009901  \n",
       "Bedard_FEOBV                 0.170682              0.267327  \n",
       "Tuominen_FEOBV               0.109669              0.534653  \n",
       "M1                          -0.003405              0.980198  \n",
       "nAchRs                       0.223244              0.118812  "
      ]
     },
     "execution_count": 73,
     "metadata": {},
     "output_type": "execute_result"
    }
   ],
   "source": [
    "FS_null_grad25corr_df"
   ]
  },
  {
   "cell_type": "code",
   "execution_count": 74,
   "id": "8a0ddb78-338a-4651-a1af-79301541d9ef",
   "metadata": {},
   "outputs": [],
   "source": [
    "pd.DataFrame(FS_null_k3clustcorr_df).to_csv(results_path + 'Func_Schaefer_null_k3clust_comp.csv')\n",
    "pd.DataFrame(FS_null_gradcorr_df).to_csv(results_path + 'Func_Schaefer_null_Grad_comp.csv')\n",
    "pd.DataFrame(FS_null_grad25corr_df).to_csv(results_path + 'Func_Schaefer_null_Grad25_comp.csv')"
   ]
  },
  {
   "cell_type": "markdown",
   "id": "4639b2ea-cfff-4e79-b064-7839a4c63ffd",
   "metadata": {},
   "source": [
    "### Func HCPMMP data comparison"
   ]
  },
  {
   "cell_type": "code",
   "execution_count": null,
   "id": "0364b606-ffc9-4341-8b09-6c97c8ea71cf",
   "metadata": {},
   "outputs": [],
   "source": []
  }
 ],
 "metadata": {
  "kernelspec": {
   "display_name": "Python 3 (ipykernel)",
   "language": "python",
   "name": "python3"
  },
  "language_info": {
   "codemirror_mode": {
    "name": "ipython",
    "version": 3
   },
   "file_extension": ".py",
   "mimetype": "text/x-python",
   "name": "python",
   "nbconvert_exporter": "python",
   "pygments_lexer": "ipython3",
   "version": "3.9.5"
  }
 },
 "nbformat": 4,
 "nbformat_minor": 5
}
