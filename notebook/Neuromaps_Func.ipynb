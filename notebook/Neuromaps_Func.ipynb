{
 "cells": [
  {
   "cell_type": "code",
   "execution_count": 200,
   "id": "7587bbac-44a6-4fed-a242-d9dd4a0b3ec4",
   "metadata": {},
   "outputs": [],
   "source": [
    "# This notebook is for comparing selected receptors of neuromaps with Functional BF parcellation cortical data\n",
    "\n",
    "# Includes:\n",
    "#  Selected neuromaps - M1, nAchRs, FEOBVs\n",
    "#  fetching the neuromaps\n",
    "#  transofrming the maps to surface space\n",
    "#  fetching the trsholded neuromaps\n",
    "#  Comparing (stats.compare) neruomaps with BF parcellation cortical data (get only corr)\n",
    "#  Spatial null models of neuromaps and comparing them with BF cortical data (get corr. and pval)"
   ]
  },
  {
   "cell_type": "code",
   "execution_count": 1,
   "id": "d8241e54-96e5-4d99-a14c-1445f726b95d",
   "metadata": {},
   "outputs": [],
   "source": [
    "from neuromaps import stats\n",
    "from neuromaps import datasets, images, nulls, resampling\n",
    "from neuromaps.datasets import available_annotations\n",
    "from neuromaps.datasets import available_tags\n",
    "from neuromaps.datasets import fetch_annotation\n",
    "import nibabel as nib\n",
    "from nilearn.plotting import plot_glass_brain\n",
    "import pandas as pd\n",
    "from neuromaps import transforms, plotting\n",
    "import numpy as np\n",
    "from brainspace.datasets import load_conte69, load_fsa5\n",
    "from brainspace.plotting import plot_hemispheres\n",
    "from neuromaps.datasets import fetch_fslr\n",
    "from surfplot import Plot\n",
    "from matplotlib import pyplot as plt   \n",
    "import zentables as zen"
   ]
  },
  {
   "cell_type": "markdown",
   "id": "d39e27fe-df4e-4dd6-b8a1-5e26b49862d8",
   "metadata": {},
   "source": [
    "### Setting up the path and loading necessary neuromap files"
   ]
  },
  {
   "cell_type": "code",
   "execution_count": 2,
   "id": "c3379120-c880-4d30-8559-3443b0b27e2b",
   "metadata": {},
   "outputs": [],
   "source": [
    "note_path = \"/home/ROBARTS/schakraborty/graham/sudesnacPJ/21_Codes/HumanBF-Parcellation/notebook/\"\n",
    "data_path = \"/home/ROBARTS/schakraborty/graham/sudesnacPJ/21_Codes/HumanBF-Parcellation/data/\"\n",
    "results_path = \"/home/ROBARTS/schakraborty/graham/sudesnacPJ/21_Codes/HumanBF-Parcellation/results/Neuromaps/\"\n",
    "fig_path = \"/home/ROBARTS/schakraborty/graham/sudesnacPJ/21_Codes/HumanBF-Parcellation/results/figures/Neuromaps/\""
   ]
  },
  {
   "cell_type": "code",
   "execution_count": 3,
   "id": "3e17f647-0f12-4233-bf2b-03e000e23d3b",
   "metadata": {},
   "outputs": [],
   "source": [
    "# Receptors to fetch\n",
    "Aghourian_FEOBV = datasets.fetch_annotation(source='aghourian2017', desc='feobv')\n",
    "Bedard_FEOBV = datasets.fetch_annotation(source='bedard2019', desc='feobv')\n",
    "Tuominen_FEOBV = datasets.fetch_annotation(source='tuominen', desc='feobv')\n",
    "M1 = datasets.fetch_annotation(desc='lsn3172176')\n",
    "nAchRs = datasets.fetch_annotation(desc='flubatine')"
   ]
  },
  {
   "cell_type": "code",
   "execution_count": 4,
   "id": "6f2f6a92-d8ad-483c-a74a-db6a70b67f9c",
   "metadata": {},
   "outputs": [],
   "source": [
    "# transform to fsLR space\n",
    "Aghourian_FEOBV_fslr = transforms.mni152_to_fslr(Aghourian_FEOBV, '32k')\n",
    "Bedard_FEOBV_fslr = transforms.mni152_to_fslr(Bedard_FEOBV, '32k')\n",
    "Tuominen_FEOBV_fslr = transforms.mni152_to_fslr(Tuominen_FEOBV, '32k')\n",
    "M1_fslr = transforms.mni152_to_fslr(M1, '32k')\n",
    "nAchRs_fslr = transforms.mni152_to_fslr(nAchRs, '32k')"
   ]
  },
  {
   "cell_type": "code",
   "execution_count": 5,
   "id": "5c167dbb-f1af-4b65-9a41-f5fff23bf1fc",
   "metadata": {},
   "outputs": [],
   "source": [
    "# transform to fsaverage space\n",
    "Aghourian_FEOBV_fsa = transforms.mni152_to_fsaverage(Aghourian_FEOBV, '10k')\n",
    "Bedard_FEOBV_fsa = transforms.mni152_to_fsaverage(Bedard_FEOBV, '10k')\n",
    "Tuominen_FEOBV_fsa = transforms.mni152_to_fsaverage(Tuominen_FEOBV, '10k')\n",
    "M1_fsa = transforms.mni152_to_fsaverage(M1, '10k')\n",
    "nAchRs_fsa = transforms.mni152_to_fsaverage(nAchRs, '10k')"
   ]
  },
  {
   "cell_type": "code",
   "execution_count": 6,
   "id": "20062b50-89fc-40c2-a5a2-97e1a16415c3",
   "metadata": {},
   "outputs": [],
   "source": [
    "# Load the tresholded data\n",
    "Tr_Aghourian_FEOBV_fslr_L = images.load_gifti(results_path+'Receptor-Aghourian_FEOBV_Treshold25%_L_fsLR-32k.gii')\n",
    "Tr_Aghourian_FEOBV_fslr_R = images.load_gifti(results_path+'Receptor-Aghourian_FEOBV_Treshold25%_R_fsLR-32k.gii')\n",
    "Tr_Aghourian_FEOBV_fslr_L_data = Tr_Aghourian_FEOBV_fslr_L.agg_data()\n",
    "Tr_Aghourian_FEOBV_fslr_R_data = Tr_Aghourian_FEOBV_fslr_R.agg_data()\n",
    "Tr_Aghourian_FEOBV_fslr = (Tr_Aghourian_FEOBV_fslr_L, Tr_Aghourian_FEOBV_fslr_R)\n",
    "\n",
    "Tr_Bedard_FEOBV_fslr_L = images.load_gifti(results_path+'Receptor-Bedard_FEOBV_Treshold25%_L_fsLR-32k.gii')\n",
    "Tr_Bedard_FEOBV_fslr_R = images.load_gifti(results_path+'Receptor-Bedard_FEOBV_Treshold25%_R_fsLR-32k.gii')\n",
    "Tr_Bedard_FEOBV_fslr_L_data = Tr_Bedard_FEOBV_fslr_L.agg_data()\n",
    "Tr_Bedard_FEOBV_fslr_R_data = Tr_Bedard_FEOBV_fslr_R.agg_data()\n",
    "Tr_Bedard_FEOBV_fslr = (Tr_Bedard_FEOBV_fslr_L, Tr_Bedard_FEOBV_fslr_R)\n",
    "\n",
    "Tr_Tuominen_FEOBV_fslr_L = images.load_gifti(results_path+'Receptor-Tuominen_FEOBV_Treshold25%_L_fsLR-32k.gii')\n",
    "Tr_Tuominen_FEOBV_fslr_R = images.load_gifti(results_path+'Receptor-Tuominen_FEOBV_Treshold25%_R_fsLR-32k.gii')\n",
    "Tr_Tuominen_FEOBV_fslr_L_data = Tr_Tuominen_FEOBV_fslr_L.agg_data()\n",
    "Tr_Tuominen_FEOBV_fslr_R_data = Tr_Tuominen_FEOBV_fslr_R.agg_data()\n",
    "Tr_Tuominen_FEOBV_fslr = (Tr_Tuominen_FEOBV_fslr_L, Tr_Tuominen_FEOBV_fslr_R)\n",
    "\n",
    "Tr_M1_fslr_L = images.load_gifti(results_path+'Receptor-M1_Treshold25%_L_fsLR-32k.gii')\n",
    "Tr_M1_fslr_R = images.load_gifti(results_path+'Receptor-M1_Treshold25%_R_fsLR-32k.gii')\n",
    "Tr_M1_fslr_L_data = Tr_M1_fslr_L.agg_data()\n",
    "Tr_M1_fslr_R_data = Tr_M1_fslr_R.agg_data()\n",
    "Tr_M1_fslr = (Tr_M1_fslr_L, Tr_M1_fslr_R)\n",
    "\n",
    "Tr_nAchRs_fslr_L = images.load_gifti(results_path+'Receptor-nAchRs_Treshold25%_L_fsLR-32k.gii')\n",
    "Tr_nAchRs_fslr_R = images.load_gifti(results_path+'Receptor-nAchRs_Treshold25%_R_fsLR-32k.gii')\n",
    "Tr_nAchRs_fslr_L_data = Tr_nAchRs_fslr_L.agg_data()\n",
    "Tr_nAchRs_fslr_R_data = Tr_nAchRs_fslr_R.agg_data()\n",
    "Tr_nAchRs_fslr = (Tr_nAchRs_fslr_L, Tr_nAchRs_fslr_R)"
   ]
  },
  {
   "cell_type": "code",
   "execution_count": 7,
   "id": "596e6696-22ac-4dba-b6f6-eba3f3861542",
   "metadata": {},
   "outputs": [],
   "source": [
    "# transform tresholded data to fsaverage space\n",
    "Tr_Aghourian_FEOBV_fsa = transforms.fslr_to_fsaverage(Tr_Aghourian_FEOBV_fslr, '10k')\n",
    "Tr_Bedard_FEOBV_fsa = transforms.fslr_to_fsaverage(Tr_Bedard_FEOBV_fslr, '10k')\n",
    "Tr_Tuominen_FEOBV_fsa = transforms.fslr_to_fsaverage(Tr_Tuominen_FEOBV_fslr, '10k')\n",
    "Tr_M1_fsa = transforms.fslr_to_fsaverage(Tr_M1_fslr, '10k')\n",
    "Tr_nAchRs_fsa = transforms.fslr_to_fsaverage(Tr_nAchRs_fslr, '10k')"
   ]
  },
  {
   "cell_type": "markdown",
   "id": "23b89ce7-fa6c-43fd-bce3-3892ec33ac76",
   "metadata": {},
   "source": [
    "### Func Schaefer data comparison"
   ]
  },
  {
   "cell_type": "code",
   "execution_count": 140,
   "id": "21a5d6bf-3283-48ab-9544-1cb9c4baa672",
   "metadata": {},
   "outputs": [],
   "source": [
    "# Data path for func schaefer\n",
    "FS_results_path = \"/home/ROBARTS/schakraborty/graham/sudesnacPJ/21_Codes/HumanBF-Parcellation/results/Func_Schaefer/\""
   ]
  },
  {
   "cell_type": "code",
   "execution_count": 141,
   "id": "2189e0d0-f51d-4b74-a4b9-12e087bfb5b3",
   "metadata": {},
   "outputs": [],
   "source": [
    "# Cluster Data\n",
    "k3clust1_L = images.load_gifti(FS_results_path+'Func_Schaefer_k-3_cluster-1_L_fsLR-32k.gii')\n",
    "k3clust1_R = images.load_gifti(FS_results_path+'Func_Schaefer_k-3_cluster-1_R_fsLR-32k.gii')\n",
    "k3clust1 = (k3clust1_L, k3clust1_R)\n",
    "k3clust2_L = images.load_gifti(FS_results_path+'Func_Schaefer_k-3_cluster-2_L_fsLR-32k.gii')\n",
    "k3clust2_R = images.load_gifti(FS_results_path+'Func_Schaefer_k-3_cluster-2_R_fsLR-32k.gii')\n",
    "k3clust2 = (k3clust2_L, k3clust2_R)\n",
    "k3clust3_L = images.load_gifti(FS_results_path+'Func_Schaefer_k-3_cluster-3_L_fsLR-32k.gii')\n",
    "k3clust3_R = images.load_gifti(FS_results_path+'Func_Schaefer_k-3_cluster-3_R_fsLR-32k.gii')\n",
    "k3clust3 = (k3clust3_L, k3clust3_R)\n",
    "\n",
    "# Gradient data\n",
    "grad1_L = images.load_gifti(FS_results_path+'Func_Schaefer_Gradient-1_weighted_L_fsLR-32k.gii')\n",
    "grad1_R = images.load_gifti(FS_results_path+'Func_Schaefer_Gradient-1_weighted_R_fsLR-32k.gii')\n",
    "grad1 = (grad1_L, grad1_R)\n",
    "\n",
    "grad2_L = images.load_gifti(FS_results_path+'Func_Schaefer_Gradient-2_weighted_L_fsLR-32k.gii')\n",
    "grad2_R = images.load_gifti(FS_results_path+'Func_Schaefer_Gradient-2_weighted_R_fsLR-32k.gii')\n",
    "grad2 = (grad2_L, grad2_R)\n",
    "\n",
    "grad1_upper25_L = images.load_gifti(FS_results_path+'Func_Schaefer_Gradient-1_Upper25%_L_fsLR-32k.gii')\n",
    "grad1_upper25_R = images.load_gifti(FS_results_path+'Func_Schaefer_Gradient-1_Upper25%_R_fsLR-32k.gii')\n",
    "grad1_lower25_L = images.load_gifti(FS_results_path+'Func_Schaefer_Gradient-1_Lower25%_L_fsLR-32k.gii')\n",
    "grad1_lower25_R = images.load_gifti(FS_results_path+'Func_Schaefer_Gradient-1_Lower25%_R_fsLR-32k.gii')\n",
    "grad1_upper25 = (grad1_upper25_L, grad1_upper25_R)\n",
    "grad1_lower25 = (grad1_lower25_L, grad1_lower25_R)\n",
    "\n",
    "grad2_upper25_L = images.load_gifti(FS_results_path+'Func_Schaefer_Gradient-2_Upper25%_L_fsLR-32k.gii')\n",
    "grad2_upper25_R = images.load_gifti(FS_results_path+'Func_Schaefer_Gradient-2_Upper25%_R_fsLR-32k.gii')\n",
    "grad2_lower25_L = images.load_gifti(FS_results_path+'Func_Schaefer_Gradient-2_Lower25%_L_fsLR-32k.gii')\n",
    "grad2_lower25_R = images.load_gifti(FS_results_path+'Func_Schaefer_Gradient-2_Lower25%_R_fsLR-32k.gii')\n",
    "grad2_upper25 = (grad2_upper25_L, grad2_upper25_R)\n",
    "grad2_lower25 = (grad2_lower25_L, grad2_lower25_R)"
   ]
  },
  {
   "cell_type": "code",
   "execution_count": 142,
   "id": "18ba9cf7-46e0-4f02-b9f3-beba48ee6dc8",
   "metadata": {},
   "outputs": [],
   "source": [
    "# Compare with Aghourian_FEOBV\n",
    "Aghourian_FEOBVk3clust1corr = stats.compare_images(k3clust1, Aghourian_FEOBV_fslr, metric='pearsonr')\n",
    "Aghourian_FEOBVk3clust2corr = stats.compare_images(k3clust2, Aghourian_FEOBV_fslr, metric='pearsonr')\n",
    "Aghourian_FEOBVk3clust3corr = stats.compare_images(k3clust3, Aghourian_FEOBV_fslr, metric='pearsonr')\n",
    "\n",
    "Aghourian_FEOBVG1corr = stats.compare_images(grad1, Aghourian_FEOBV_fslr, metric='pearsonr')\n",
    "Aghourian_FEOBVG2corr = stats.compare_images(grad2, Aghourian_FEOBV_fslr, metric='pearsonr')\n",
    "\n",
    "Aghourian_FEOBVG1upper25corr = stats.compare_images(grad1_upper25, Tr_Aghourian_FEOBV_fslr, metric='pearsonr')\n",
    "Aghourian_FEOBVG1lower25corr = stats.compare_images(grad1_lower25, Tr_Aghourian_FEOBV_fslr, metric='pearsonr')\n",
    "Aghourian_FEOBVG2upper25corr = stats.compare_images(grad2_upper25, Tr_Aghourian_FEOBV_fslr, metric='pearsonr')\n",
    "Aghourian_FEOBVG2lower25corr = stats.compare_images(grad2_lower25, Tr_Aghourian_FEOBV_fslr, metric='pearsonr')"
   ]
  },
  {
   "cell_type": "code",
   "execution_count": 143,
   "id": "dd4a22a5-12ea-4ed5-acd2-1f8a02f79400",
   "metadata": {},
   "outputs": [],
   "source": [
    "# Compare with Bedard_FEOBV\n",
    "Bedard_FEOBVk3clust1corr = stats.compare_images(k3clust1, Bedard_FEOBV_fslr, metric='pearsonr')\n",
    "Bedard_FEOBVk3clust2corr = stats.compare_images(k3clust2, Bedard_FEOBV_fslr, metric='pearsonr')\n",
    "Bedard_FEOBVk3clust3corr = stats.compare_images(k3clust3, Bedard_FEOBV_fslr, metric='pearsonr')\n",
    "\n",
    "Bedard_FEOBVG1corr = stats.compare_images(grad1, Bedard_FEOBV_fslr, metric='pearsonr')\n",
    "Bedard_FEOBVG2corr = stats.compare_images(grad2, Bedard_FEOBV_fslr, metric='pearsonr')\n",
    "\n",
    "Bedard_FEOBVG1upper25corr = stats.compare_images(grad1_upper25, Tr_Bedard_FEOBV_fslr, metric='pearsonr')\n",
    "Bedard_FEOBVG1lower25corr = stats.compare_images(grad1_lower25, Tr_Bedard_FEOBV_fslr, metric='pearsonr')\n",
    "Bedard_FEOBVG2upper25corr = stats.compare_images(grad2_upper25, Tr_Bedard_FEOBV_fslr, metric='pearsonr')\n",
    "Bedard_FEOBVG2lower25corr = stats.compare_images(grad2_lower25, Tr_Bedard_FEOBV_fslr, metric='pearsonr')"
   ]
  },
  {
   "cell_type": "code",
   "execution_count": 144,
   "id": "20f2a964-3f52-41bc-88a4-d71e935bb8db",
   "metadata": {},
   "outputs": [],
   "source": [
    "# Compare with Tuominen_FEOBV\n",
    "Tuominen_FEOBVk3clust1corr = stats.compare_images(k3clust1, Tuominen_FEOBV_fslr, metric='pearsonr')\n",
    "Tuominen_FEOBVk3clust2corr = stats.compare_images(k3clust2, Tuominen_FEOBV_fslr, metric='pearsonr')\n",
    "Tuominen_FEOBVk3clust3corr = stats.compare_images(k3clust3, Tuominen_FEOBV_fslr, metric='pearsonr')\n",
    "\n",
    "Tuominen_FEOBVG1corr = stats.compare_images(grad1, Tuominen_FEOBV_fslr, metric='pearsonr')\n",
    "Tuominen_FEOBVG2corr = stats.compare_images(grad2, Tuominen_FEOBV_fslr, metric='pearsonr')\n",
    "\n",
    "Tuominen_FEOBVG1upper25corr = stats.compare_images(grad1_upper25, Tr_Tuominen_FEOBV_fslr, metric='pearsonr')\n",
    "Tuominen_FEOBVG1lower25corr = stats.compare_images(grad1_lower25, Tr_Tuominen_FEOBV_fslr, metric='pearsonr')\n",
    "Tuominen_FEOBVG2upper25corr = stats.compare_images(grad2_upper25, Tr_Tuominen_FEOBV_fslr, metric='pearsonr')\n",
    "Tuominen_FEOBVG2lower25corr = stats.compare_images(grad2_lower25, Tr_Tuominen_FEOBV_fslr, metric='pearsonr')"
   ]
  },
  {
   "cell_type": "code",
   "execution_count": 145,
   "id": "eee53c8c-efcf-4401-996c-ccc170f05868",
   "metadata": {},
   "outputs": [],
   "source": [
    "# Compare with M1\n",
    "M1k3clust1corr = stats.compare_images(k3clust1, M1_fslr, metric='pearsonr')\n",
    "M1k3clust2corr = stats.compare_images(k3clust2, M1_fslr, metric='pearsonr')\n",
    "M1k3clust3corr = stats.compare_images(k3clust3, M1_fslr, metric='pearsonr')\n",
    "\n",
    "M1G1corr = stats.compare_images(grad1, M1_fslr, metric='pearsonr')\n",
    "M1G2corr = stats.compare_images(grad2, M1_fslr, metric='pearsonr')\n",
    "\n",
    "M1G1upper25corr = stats.compare_images(grad1_upper25, Tr_M1_fslr, metric='pearsonr')\n",
    "M1G1lower25corr = stats.compare_images(grad1_lower25, Tr_M1_fslr, metric='pearsonr')\n",
    "M1G2upper25corr = stats.compare_images(grad2_upper25, Tr_M1_fslr, metric='pearsonr')\n",
    "M1G2lower25corr = stats.compare_images(grad2_lower25, Tr_M1_fslr, metric='pearsonr')"
   ]
  },
  {
   "cell_type": "code",
   "execution_count": 146,
   "id": "2d1bbe84-3074-4387-ad5f-4f938878d76b",
   "metadata": {},
   "outputs": [],
   "source": [
    "# Compare with nAchRs\n",
    "nAchRsk3clust1corr = stats.compare_images(k3clust1, nAchRs_fslr, metric='pearsonr')\n",
    "nAchRsk3clust2corr = stats.compare_images(k3clust2, nAchRs_fslr, metric='pearsonr')\n",
    "nAchRsk3clust3corr = stats.compare_images(k3clust3, nAchRs_fslr, metric='pearsonr')\n",
    "\n",
    "nAchRsG1corr = stats.compare_images(grad1, nAchRs_fslr, metric='pearsonr')\n",
    "nAchRsG2corr = stats.compare_images(grad2, nAchRs_fslr, metric='pearsonr')\n",
    "\n",
    "nAchRsG1upper25corr = stats.compare_images(grad1_upper25, Tr_nAchRs_fslr, metric='pearsonr')\n",
    "nAchRsG1lower25corr = stats.compare_images(grad1_lower25, Tr_nAchRs_fslr, metric='pearsonr')\n",
    "nAchRsG2upper25corr = stats.compare_images(grad2_upper25, Tr_nAchRs_fslr, metric='pearsonr')\n",
    "nAchRsG2lower25corr = stats.compare_images(grad2_lower25, Tr_nAchRs_fslr, metric='pearsonr')"
   ]
  },
  {
   "cell_type": "code",
   "execution_count": 147,
   "id": "92cd8546-c53a-4802-b68d-dfcc994e29d5",
   "metadata": {},
   "outputs": [],
   "source": [
    "FS_k3clust1corr = [Aghourian_FEOBVk3clust1corr, Bedard_FEOBVk3clust1corr, Tuominen_FEOBVk3clust1corr, M1k3clust1corr, nAchRsk3clust1corr]\n",
    "FS_k3clust2corr = [Aghourian_FEOBVk3clust2corr, Bedard_FEOBVk3clust2corr, Tuominen_FEOBVk3clust2corr, M1k3clust2corr, nAchRsk3clust2corr]\n",
    "FS_k3clust3corr = [Aghourian_FEOBVk3clust3corr, Bedard_FEOBVk3clust3corr, Tuominen_FEOBVk3clust3corr, M1k3clust3corr, nAchRsk3clust3corr]\n",
    "\n",
    "FS_grad1_corr = [Aghourian_FEOBVG1corr, Bedard_FEOBVG1corr, Tuominen_FEOBVG1corr, M1G1corr, nAchRsG1corr]\n",
    "FS_grad2_corr = [Aghourian_FEOBVG2corr, Bedard_FEOBVG2corr, Tuominen_FEOBVG2corr, M1G2corr, nAchRsG2corr]\n",
    "\n",
    "FS_grad1_upper25_corr = [Aghourian_FEOBVG1upper25corr, Bedard_FEOBVG1upper25corr, Tuominen_FEOBVG1upper25corr, M1G1upper25corr, nAchRsG1upper25corr]\n",
    "FS_grad1_lower25_corr = [Aghourian_FEOBVG1lower25corr, Bedard_FEOBVG1lower25corr, Tuominen_FEOBVG1lower25corr, M1G1lower25corr, nAchRsG1lower25corr]\n",
    "FS_grad2_upper25_corr = [Aghourian_FEOBVG2upper25corr, Bedard_FEOBVG2upper25corr, Tuominen_FEOBVG2upper25corr, M1G2upper25corr, nAchRsG2upper25corr]\n",
    "FS_grad2_lower25_corr = [Aghourian_FEOBVG2lower25corr, Bedard_FEOBVG2lower25corr, Tuominen_FEOBVG2lower25corr, M1G2lower25corr, nAchRsG2lower25corr]"
   ]
  },
  {
   "cell_type": "code",
   "execution_count": 148,
   "id": "e93b8425-8700-4616-9317-6dccb892c23c",
   "metadata": {},
   "outputs": [],
   "source": [
    "FS_k3clustcorr_df = pd.DataFrame({'k3clust1':FS_k3clust1corr,'k3clust2':FS_k3clust2corr, 'k3clust3':FS_k3clust3corr},index=['Aghourian_FEOBV', 'Bedard_FEOBV', 'Tuominen_FEOBV', 'M1', 'nAchRs'])\n",
    "FS_gradcorr_df = pd.DataFrame({'Grad1':FS_grad1_corr,'Grad2':FS_grad2_corr},index=['Aghourian_FEOBV', 'Bedard_FEOBV', 'Tuominen_FEOBV', 'M1', 'nAchRs'])\n",
    "FS_grad25corr_df = pd.DataFrame({'Grad1 upper 25%':FS_grad1_upper25_corr, 'Grad1 lower 25%':FS_grad1_lower25_corr, 'Grad2 upper 25%':FS_grad2_upper25_corr, 'Grad2 lower 25%':FS_grad2_lower25_corr},index=['Aghourian_FEOBV', 'Bedard_FEOBV', 'Tuominen_FEOBV', 'M1', 'nAchRs'])"
   ]
  },
  {
   "cell_type": "code",
   "execution_count": 149,
   "id": "27f9b926-38ed-498b-beca-3ecf44e82f42",
   "metadata": {},
   "outputs": [],
   "source": [
    "pd.DataFrame(FS_k3clustcorr_df).to_csv(results_path + 'Func_Schaefer_k3clust_corr.csv')\n",
    "pd.DataFrame(FS_gradcorr_df).to_csv(results_path + 'Func_Schaefer_Grad_corr.csv')\n",
    "pd.DataFrame(FS_grad25corr_df).to_csv(results_path + 'Func_Schaefer_Grad25_corr.csv')"
   ]
  },
  {
   "cell_type": "code",
   "execution_count": 81,
   "id": "aee0cca3-8d16-4d8c-90cc-3ad6d9398774",
   "metadata": {},
   "outputs": [],
   "source": [
    "# FS_k3clustcorr_df = pd.read_csv(results_path + 'Func_Schaefer_k3clust_corr.csv')\n",
    "# FS_gradcorr_df = pd.read_csv(results_path + 'Func_Schaefer_Grad_corr.csv')\n",
    "# FS_grad25corr_df = pd.read_csv(results_path + 'Func_Schaefer_Grad25_corr.csv')"
   ]
  },
  {
   "cell_type": "code",
   "execution_count": 150,
   "id": "8ec80ed8-1f32-4999-9285-48a9f830b1e2",
   "metadata": {},
   "outputs": [
    {
     "data": {
      "image/png": "[encoded data removed]",
      "text/plain": [
       "<Figure size 432x288 with 1 Axes>"
      ]
     },
     "metadata": {
      "needs_background": "light"
     },
     "output_type": "display_data"
    }
   ],
   "source": [
    "ax = FS_k3clustcorr_df.plot(kind='bar', color=['r','g', 'b'], fontsize=12) \n",
    "for p in ax.patches:\n",
    "    ax.set_ylabel('pearson correlation',fontsize=12)\n",
    "    ax.set_title('Functional Schaefer k-3 cluster', fontsize=16)\n",
    "#     ax.legend(loc='center left', bbox_to_anchor=(1.0, 0.9))\n",
    "ax.figure.savefig(fig_path+'Func_Schaefer_k-3cluster_comp.png', dpi=300)"
   ]
  },
  {
   "cell_type": "code",
   "execution_count": 151,
   "id": "03f98d28-6178-416f-99fe-7fcc3d872f9c",
   "metadata": {},
   "outputs": [
    {
     "data": {
      "image/png": "[encoded data removed]",
      "text/plain": [
       "<Figure size 432x288 with 1 Axes>"
      ]
     },
     "metadata": {
      "needs_background": "light"
     },
     "output_type": "display_data"
    }
   ],
   "source": [
    "ax = FS_gradcorr_df.plot(kind='bar', color=['y', 'c',]) \n",
    "x_offset = -0.5\n",
    "y_offset = 0.5\n",
    "for p in ax.patches:\n",
    "    b = p.get_bbox()\n",
    "    val = \"{:+.2f}\".format(b.y1 + b.y0)        \n",
    "    ax.annotate(val, ((b.x0 + b.x1)/2 + x_offset, b.y1 + y_offset))\n",
    "    ax.set_ylabel('pearson correlation')\n",
    "    ax.set_title('Functional Schaefer Gradients', fontsize=16)\n",
    "ax.figure.savefig(fig_path+'Func_Schaefer_Gradients_comp.png', dpi=300)"
   ]
  },
  {
   "cell_type": "code",
   "execution_count": 152,
   "id": "2d7ae9fd-7e60-4c56-a982-ffa6f1078680",
   "metadata": {},
   "outputs": [
    {
     "data": {
      "image/png": "[encoded data removed]",
      "text/plain": [
       "<Figure size 432x288 with 1 Axes>"
      ]
     },
     "metadata": {
      "needs_background": "light"
     },
     "output_type": "display_data"
    }
   ],
   "source": [
    "ax = FS_grad25corr_df.plot(kind='bar', color=['r','b', 'g', 'm']) \n",
    "x_offset = -1\n",
    "y_offset = 1\n",
    "for p in ax.patches:\n",
    "    b = p.get_bbox()\n",
    "    val = \"{:+.2f}\".format(b.y1 + b.y0)        \n",
    "    ax.annotate(val, ((b.x0 + b.x1)/2 + x_offset, b.y1 + y_offset))\n",
    "    ax.legend(loc='center left', bbox_to_anchor=(1.0, 0.9))\n",
    "    ax.set_ylabel('pearson correlation')\n",
    "    ax.set_title('Functional Schaefer Gradient 25%', fontsize=16)\n",
    "ax.figure.savefig(fig_path+'Func_Schaefer_Gradients_25%_comp.png', dpi=300)"
   ]
  },
  {
   "cell_type": "markdown",
   "id": "2887917a-5322-4ecc-82ab-507dec0010a2",
   "metadata": {},
   "source": [
    "### Spatial Null models"
   ]
  },
  {
   "cell_type": "code",
   "execution_count": 153,
   "id": "f5556ba9-d7c2-4242-b00d-268dafddd2b3",
   "metadata": {},
   "outputs": [],
   "source": [
    "alex_aghourian_rotated = nulls.alexander_bloch(Aghourian_FEOBV_fslr, atlas='fslr', density='32k', n_perm=100, seed=1234)\n",
    "alex_bedard_rotated = nulls.alexander_bloch(Bedard_FEOBV_fslr, atlas='fslr', density='32k', n_perm=100, seed=1234)\n",
    "alex_touminen_rotated = nulls.alexander_bloch(Tuominen_FEOBV_fslr, atlas='fslr', density='32k', n_perm=100, seed=1234)\n",
    "alex_M1_rotated = nulls.alexander_bloch(M1_fslr, atlas='fslr', density='32k', n_perm=100, seed=1234)\n",
    "alex_nAchRs_rotated = nulls.alexander_bloch(nAchRs_fslr, atlas='fslr', density='32k', n_perm=100, seed=1234)"
   ]
  },
  {
   "cell_type": "code",
   "execution_count": 154,
   "id": "c40cc0f0-33c3-4f4a-9fa6-5d4f45ea4ca8",
   "metadata": {},
   "outputs": [],
   "source": [
    "alex_tr_aghourian_rotated = nulls.alexander_bloch(Tr_Aghourian_FEOBV_fslr, atlas='fslr', density='32k', n_perm=100, seed=1234)\n",
    "alex_tr_bedard_rotated = nulls.alexander_bloch(Tr_Bedard_FEOBV_fslr, atlas='fslr', density='32k', n_perm=100, seed=1234)\n",
    "alex_tr_touminen_rotated = nulls.alexander_bloch(Tr_Tuominen_FEOBV_fslr, atlas='fslr', density='32k', n_perm=100, seed=1234)\n",
    "alex_tr_M1_rotated = nulls.alexander_bloch(Tr_M1_fslr, atlas='fslr', density='32k', n_perm=100, seed=1234)\n",
    "alex_tr_nAchRs_rotated = nulls.alexander_bloch(Tr_nAchRs_fslr, atlas='fslr', density='32k', n_perm=100, seed=1234)"
   ]
  },
  {
   "cell_type": "code",
   "execution_count": 155,
   "id": "e753a60f-0bcb-4e7f-88f5-eaa7a6968f17",
   "metadata": {},
   "outputs": [],
   "source": [
    "# Compare with Aghourian_FEOBV\n",
    "Aghourian_k3clust1corr, Aghourian_k3clust1pval = stats.compare_images(Aghourian_FEOBV_fslr, k3clust1, nulls=alex_aghourian_rotated)\n",
    "Aghourian_k3clust2corr, Aghourian_k3clust2pval = stats.compare_images(Aghourian_FEOBV_fslr, k3clust2, nulls=alex_aghourian_rotated)\n",
    "Aghourian_k3clust3corr, Aghourian_k3clust3pval = stats.compare_images(Aghourian_FEOBV_fslr, k3clust3, nulls=alex_aghourian_rotated)\n",
    "\n",
    "Aghourian_G1corr, Aghourian_G1pval = stats.compare_images(Aghourian_FEOBV_fslr, grad1, nulls=alex_aghourian_rotated)\n",
    "Aghourian_G2corr, Aghourian_G2pval = stats.compare_images(Aghourian_FEOBV_fslr, grad2, nulls=alex_aghourian_rotated)\n",
    "\n",
    "Aghourian_G1upper25corr, Aghourian_G1upper25pval = stats.compare_images(Tr_Aghourian_FEOBV_fslr, grad1_upper25, nulls=alex_tr_aghourian_rotated)\n",
    "Aghourian_G1lower25corr, Aghourian_G1lower25pval = stats.compare_images(Tr_Aghourian_FEOBV_fslr, grad1_lower25, nulls=alex_tr_aghourian_rotated)\n",
    "Aghourian_G2upper25corr, Aghourian_G2upper25pval = stats.compare_images(Tr_Aghourian_FEOBV_fslr, grad2_upper25, nulls=alex_tr_aghourian_rotated)\n",
    "Aghourian_G2lower25corr, Aghourian_G2lower25pval = stats.compare_images(Tr_Aghourian_FEOBV_fslr, grad2_lower25, nulls=alex_tr_aghourian_rotated)"
   ]
  },
  {
   "cell_type": "code",
   "execution_count": 156,
   "id": "1397e6f5-a4ca-4f1d-859f-ed1c87b35d72",
   "metadata": {},
   "outputs": [],
   "source": [
    "# Compare with Bedard_FEOBV\n",
    "Bedard_k3clust1corr, Bedard_k3clust1pval = stats.compare_images(Bedard_FEOBV_fslr, k3clust1, nulls=alex_bedard_rotated)\n",
    "Bedard_k3clust2corr, Bedard_k3clust2pval = stats.compare_images(Bedard_FEOBV_fslr, k3clust2, nulls=alex_bedard_rotated)\n",
    "Bedard_k3clust3corr, Bedard_k3clust3pval = stats.compare_images(Bedard_FEOBV_fslr, k3clust3, nulls=alex_bedard_rotated)\n",
    "\n",
    "Bedard_G1corr, Bedard_G1pval = stats.compare_images(Bedard_FEOBV_fslr, grad1, nulls=alex_bedard_rotated)\n",
    "Bedard_G2corr, Bedard_G2pval = stats.compare_images(Bedard_FEOBV_fslr, grad2, nulls=alex_bedard_rotated)\n",
    "\n",
    "Bedard_G1upper25corr, Bedard_G1upper25pval = stats.compare_images(Tr_Bedard_FEOBV_fslr, grad1_upper25, nulls=alex_tr_bedard_rotated)\n",
    "Bedard_G1lower25corr, Bedard_G1lower25pval = stats.compare_images(Tr_Bedard_FEOBV_fslr, grad1_lower25, nulls=alex_tr_bedard_rotated)\n",
    "Bedard_G2upper25corr, Bedard_G2upper25pval = stats.compare_images(Tr_Bedard_FEOBV_fslr, grad2_upper25, nulls=alex_tr_bedard_rotated)\n",
    "Bedard_G2lower25corr, Bedard_G2lower25pval = stats.compare_images(Tr_Bedard_FEOBV_fslr, grad2_lower25, nulls=alex_tr_bedard_rotated)"
   ]
  },
  {
   "cell_type": "code",
   "execution_count": 157,
   "id": "780b8504-29de-4996-ad9e-bca3bb978157",
   "metadata": {},
   "outputs": [],
   "source": [
    "# Compare with Tuominen_FEOBV\n",
    "Tuominen_k3clust1corr, Tuominen_k3clust1pval = stats.compare_images(Tuominen_FEOBV_fslr, k3clust1, nulls=alex_touminen_rotated)\n",
    "Tuominen_k3clust2corr, Tuominen_k3clust2pval = stats.compare_images(Tuominen_FEOBV_fslr, k3clust2, nulls=alex_touminen_rotated)\n",
    "Tuominen_k3clust3corr, Tuominen_k3clust3pval = stats.compare_images(Tuominen_FEOBV_fslr, k3clust3, nulls=alex_touminen_rotated)\n",
    "\n",
    "Tuominen_G1corr, Tuominen_G1pval = stats.compare_images(Tuominen_FEOBV_fslr, grad1, nulls=alex_touminen_rotated)\n",
    "Tuominen_G2corr, Tuominen_G2pval = stats.compare_images(Tuominen_FEOBV_fslr, grad2, nulls=alex_touminen_rotated)\n",
    "\n",
    "Tuominen_G1upper25corr, Tuominen_G1upper25pval = stats.compare_images(Tr_Tuominen_FEOBV_fslr, grad1_upper25, nulls=alex_tr_touminen_rotated)\n",
    "Tuominen_G1lower25corr, Tuominen_G1lower25pval = stats.compare_images(Tr_Tuominen_FEOBV_fslr, grad1_lower25, nulls=alex_tr_touminen_rotated)\n",
    "Tuominen_G2upper25corr, Tuominen_G2upper25pval = stats.compare_images(Tr_Tuominen_FEOBV_fslr, grad2_upper25, nulls=alex_tr_touminen_rotated)\n",
    "Tuominen_G2lower25corr, Tuominen_G2lower25pval = stats.compare_images(Tr_Tuominen_FEOBV_fslr, grad2_lower25, nulls=alex_tr_touminen_rotated)"
   ]
  },
  {
   "cell_type": "code",
   "execution_count": 158,
   "id": "b37844fe-64b4-47ed-8213-bc1dbce352d0",
   "metadata": {},
   "outputs": [],
   "source": [
    "# Compare with M1\n",
    "M1_k3clust1corr, M1_k3clust1pval = stats.compare_images(M1_fslr, k3clust1, nulls=alex_M1_rotated)\n",
    "M1_k3clust2corr, M1_k3clust2pval = stats.compare_images(M1_fslr, k3clust2, nulls=alex_M1_rotated)\n",
    "M1_k3clust3corr, M1_k3clust3pval = stats.compare_images(M1_fslr, k3clust3, nulls=alex_M1_rotated)\n",
    "\n",
    "M1_G1corr, M1_G1pval = stats.compare_images(M1_fslr, grad1, nulls=alex_M1_rotated)\n",
    "M1_G2corr, M1_G2pval = stats.compare_images(M1_fslr, grad2, nulls=alex_M1_rotated)\n",
    "\n",
    "M1_G1upper25corr, M1_G1upper25pval = stats.compare_images(Tr_M1_fslr, grad1_upper25, nulls=alex_tr_M1_rotated)\n",
    "M1_G1lower25corr, M1_G1lower25pval = stats.compare_images(Tr_M1_fslr, grad1_lower25, nulls=alex_tr_M1_rotated)\n",
    "M1_G2upper25corr, M1_G2upper25pval = stats.compare_images(Tr_M1_fslr, grad2_upper25, nulls=alex_tr_M1_rotated)\n",
    "M1_G2lower25corr, M1_G2lower25pval = stats.compare_images(Tr_M1_fslr, grad2_lower25, nulls=alex_tr_M1_rotated)"
   ]
  },
  {
   "cell_type": "code",
   "execution_count": 159,
   "id": "b013da20-2301-4bdc-ab72-7eac88327237",
   "metadata": {},
   "outputs": [],
   "source": [
    "# Compare with nAchRs\n",
    "nAchRs_k3clust1corr, nAchRs_k3clust1pval = stats.compare_images(nAchRs_fslr, k3clust1, nulls=alex_nAchRs_rotated)\n",
    "nAchRs_k3clust2corr, nAchRs_k3clust2pval = stats.compare_images(nAchRs_fslr, k3clust2, nulls=alex_nAchRs_rotated)\n",
    "nAchRs_k3clust3corr, nAchRs_k3clust3pval = stats.compare_images(nAchRs_fslr, k3clust3, nulls=alex_nAchRs_rotated)\n",
    "\n",
    "nAchRs_G1corr, nAchRs_G1pval = stats.compare_images(nAchRs_fslr, grad1, nulls=alex_nAchRs_rotated)\n",
    "nAchRs_G2corr, nAchRs_G2pval = stats.compare_images(nAchRs_fslr, grad2, nulls=alex_nAchRs_rotated)\n",
    "\n",
    "nAchRs_G1upper25corr, nAchRs_G1upper25pval = stats.compare_images(Tr_nAchRs_fslr, grad1_upper25, nulls=alex_tr_nAchRs_rotated)\n",
    "nAchRs_G1lower25corr, nAchRs_G1lower25pval = stats.compare_images(Tr_nAchRs_fslr, grad1_lower25, nulls=alex_tr_nAchRs_rotated)\n",
    "nAchRs_G2upper25corr, nAchRs_G2upper25pval = stats.compare_images(Tr_nAchRs_fslr, grad2_upper25, nulls=alex_tr_nAchRs_rotated)\n",
    "nAchRs_G2lower25corr, nAchRs_G2lower25pval = stats.compare_images(Tr_nAchRs_fslr, grad2_lower25, nulls=alex_tr_nAchRs_rotated)"
   ]
  },
  {
   "cell_type": "code",
   "execution_count": 62,
   "id": "23da8312-0ca8-4d27-8cda-0ce7c86c059b",
   "metadata": {},
   "outputs": [
    {
     "name": "stdout",
     "output_type": "stream",
     "text": [
      "0.22324420511722565 0.9504950495049505\n"
     ]
    }
   ],
   "source": [
    "print(nAchRs_G2lower25corr, nAchRs_G1upper25pval)"
   ]
  },
  {
   "cell_type": "code",
   "execution_count": 160,
   "id": "bcdb4f2f-9db5-4c8d-83c7-a9855aa708d6",
   "metadata": {},
   "outputs": [],
   "source": [
    "FS_null_k3clust1corr = [Aghourian_k3clust1corr, Bedard_k3clust1corr, Tuominen_k3clust1corr, M1_k3clust1corr, nAchRs_k3clust1corr]\n",
    "FS_null_k3clust2corr = [Aghourian_k3clust2corr, Bedard_k3clust2corr, Tuominen_k3clust2corr, M1_k3clust2corr, nAchRs_k3clust2corr]\n",
    "FS_null_k3clust3corr = [Aghourian_k3clust3corr, Bedard_k3clust3corr, Tuominen_k3clust3corr, M1_k3clust3corr, nAchRs_k3clust3corr]\n",
    "\n",
    "FS_null_grad1_corr = [Aghourian_G1corr, Bedard_G1corr, Tuominen_G1corr, M1_G1corr, nAchRs_G1corr]\n",
    "FS_null_grad2_corr = [Aghourian_G2corr, Bedard_G2corr, Tuominen_G2corr, M1_G2corr, nAchRs_G2corr]\n",
    "\n",
    "FS_null_grad1_upper25_corr = [Aghourian_G1upper25corr, Bedard_G1upper25corr, Tuominen_G1upper25corr, M1_G1upper25corr, nAchRs_G1upper25corr]\n",
    "FS_null_grad1_lower25_corr = [Aghourian_G1lower25corr, Bedard_G1lower25corr, Tuominen_G1lower25corr, M1_G1lower25corr, nAchRs_G1lower25corr]\n",
    "FS_null_grad2_upper25_corr = [Aghourian_G2upper25corr, Bedard_G2upper25corr, Tuominen_G2upper25corr, M1_G2upper25corr, nAchRs_G2upper25corr]\n",
    "FS_null_grad2_lower25_corr = [Aghourian_G2lower25corr, Bedard_G2lower25corr, Tuominen_G2lower25corr, M1_G2lower25corr, nAchRs_G2lower25corr]"
   ]
  },
  {
   "cell_type": "code",
   "execution_count": 161,
   "id": "cfeb8ce7-b780-4569-9d9a-2aa2b4031ff0",
   "metadata": {},
   "outputs": [],
   "source": [
    "FS_null_k3clust1pval = [Aghourian_k3clust1pval, Bedard_k3clust1pval, Tuominen_k3clust1pval, M1_k3clust1pval, nAchRs_k3clust1pval]\n",
    "FS_null_k3clust2pval = [Aghourian_k3clust2pval, Bedard_k3clust2pval, Tuominen_k3clust2pval, M1_k3clust2pval, nAchRs_k3clust2pval]\n",
    "FS_null_k3clust3pval = [Aghourian_k3clust3pval, Bedard_k3clust3pval, Tuominen_k3clust3pval, M1_k3clust3pval, nAchRs_k3clust3pval]\n",
    "\n",
    "FS_null_grad1_pval = [Aghourian_G1pval, Bedard_G1pval, Tuominen_G1pval, M1_G1pval, nAchRs_G1pval]\n",
    "FS_null_grad2_pval = [Aghourian_G2pval, Bedard_G2pval, Tuominen_G2pval, M1_G2pval, nAchRs_G2pval]\n",
    "\n",
    "FS_null_grad1_upper25_pval = [Aghourian_G1upper25pval, Bedard_G1upper25pval, Tuominen_G1upper25pval, M1_G1upper25pval, nAchRs_G1upper25pval]\n",
    "FS_null_grad1_lower25_pval = [Aghourian_G1lower25pval, Bedard_G1lower25pval, Tuominen_G1lower25pval, M1_G1lower25pval, nAchRs_G1lower25pval]\n",
    "FS_null_grad2_upper25_pval = [Aghourian_G2upper25pval, Bedard_G2upper25pval, Tuominen_G2upper25pval, M1_G2upper25pval, nAchRs_G2upper25pval]\n",
    "FS_null_grad2_lower25_pval = [Aghourian_G2lower25pval, Bedard_G2lower25pval, Tuominen_G2lower25pval, M1_G2lower25pval, nAchRs_G2lower25pval]"
   ]
  },
  {
   "cell_type": "code",
   "execution_count": 162,
   "id": "f808c950-99b0-4311-8033-209270608f30",
   "metadata": {},
   "outputs": [],
   "source": [
    "FS_null_k3clustcorr_df = pd.DataFrame({'k3clust1corr':FS_null_k3clust1corr, 'k3clust1pval':FS_null_k3clust1pval, 'k3clust2corr':FS_null_k3clust2corr, 'k3clust2pval':FS_null_k3clust2pval,'k3clust3corr':FS_null_k3clust3corr, 'k3clust3pval':FS_null_k3clust3pval},index=['Aghourian_FEOBV', 'Bedard_FEOBV', 'Tuominen_FEOBV', 'M1', 'nAchRs'])\n",
    "FS_null_gradcorr_df = pd.DataFrame({'Grad1corr':FS_null_grad1_corr, 'Grad1pval':FS_null_grad1_pval, 'Grad2corr':FS_null_grad2_corr, 'Grad2pval':FS_null_grad2_pval},index=['Aghourian_FEOBV', 'Bedard_FEOBV', 'Tuominen_FEOBV', 'M1', 'nAchRs'])\n",
    "FS_null_grad25corr_df = pd.DataFrame({'Grad1 upper 25% corr':FS_null_grad1_upper25_corr, 'Grad1 upper 25% pval':FS_null_grad1_upper25_pval, 'Grad1 lower 25% corr':FS_null_grad1_lower25_corr, 'Grad1 lower 25% pval':FS_null_grad1_lower25_pval, 'Grad2 upper 25% corr':FS_null_grad2_upper25_corr, 'Grad2 upper 25% pval':FS_null_grad2_upper25_pval, 'Grad2 lower 25% corr':FS_null_grad2_lower25_corr, 'Grad2 lower 25% pval':FS_null_grad2_lower25_pval},index=['Aghourian_FEOBV', 'Bedard_FEOBV', 'Tuominen_FEOBV', 'M1', 'nAchRs'])"
   ]
  },
  {
   "cell_type": "code",
   "execution_count": 163,
   "id": "627b5c42-ba76-4f5c-8df6-5b436f25e6a1",
   "metadata": {},
   "outputs": [
    {
     "data": {
      "text/html": [
       "<div>\n",
       "<style scoped>\n",
       "    .dataframe tbody tr th:only-of-type {\n",
       "        vertical-align: middle;\n",
       "    }\n",
       "\n",
       "    .dataframe tbody tr th {\n",
       "        vertical-align: top;\n",
       "    }\n",
       "\n",
       "    .dataframe thead th {\n",
       "        text-align: right;\n",
       "    }\n",
       "</style>\n",
       "<table border=\"1\" class=\"dataframe\">\n",
       "  <thead>\n",
       "    <tr style=\"text-align: right;\">\n",
       "      <th></th>\n",
       "      <th>k3clust1corr</th>\n",
       "      <th>k3clust1pval</th>\n",
       "      <th>k3clust2corr</th>\n",
       "      <th>k3clust2pval</th>\n",
       "      <th>k3clust3corr</th>\n",
       "      <th>k3clust3pval</th>\n",
       "    </tr>\n",
       "  </thead>\n",
       "  <tbody>\n",
       "    <tr>\n",
       "      <th>Aghourian_FEOBV</th>\n",
       "      <td>0.031729</td>\n",
       "      <td>0.881188</td>\n",
       "      <td>0.320856</td>\n",
       "      <td>0.039604</td>\n",
       "      <td>-0.038358</td>\n",
       "      <td>0.831683</td>\n",
       "    </tr>\n",
       "    <tr>\n",
       "      <th>Bedard_FEOBV</th>\n",
       "      <td>0.202449</td>\n",
       "      <td>0.257426</td>\n",
       "      <td>0.383332</td>\n",
       "      <td>0.009901</td>\n",
       "      <td>0.033890</td>\n",
       "      <td>0.811881</td>\n",
       "    </tr>\n",
       "    <tr>\n",
       "      <th>Tuominen_FEOBV</th>\n",
       "      <td>0.159793</td>\n",
       "      <td>0.425743</td>\n",
       "      <td>0.370126</td>\n",
       "      <td>0.009901</td>\n",
       "      <td>0.056407</td>\n",
       "      <td>0.732673</td>\n",
       "    </tr>\n",
       "    <tr>\n",
       "      <th>M1</th>\n",
       "      <td>-0.121115</td>\n",
       "      <td>0.544554</td>\n",
       "      <td>-0.050554</td>\n",
       "      <td>0.742574</td>\n",
       "      <td>-0.129600</td>\n",
       "      <td>0.346535</td>\n",
       "    </tr>\n",
       "    <tr>\n",
       "      <th>nAchRs</th>\n",
       "      <td>-0.193537</td>\n",
       "      <td>0.089109</td>\n",
       "      <td>-0.036102</td>\n",
       "      <td>0.683168</td>\n",
       "      <td>-0.226991</td>\n",
       "      <td>0.069307</td>\n",
       "    </tr>\n",
       "  </tbody>\n",
       "</table>\n",
       "</div>"
      ],
      "text/plain": [
       "                 k3clust1corr  k3clust1pval  k3clust2corr  k3clust2pval  \\\n",
       "Aghourian_FEOBV      0.031729      0.881188      0.320856      0.039604   \n",
       "Bedard_FEOBV         0.202449      0.257426      0.383332      0.009901   \n",
       "Tuominen_FEOBV       0.159793      0.425743      0.370126      0.009901   \n",
       "M1                  -0.121115      0.544554     -0.050554      0.742574   \n",
       "nAchRs              -0.193537      0.089109     -0.036102      0.683168   \n",
       "\n",
       "                 k3clust3corr  k3clust3pval  \n",
       "Aghourian_FEOBV     -0.038358      0.831683  \n",
       "Bedard_FEOBV         0.033890      0.811881  \n",
       "Tuominen_FEOBV       0.056407      0.732673  \n",
       "M1                  -0.129600      0.346535  \n",
       "nAchRs              -0.226991      0.069307  "
      ]
     },
     "execution_count": 163,
     "metadata": {},
     "output_type": "execute_result"
    }
   ],
   "source": [
    "FS_null_k3clustcorr_df"
   ]
  },
  {
   "cell_type": "code",
   "execution_count": 164,
   "id": "aa987ef4-e0ec-4861-84d2-db47f90a7a99",
   "metadata": {},
   "outputs": [
    {
     "data": {
      "image/png": "[encoded data removed]",
      "text/plain": [
       "<Figure size 432x288 with 1 Axes>"
      ]
     },
     "metadata": {
      "needs_background": "light"
     },
     "output_type": "display_data"
    }
   ],
   "source": [
    "ax = FS_null_k3clustcorr_df[['k3clust1corr','k3clust2corr', 'k3clust3corr']].plot(kind='bar', color=['r','g', 'b'], fontsize=12) \n",
    "for p in ax.patches:\n",
    "    ax.set_ylabel('pearson correlation',fontsize=12)\n",
    "    ax.set_title('Functional Schaefer null model k-3 cluster', fontsize=16)\n",
    "#     ax.legend(loc='center left', bbox_to_anchor=(1.0, 0.9))\n",
    "ax.figure.savefig(fig_path+'Func_Schaefer_null_k-3cluster_comp.png', dpi=300)"
   ]
  },
  {
   "cell_type": "code",
   "execution_count": 165,
   "id": "234faf03-c714-4a66-923f-7476454c0715",
   "metadata": {},
   "outputs": [
    {
     "data": {
      "text/html": [
       "<div>\n",
       "<style scoped>\n",
       "    .dataframe tbody tr th:only-of-type {\n",
       "        vertical-align: middle;\n",
       "    }\n",
       "\n",
       "    .dataframe tbody tr th {\n",
       "        vertical-align: top;\n",
       "    }\n",
       "\n",
       "    .dataframe thead th {\n",
       "        text-align: right;\n",
       "    }\n",
       "</style>\n",
       "<table border=\"1\" class=\"dataframe\">\n",
       "  <thead>\n",
       "    <tr style=\"text-align: right;\">\n",
       "      <th></th>\n",
       "      <th>Grad1corr</th>\n",
       "      <th>Grad1pval</th>\n",
       "      <th>Grad2corr</th>\n",
       "      <th>Grad2pval</th>\n",
       "    </tr>\n",
       "  </thead>\n",
       "  <tbody>\n",
       "    <tr>\n",
       "      <th>Aghourian_FEOBV</th>\n",
       "      <td>0.197948</td>\n",
       "      <td>0.069307</td>\n",
       "      <td>-0.093380</td>\n",
       "      <td>0.376238</td>\n",
       "    </tr>\n",
       "    <tr>\n",
       "      <th>Bedard_FEOBV</th>\n",
       "      <td>0.169375</td>\n",
       "      <td>0.118812</td>\n",
       "      <td>0.048044</td>\n",
       "      <td>0.693069</td>\n",
       "    </tr>\n",
       "    <tr>\n",
       "      <th>Tuominen_FEOBV</th>\n",
       "      <td>0.161977</td>\n",
       "      <td>0.198020</td>\n",
       "      <td>-0.110231</td>\n",
       "      <td>0.326733</td>\n",
       "    </tr>\n",
       "    <tr>\n",
       "      <th>M1</th>\n",
       "      <td>0.052424</td>\n",
       "      <td>0.623762</td>\n",
       "      <td>0.135159</td>\n",
       "      <td>0.237624</td>\n",
       "    </tr>\n",
       "    <tr>\n",
       "      <th>nAchRs</th>\n",
       "      <td>0.130237</td>\n",
       "      <td>0.257426</td>\n",
       "      <td>0.160909</td>\n",
       "      <td>0.128713</td>\n",
       "    </tr>\n",
       "  </tbody>\n",
       "</table>\n",
       "</div>"
      ],
      "text/plain": [
       "                 Grad1corr  Grad1pval  Grad2corr  Grad2pval\n",
       "Aghourian_FEOBV   0.197948   0.069307  -0.093380   0.376238\n",
       "Bedard_FEOBV      0.169375   0.118812   0.048044   0.693069\n",
       "Tuominen_FEOBV    0.161977   0.198020  -0.110231   0.326733\n",
       "M1                0.052424   0.623762   0.135159   0.237624\n",
       "nAchRs            0.130237   0.257426   0.160909   0.128713"
      ]
     },
     "execution_count": 165,
     "metadata": {},
     "output_type": "execute_result"
    }
   ],
   "source": [
    "FS_null_gradcorr_df"
   ]
  },
  {
   "cell_type": "code",
   "execution_count": 166,
   "id": "d5993fcc-db68-4d96-ac58-dad6a512d00f",
   "metadata": {},
   "outputs": [
    {
     "data": {
      "image/png": "[encoded data removed]",
      "text/plain": [
       "<Figure size 432x288 with 1 Axes>"
      ]
     },
     "metadata": {
      "needs_background": "light"
     },
     "output_type": "display_data"
    }
   ],
   "source": [
    "ax = FS_null_gradcorr_df[['Grad1corr','Grad2corr']].plot(kind='bar', color=['y', 'c',]) \n",
    "x_offset = -0.5\n",
    "y_offset = 0.5\n",
    "for p in ax.patches:\n",
    "    b = p.get_bbox()\n",
    "    val = \"{:+.2f}\".format(b.y1 + b.y0)        \n",
    "    ax.annotate(val, ((b.x0 + b.x1)/2 + x_offset, b.y1 + y_offset))\n",
    "    ax.set_ylabel('pearson correlation')\n",
    "    ax.set_title('Functional Schaefer null model Gradients', fontsize=16)\n",
    "ax.figure.savefig(fig_path+'Func_Schaefer_null_Gradients_comp.png', dpi=300)"
   ]
  },
  {
   "cell_type": "code",
   "execution_count": 167,
   "id": "3b4914ff-ee94-4e72-a3b9-9b932c4bd033",
   "metadata": {},
   "outputs": [
    {
     "data": {
      "text/html": [
       "<div>\n",
       "<style scoped>\n",
       "    .dataframe tbody tr th:only-of-type {\n",
       "        vertical-align: middle;\n",
       "    }\n",
       "\n",
       "    .dataframe tbody tr th {\n",
       "        vertical-align: top;\n",
       "    }\n",
       "\n",
       "    .dataframe thead th {\n",
       "        text-align: right;\n",
       "    }\n",
       "</style>\n",
       "<table border=\"1\" class=\"dataframe\">\n",
       "  <thead>\n",
       "    <tr style=\"text-align: right;\">\n",
       "      <th></th>\n",
       "      <th>Grad1 upper 25% corr</th>\n",
       "      <th>Grad1 upper 25% pval</th>\n",
       "      <th>Grad1 lower 25% corr</th>\n",
       "      <th>Grad1 lower 25% pval</th>\n",
       "      <th>Grad2 upper 25% corr</th>\n",
       "      <th>Grad2 upper 25% pval</th>\n",
       "      <th>Grad2 lower 25% corr</th>\n",
       "      <th>Grad2 lower 25% pval</th>\n",
       "    </tr>\n",
       "  </thead>\n",
       "  <tbody>\n",
       "    <tr>\n",
       "      <th>Aghourian_FEOBV</th>\n",
       "      <td>0.299074</td>\n",
       "      <td>0.039604</td>\n",
       "      <td>-0.027955</td>\n",
       "      <td>0.792079</td>\n",
       "      <td>0.285337</td>\n",
       "      <td>0.118812</td>\n",
       "      <td>0.325982</td>\n",
       "      <td>0.009901</td>\n",
       "    </tr>\n",
       "    <tr>\n",
       "      <th>Bedard_FEOBV</th>\n",
       "      <td>0.349451</td>\n",
       "      <td>0.009901</td>\n",
       "      <td>-0.136679</td>\n",
       "      <td>0.396040</td>\n",
       "      <td>0.203977</td>\n",
       "      <td>0.306931</td>\n",
       "      <td>0.170682</td>\n",
       "      <td>0.267327</td>\n",
       "    </tr>\n",
       "    <tr>\n",
       "      <th>Tuominen_FEOBV</th>\n",
       "      <td>0.268269</td>\n",
       "      <td>0.178218</td>\n",
       "      <td>-0.119095</td>\n",
       "      <td>0.544554</td>\n",
       "      <td>0.159082</td>\n",
       "      <td>0.534653</td>\n",
       "      <td>0.109669</td>\n",
       "      <td>0.534653</td>\n",
       "    </tr>\n",
       "    <tr>\n",
       "      <th>M1</th>\n",
       "      <td>0.055023</td>\n",
       "      <td>0.643564</td>\n",
       "      <td>-0.044769</td>\n",
       "      <td>0.623762</td>\n",
       "      <td>0.012199</td>\n",
       "      <td>0.881188</td>\n",
       "      <td>-0.003405</td>\n",
       "      <td>0.980198</td>\n",
       "    </tr>\n",
       "    <tr>\n",
       "      <th>nAchRs</th>\n",
       "      <td>0.011757</td>\n",
       "      <td>0.950495</td>\n",
       "      <td>0.171208</td>\n",
       "      <td>0.168317</td>\n",
       "      <td>0.341763</td>\n",
       "      <td>0.029703</td>\n",
       "      <td>0.223244</td>\n",
       "      <td>0.118812</td>\n",
       "    </tr>\n",
       "  </tbody>\n",
       "</table>\n",
       "</div>"
      ],
      "text/plain": [
       "                 Grad1 upper 25% corr  Grad1 upper 25% pval  \\\n",
       "Aghourian_FEOBV              0.299074              0.039604   \n",
       "Bedard_FEOBV                 0.349451              0.009901   \n",
       "Tuominen_FEOBV               0.268269              0.178218   \n",
       "M1                           0.055023              0.643564   \n",
       "nAchRs                       0.011757              0.950495   \n",
       "\n",
       "                 Grad1 lower 25% corr  Grad1 lower 25% pval  \\\n",
       "Aghourian_FEOBV             -0.027955              0.792079   \n",
       "Bedard_FEOBV                -0.136679              0.396040   \n",
       "Tuominen_FEOBV              -0.119095              0.544554   \n",
       "M1                          -0.044769              0.623762   \n",
       "nAchRs                       0.171208              0.168317   \n",
       "\n",
       "                 Grad2 upper 25% corr  Grad2 upper 25% pval  \\\n",
       "Aghourian_FEOBV              0.285337              0.118812   \n",
       "Bedard_FEOBV                 0.203977              0.306931   \n",
       "Tuominen_FEOBV               0.159082              0.534653   \n",
       "M1                           0.012199              0.881188   \n",
       "nAchRs                       0.341763              0.029703   \n",
       "\n",
       "                 Grad2 lower 25% corr  Grad2 lower 25% pval  \n",
       "Aghourian_FEOBV              0.325982              0.009901  \n",
       "Bedard_FEOBV                 0.170682              0.267327  \n",
       "Tuominen_FEOBV               0.109669              0.534653  \n",
       "M1                          -0.003405              0.980198  \n",
       "nAchRs                       0.223244              0.118812  "
      ]
     },
     "execution_count": 167,
     "metadata": {},
     "output_type": "execute_result"
    }
   ],
   "source": [
    "FS_null_grad25corr_df"
   ]
  },
  {
   "cell_type": "code",
   "execution_count": 168,
   "id": "954b5e87-0812-4964-aee2-5c4179dbe36e",
   "metadata": {},
   "outputs": [
    {
     "data": {
      "image/png": "[encoded data removed]",
      "text/plain": [
       "<Figure size 432x288 with 1 Axes>"
      ]
     },
     "metadata": {
      "needs_background": "light"
     },
     "output_type": "display_data"
    }
   ],
   "source": [
    "ax = FS_null_grad25corr_df[['Grad1 upper 25% corr','Grad1 lower 25% corr','Grad2 upper 25% corr','Grad2 lower 25% corr']].plot(kind='bar', color=['r','b', 'g', 'm']) \n",
    "x_offset = -1\n",
    "y_offset = 1\n",
    "for p in ax.patches:\n",
    "    b = p.get_bbox()\n",
    "    val = \"{:+.2f}\".format(b.y1 + b.y0)        \n",
    "    ax.annotate(val, ((b.x0 + b.x1)/2 + x_offset, b.y1 + y_offset))\n",
    "    ax.legend(loc='center left', bbox_to_anchor=(1.0, 0.8))\n",
    "    ax.set_ylabel('pearson correlation')\n",
    "    ax.set_title('Functional Schaefer null model Gradient 25%', fontsize=16)\n",
    "ax.figure.savefig(fig_path+'Func_Schaefer_null_Gradients_25%_comp.png', dpi=300)"
   ]
  },
  {
   "cell_type": "code",
   "execution_count": 169,
   "id": "8a0ddb78-338a-4651-a1af-79301541d9ef",
   "metadata": {},
   "outputs": [],
   "source": [
    "pd.DataFrame(FS_null_k3clustcorr_df).to_csv(results_path + 'Func_Schaefer_null_k3clust_comp.csv')\n",
    "pd.DataFrame(FS_null_gradcorr_df).to_csv(results_path + 'Func_Schaefer_null_Grad_comp.csv')\n",
    "pd.DataFrame(FS_null_grad25corr_df).to_csv(results_path + 'Func_Schaefer_null_Grad25_comp.csv')"
   ]
  },
  {
   "cell_type": "markdown",
   "id": "4639b2ea-cfff-4e79-b064-7839a4c63ffd",
   "metadata": {},
   "source": [
    "### Func HCPMMP data comparison"
   ]
  },
  {
   "cell_type": "code",
   "execution_count": 8,
   "id": "0364b606-ffc9-4341-8b09-6c97c8ea71cf",
   "metadata": {},
   "outputs": [],
   "source": [
    "# Data path for func HCPMMP\n",
    "FH_results_path = \"/home/ROBARTS/schakraborty/graham/sudesnacPJ/21_Codes/HumanBF-Parcellation/results/Func_HCPMMP/\""
   ]
  },
  {
   "cell_type": "code",
   "execution_count": 9,
   "id": "e85e3d0c-bbf0-4dcf-8e49-d08fec139f18",
   "metadata": {},
   "outputs": [],
   "source": [
    "# Cluster Data\n",
    "k3clust1_L = images.load_gifti(FH_results_path+'Func_HCPMMP_k-3_cluster-1_L_fsa-10k.gii')\n",
    "k3clust1_R = images.load_gifti(FH_results_path+'Func_HCPMMP_k-3_cluster-1_R_fsa-10k.gii')\n",
    "k3clust1 = (k3clust1_L, k3clust1_R)\n",
    "k3clust2_L = images.load_gifti(FH_results_path+'Func_HCPMMP_k-3_cluster-2_L_fsa-10k.gii')\n",
    "k3clust2_R = images.load_gifti(FH_results_path+'Func_HCPMMP_k-3_cluster-2_R_fsa-10k.gii')\n",
    "k3clust2 = (k3clust2_L, k3clust2_R)\n",
    "k3clust3_L = images.load_gifti(FH_results_path+'Func_HCPMMP_k-3_cluster-3_L_fsa-10k.gii')\n",
    "k3clust3_R = images.load_gifti(FH_results_path+'Func_HCPMMP_k-3_cluster-3_R_fsa-10k.gii')\n",
    "k3clust3 = (k3clust3_L, k3clust3_R)\n",
    "\n",
    "# Gradient data\n",
    "grad1_L = images.load_gifti(FH_results_path+'Func_HCPMMP_Gradient-1_weighted_L_fsa-10k.gii')\n",
    "grad1_R = images.load_gifti(FH_results_path+'Func_HCPMMP_Gradient-1_weighted_R_fsa-10k.gii')\n",
    "grad1 = (grad1_L, grad1_R)\n",
    "\n",
    "grad2_L = images.load_gifti(FH_results_path+'Func_HCPMMP_Gradient-2_weighted_L_fsa-10k.gii')\n",
    "grad2_R = images.load_gifti(FH_results_path+'Func_HCPMMP_Gradient-2_weighted_R_fsa-10k.gii')\n",
    "grad2 = (grad2_L, grad2_R)\n",
    "\n",
    "grad1_upper25_L = images.load_gifti(FH_results_path+'Func_HCPMMP_Gradient-1_Upper25%_L_fsa-10k.gii')\n",
    "grad1_upper25_R = images.load_gifti(FH_results_path+'Func_HCPMMP_Gradient-1_Upper25%_R_fsa-10k.gii')\n",
    "grad1_lower25_L = images.load_gifti(FH_results_path+'Func_HCPMMP_Gradient-1_Lower25%_L_fsa-10k.gii')\n",
    "grad1_lower25_R = images.load_gifti(FH_results_path+'Func_HCPMMP_Gradient-1_Lower25%_R_fsa-10k.gii')\n",
    "grad1_upper25 = (grad1_upper25_L, grad1_upper25_R)\n",
    "grad1_lower25 = (grad1_lower25_L, grad1_lower25_R)\n",
    "\n",
    "grad2_upper25_L = images.load_gifti(FH_results_path+'Func_HCPMMP_Gradient-2_Upper25%_L_fsa-10k.gii')\n",
    "grad2_upper25_R = images.load_gifti(FH_results_path+'Func_HCPMMP_Gradient-2_Upper25%_R_fsa-10k.gii')\n",
    "grad2_lower25_L = images.load_gifti(FH_results_path+'Func_HCPMMP_Gradient-2_Lower25%_L_fsa-10k.gii')\n",
    "grad2_lower25_R = images.load_gifti(FH_results_path+'Func_HCPMMP_Gradient-2_Lower25%_R_fsa-10k.gii')\n",
    "grad2_upper25 = (grad2_upper25_L, grad2_upper25_R)\n",
    "grad2_lower25 = (grad2_lower25_L, grad2_lower25_R)"
   ]
  },
  {
   "cell_type": "code",
   "execution_count": 10,
   "id": "bdc65848-e890-4503-94f3-8adecc5604fe",
   "metadata": {},
   "outputs": [],
   "source": [
    "# Compare with Aghourian_FEOBV\n",
    "Aghourian_FEOBVk3clust1corr = stats.compare_images(k3clust1, Aghourian_FEOBV_fsa, metric='pearsonr')\n",
    "Aghourian_FEOBVk3clust2corr = stats.compare_images(k3clust2, Aghourian_FEOBV_fsa, metric='pearsonr')\n",
    "Aghourian_FEOBVk3clust3corr = stats.compare_images(k3clust3, Aghourian_FEOBV_fsa, metric='pearsonr')\n",
    "\n",
    "Aghourian_FEOBVG1corr = stats.compare_images(grad1, Aghourian_FEOBV_fsa, metric='pearsonr')\n",
    "Aghourian_FEOBVG2corr = stats.compare_images(grad2, Aghourian_FEOBV_fsa, metric='pearsonr')\n",
    "\n",
    "Aghourian_FEOBVG1upper25corr = stats.compare_images(grad1_upper25, Tr_Aghourian_FEOBV_fsa, metric='pearsonr')\n",
    "Aghourian_FEOBVG1lower25corr = stats.compare_images(grad1_lower25, Tr_Aghourian_FEOBV_fsa, metric='pearsonr')\n",
    "Aghourian_FEOBVG2upper25corr = stats.compare_images(grad2_upper25, Tr_Aghourian_FEOBV_fsa, metric='pearsonr')\n",
    "Aghourian_FEOBVG2lower25corr = stats.compare_images(grad2_lower25, Tr_Aghourian_FEOBV_fsa, metric='pearsonr')"
   ]
  },
  {
   "cell_type": "code",
   "execution_count": 11,
   "id": "64995307-20b2-4056-9740-c26d90122b42",
   "metadata": {},
   "outputs": [],
   "source": [
    "# Compare with Bedard_FEOBV\n",
    "Bedard_FEOBVk3clust1corr = stats.compare_images(k3clust1, Bedard_FEOBV_fsa, metric='pearsonr')\n",
    "Bedard_FEOBVk3clust2corr = stats.compare_images(k3clust2, Bedard_FEOBV_fsa, metric='pearsonr')\n",
    "Bedard_FEOBVk3clust3corr = stats.compare_images(k3clust3, Bedard_FEOBV_fsa, metric='pearsonr')\n",
    "\n",
    "Bedard_FEOBVG1corr = stats.compare_images(grad1, Bedard_FEOBV_fsa, metric='pearsonr')\n",
    "Bedard_FEOBVG2corr = stats.compare_images(grad2, Bedard_FEOBV_fsa, metric='pearsonr')\n",
    "\n",
    "Bedard_FEOBVG1upper25corr = stats.compare_images(grad1_upper25, Tr_Bedard_FEOBV_fsa, metric='pearsonr')\n",
    "Bedard_FEOBVG1lower25corr = stats.compare_images(grad1_lower25, Tr_Bedard_FEOBV_fsa, metric='pearsonr')\n",
    "Bedard_FEOBVG2upper25corr = stats.compare_images(grad2_upper25, Tr_Bedard_FEOBV_fsa, metric='pearsonr')\n",
    "Bedard_FEOBVG2lower25corr = stats.compare_images(grad2_lower25, Tr_Bedard_FEOBV_fsa, metric='pearsonr')"
   ]
  },
  {
   "cell_type": "code",
   "execution_count": 12,
   "id": "22296fd2-3176-4556-bb24-78306b73288a",
   "metadata": {},
   "outputs": [],
   "source": [
    "# Compare with Tuominen_FEOBV\n",
    "Tuominen_FEOBVk3clust1corr = stats.compare_images(k3clust1, Tuominen_FEOBV_fsa, metric='pearsonr')\n",
    "Tuominen_FEOBVk3clust2corr = stats.compare_images(k3clust2, Tuominen_FEOBV_fsa, metric='pearsonr')\n",
    "Tuominen_FEOBVk3clust3corr = stats.compare_images(k3clust3, Tuominen_FEOBV_fsa, metric='pearsonr')\n",
    "\n",
    "Tuominen_FEOBVG1corr = stats.compare_images(grad1, Tuominen_FEOBV_fsa, metric='pearsonr')\n",
    "Tuominen_FEOBVG2corr = stats.compare_images(grad2, Tuominen_FEOBV_fsa, metric='pearsonr')\n",
    "\n",
    "Tuominen_FEOBVG1upper25corr = stats.compare_images(grad1_upper25, Tr_Tuominen_FEOBV_fsa, metric='pearsonr')\n",
    "Tuominen_FEOBVG1lower25corr = stats.compare_images(grad1_lower25, Tr_Tuominen_FEOBV_fsa, metric='pearsonr')\n",
    "Tuominen_FEOBVG2upper25corr = stats.compare_images(grad2_upper25, Tr_Tuominen_FEOBV_fsa, metric='pearsonr')\n",
    "Tuominen_FEOBVG2lower25corr = stats.compare_images(grad2_lower25, Tr_Tuominen_FEOBV_fsa, metric='pearsonr')"
   ]
  },
  {
   "cell_type": "code",
   "execution_count": 13,
   "id": "b5fbe483-9c34-44d8-9971-989c4220bda6",
   "metadata": {},
   "outputs": [],
   "source": [
    "# Compare with M1\n",
    "M1k3clust1corr = stats.compare_images(k3clust1, M1_fsa, metric='pearsonr')\n",
    "M1k3clust2corr = stats.compare_images(k3clust2, M1_fsa, metric='pearsonr')\n",
    "M1k3clust3corr = stats.compare_images(k3clust3, M1_fsa, metric='pearsonr')\n",
    "\n",
    "M1G1corr = stats.compare_images(grad1, M1_fsa, metric='pearsonr')\n",
    "M1G2corr = stats.compare_images(grad2, M1_fsa, metric='pearsonr')\n",
    "\n",
    "M1G1upper25corr = stats.compare_images(grad1_upper25, Tr_M1_fsa, metric='pearsonr')\n",
    "M1G1lower25corr = stats.compare_images(grad1_lower25, Tr_M1_fsa, metric='pearsonr')\n",
    "M1G2upper25corr = stats.compare_images(grad2_upper25, Tr_M1_fsa, metric='pearsonr')\n",
    "M1G2lower25corr = stats.compare_images(grad2_lower25, Tr_M1_fsa, metric='pearsonr')"
   ]
  },
  {
   "cell_type": "code",
   "execution_count": 14,
   "id": "c1a99835-1c3f-448e-bef4-f5ef99a4018b",
   "metadata": {},
   "outputs": [],
   "source": [
    "# Compare with nAchRs\n",
    "nAchRsk3clust1corr = stats.compare_images(k3clust1, nAchRs_fsa, metric='pearsonr')\n",
    "nAchRsk3clust2corr = stats.compare_images(k3clust2, nAchRs_fsa, metric='pearsonr')\n",
    "nAchRsk3clust3corr = stats.compare_images(k3clust3, nAchRs_fsa, metric='pearsonr')\n",
    "\n",
    "nAchRsG1corr = stats.compare_images(grad1, nAchRs_fsa, metric='pearsonr')\n",
    "nAchRsG2corr = stats.compare_images(grad2, nAchRs_fsa, metric='pearsonr')\n",
    "\n",
    "nAchRsG1upper25corr = stats.compare_images(grad1_upper25, Tr_nAchRs_fsa, metric='pearsonr')\n",
    "nAchRsG1lower25corr = stats.compare_images(grad1_lower25, Tr_nAchRs_fsa, metric='pearsonr')\n",
    "nAchRsG2upper25corr = stats.compare_images(grad2_upper25, Tr_nAchRs_fsa, metric='pearsonr')\n",
    "nAchRsG2lower25corr = stats.compare_images(grad2_lower25, Tr_nAchRs_fsa, metric='pearsonr')"
   ]
  },
  {
   "cell_type": "code",
   "execution_count": 15,
   "id": "815bb0e4-6ac7-4126-8e6e-ca5735231167",
   "metadata": {},
   "outputs": [],
   "source": [
    "FH_k3clust1corr = [Aghourian_FEOBVk3clust1corr, Bedard_FEOBVk3clust1corr, Tuominen_FEOBVk3clust1corr, M1k3clust1corr, nAchRsk3clust1corr]\n",
    "FH_k3clust2corr = [Aghourian_FEOBVk3clust2corr, Bedard_FEOBVk3clust2corr, Tuominen_FEOBVk3clust2corr, M1k3clust2corr, nAchRsk3clust2corr]\n",
    "FH_k3clust3corr = [Aghourian_FEOBVk3clust3corr, Bedard_FEOBVk3clust3corr, Tuominen_FEOBVk3clust3corr, M1k3clust3corr, nAchRsk3clust3corr]\n",
    "\n",
    "FH_grad1_corr = [Aghourian_FEOBVG1corr, Bedard_FEOBVG1corr, Tuominen_FEOBVG1corr, M1G1corr, nAchRsG1corr]\n",
    "FH_grad2_corr = [Aghourian_FEOBVG2corr, Bedard_FEOBVG2corr, Tuominen_FEOBVG2corr, M1G2corr, nAchRsG2corr]\n",
    "\n",
    "FH_grad1_upper25_corr = [Aghourian_FEOBVG1upper25corr, Bedard_FEOBVG1upper25corr, Tuominen_FEOBVG1upper25corr, M1G1upper25corr, nAchRsG1upper25corr]\n",
    "FH_grad1_lower25_corr = [Aghourian_FEOBVG1lower25corr, Bedard_FEOBVG1lower25corr, Tuominen_FEOBVG1lower25corr, M1G1lower25corr, nAchRsG1lower25corr]\n",
    "FH_grad2_upper25_corr = [Aghourian_FEOBVG2upper25corr, Bedard_FEOBVG2upper25corr, Tuominen_FEOBVG2upper25corr, M1G2upper25corr, nAchRsG2upper25corr]\n",
    "FH_grad2_lower25_corr = [Aghourian_FEOBVG2lower25corr, Bedard_FEOBVG2lower25corr, Tuominen_FEOBVG2lower25corr, M1G2lower25corr, nAchRsG2lower25corr]"
   ]
  },
  {
   "cell_type": "code",
   "execution_count": 178,
   "id": "dd6a5326-12b0-44ac-9668-c10dde257468",
   "metadata": {},
   "outputs": [],
   "source": [
    "FH_k3clustcorr_df = pd.DataFrame({'k3clust1':FH_k3clust1corr,'k3clust2':FH_k3clust2corr, 'k3clust3':FH_k3clust3corr},index=['Aghourian_FEOBV', 'Bedard_FEOBV', 'Tuominen_FEOBV', 'M1', 'nAchRs'])\n",
    "FH_gradcorr_df = pd.DataFrame({'Grad1':FH_grad1_corr,'Grad2':FH_grad2_corr},index=['Aghourian_FEOBV', 'Bedard_FEOBV', 'Tuominen_FEOBV', 'M1', 'nAchRs'])\n",
    "FH_grad25corr_df = pd.DataFrame({'Grad1 upper 25%':FH_grad1_upper25_corr, 'Grad1 lower 25%':FH_grad1_lower25_corr, 'Grad2 upper 25%':FH_grad2_upper25_corr, 'Grad2 lower 25%':FH_grad2_lower25_corr},index=['Aghourian_FEOBV', 'Bedard_FEOBV', 'Tuominen_FEOBV', 'M1', 'nAchRs'])"
   ]
  },
  {
   "cell_type": "code",
   "execution_count": 179,
   "id": "011d257d-6558-4148-adef-e7beb825b33b",
   "metadata": {},
   "outputs": [],
   "source": [
    "pd.DataFrame(FH_k3clustcorr_df).to_csv(results_path + 'Func_HCPMMP_k3clust_corr.csv')\n",
    "pd.DataFrame(FH_gradcorr_df).to_csv(results_path + 'Func_HCPMMP_Grad_corr.csv')\n",
    "pd.DataFrame(FH_grad25corr_df).to_csv(results_path + 'Func_HCPMMP_Grad25_corr.csv')"
   ]
  },
  {
   "cell_type": "code",
   "execution_count": 180,
   "id": "550b0ff1-db58-40bf-9197-eda53d147814",
   "metadata": {},
   "outputs": [
    {
     "data": {
      "image/png": "[encoded data removed]",
      "text/plain": [
       "<Figure size 432x288 with 1 Axes>"
      ]
     },
     "metadata": {
      "needs_background": "light"
     },
     "output_type": "display_data"
    }
   ],
   "source": [
    "ax = FH_k3clustcorr_df.plot(kind='bar', color=['r','g', 'b'], fontsize=12) \n",
    "for p in ax.patches:\n",
    "    ax.set_ylabel('pearson correlation',fontsize=12)\n",
    "    ax.set_title('Functional HCPMMP k-3 cluster', fontsize=16)\n",
    "#     ax.legend(loc='center left', bbox_to_anchor=(1.0, 0.9))\n",
    "ax.figure.savefig(fig_path+'Func_HCPMMP_k-3cluster_comp.png', dpi=300)"
   ]
  },
  {
   "cell_type": "code",
   "execution_count": 181,
   "id": "4f574345-002b-4d88-87cc-c4ea3dbd1150",
   "metadata": {},
   "outputs": [
    {
     "data": {
      "image/png": "[encoded data removed]",
      "text/plain": [
       "<Figure size 432x288 with 1 Axes>"
      ]
     },
     "metadata": {
      "needs_background": "light"
     },
     "output_type": "display_data"
    }
   ],
   "source": [
    "ax = FH_gradcorr_df.plot(kind='bar', color=['y', 'c',]) \n",
    "x_offset = -0.5\n",
    "y_offset = 0.5\n",
    "for p in ax.patches:\n",
    "    b = p.get_bbox()\n",
    "    val = \"{:+.2f}\".format(b.y1 + b.y0)        \n",
    "    ax.annotate(val, ((b.x0 + b.x1)/2 + x_offset, b.y1 + y_offset))\n",
    "    ax.set_ylabel('pearson correlation')\n",
    "    ax.set_title('Functional HCPMMP Gradients', fontsize=16)\n",
    "ax.figure.savefig(fig_path+'Func_HCPMMP_Gradients_comp.png', dpi=300)"
   ]
  },
  {
   "cell_type": "code",
   "execution_count": 182,
   "id": "1d2781ef-c34b-477e-8d60-4d958aa0d55c",
   "metadata": {},
   "outputs": [
    {
     "data": {
      "image/png": "[encoded data removed]",
      "text/plain": [
       "<Figure size 432x288 with 1 Axes>"
      ]
     },
     "metadata": {
      "needs_background": "light"
     },
     "output_type": "display_data"
    }
   ],
   "source": [
    "ax = FH_grad25corr_df.plot(kind='bar', color=['r','b', 'g', 'm']) \n",
    "x_offset = -1\n",
    "y_offset = 1\n",
    "for p in ax.patches:\n",
    "    b = p.get_bbox()\n",
    "    val = \"{:+.2f}\".format(b.y1 + b.y0)        \n",
    "    ax.annotate(val, ((b.x0 + b.x1)/2 + x_offset, b.y1 + y_offset))\n",
    "    ax.legend(loc='center left', bbox_to_anchor=(1.0, 0.9))\n",
    "    ax.set_ylabel('pearson correlation')\n",
    "    ax.set_title('Functional HCPMMP Gradient 25%', fontsize=16)\n",
    "ax.figure.savefig(fig_path+'Func_HCPMMP_Gradients_25%_comp.png', dpi=300)"
   ]
  },
  {
   "cell_type": "markdown",
   "id": "3acbe175-4a4a-4dd0-a8e0-23cf1cd916ea",
   "metadata": {},
   "source": [
    "### Spatial null Functional HCPMMP data"
   ]
  },
  {
   "cell_type": "code",
   "execution_count": 16,
   "id": "79b7b5db-7e30-42a1-af33-52872814c0ad",
   "metadata": {},
   "outputs": [],
   "source": [
    "alex_aghourian_rotated = nulls.alexander_bloch(Aghourian_FEOBV_fsa, atlas='fsaverage', density='10k', n_perm=100, seed=1234)\n",
    "alex_bedard_rotated = nulls.alexander_bloch(Bedard_FEOBV_fsa, atlas='fsaverage', density='10k', n_perm=100, seed=1234)\n",
    "alex_tuominen_rotated = nulls.alexander_bloch(Tuominen_FEOBV_fsa, atlas='fsaverage', density='10k', n_perm=100, seed=1234)\n",
    "alex_M1_rotated = nulls.alexander_bloch(M1_fsa, atlas='fsaverage', density='10k', n_perm=100, seed=1234)\n",
    "alex_nAchRs_rotated = nulls.alexander_bloch(nAchRs_fsa, atlas='fsaverage', density='10k', n_perm=100, seed=1234)"
   ]
  },
  {
   "cell_type": "code",
   "execution_count": 17,
   "id": "634f3423-311c-462d-ba73-3fe6b495ea04",
   "metadata": {},
   "outputs": [],
   "source": [
    "alex_tr_aghourian_rotated = nulls.alexander_bloch(Tr_Aghourian_FEOBV_fsa, atlas='fsaverage', density='10k', n_perm=100, seed=1234)\n",
    "alex_tr_bedard_rotated = nulls.alexander_bloch(Tr_Bedard_FEOBV_fsa, atlas='fsaverage', density='10k', n_perm=100, seed=1234)\n",
    "alex_tr_tuominen_rotated = nulls.alexander_bloch(Tr_Tuominen_FEOBV_fsa, atlas='fsaverage', density='10k', n_perm=100, seed=1234)\n",
    "alex_tr_M1_rotated = nulls.alexander_bloch(Tr_M1_fsa, atlas='fsaverage', density='10k', n_perm=100, seed=1234)\n",
    "alex_tr_nAchRs_rotated = nulls.alexander_bloch(Tr_nAchRs_fsa, atlas='fsaverage', density='10k', n_perm=100, seed=1234)"
   ]
  },
  {
   "cell_type": "code",
   "execution_count": 18,
   "id": "5c0a38e8-ea18-467d-9dfb-44b1aab0dee2",
   "metadata": {},
   "outputs": [],
   "source": [
    "# Compare with Aghourian_FEOBV\n",
    "Aghourian_k3clust1corr, Aghourian_k3clust1pval = stats.compare_images(Aghourian_FEOBV_fsa, k3clust1, nulls=alex_aghourian_rotated)\n",
    "Aghourian_k3clust2corr, Aghourian_k3clust2pval = stats.compare_images(Aghourian_FEOBV_fsa, k3clust2, nulls=alex_aghourian_rotated)\n",
    "Aghourian_k3clust3corr, Aghourian_k3clust3pval = stats.compare_images(Aghourian_FEOBV_fsa, k3clust3, nulls=alex_aghourian_rotated)\n",
    "\n",
    "Aghourian_G1corr, Aghourian_G1pval = stats.compare_images(Aghourian_FEOBV_fsa, grad1, nulls=alex_aghourian_rotated)\n",
    "Aghourian_G2corr, Aghourian_G2pval = stats.compare_images(Aghourian_FEOBV_fsa, grad2, nulls=alex_aghourian_rotated)\n",
    "\n",
    "Aghourian_G1upper25corr, Aghourian_G1upper25pval = stats.compare_images(Tr_Aghourian_FEOBV_fsa, grad1_upper25, nulls=alex_tr_aghourian_rotated)\n",
    "Aghourian_G1lower25corr, Aghourian_G1lower25pval = stats.compare_images(Tr_Aghourian_FEOBV_fsa, grad1_lower25, nulls=alex_tr_aghourian_rotated)\n",
    "Aghourian_G2upper25corr, Aghourian_G2upper25pval = stats.compare_images(Tr_Aghourian_FEOBV_fsa, grad2_upper25, nulls=alex_tr_aghourian_rotated)\n",
    "Aghourian_G2lower25corr, Aghourian_G2lower25pval = stats.compare_images(Tr_Aghourian_FEOBV_fsa, grad2_lower25, nulls=alex_tr_aghourian_rotated)"
   ]
  },
  {
   "cell_type": "code",
   "execution_count": 19,
   "id": "0e503d3b-baa7-4620-a265-1171f71940f8",
   "metadata": {},
   "outputs": [],
   "source": [
    "# Compare with Bedard_FEOBV\n",
    "Bedard_k3clust1corr, Bedard_k3clust1pval = stats.compare_images(Bedard_FEOBV_fsa, k3clust1, nulls=alex_bedard_rotated)\n",
    "Bedard_k3clust2corr, Bedard_k3clust2pval = stats.compare_images(Bedard_FEOBV_fsa, k3clust2, nulls=alex_bedard_rotated)\n",
    "Bedard_k3clust3corr, Bedard_k3clust3pval = stats.compare_images(Bedard_FEOBV_fsa, k3clust3, nulls=alex_bedard_rotated)\n",
    "\n",
    "Bedard_G1corr, Bedard_G1pval = stats.compare_images(Bedard_FEOBV_fsa, grad1, nulls=alex_bedard_rotated)\n",
    "Bedard_G2corr, Bedard_G2pval = stats.compare_images(Bedard_FEOBV_fsa, grad2, nulls=alex_bedard_rotated)\n",
    "\n",
    "Bedard_G1upper25corr, Bedard_G1upper25pval = stats.compare_images(Tr_Bedard_FEOBV_fsa, grad1_upper25, nulls=alex_tr_bedard_rotated)\n",
    "Bedard_G1lower25corr, Bedard_G1lower25pval = stats.compare_images(Tr_Bedard_FEOBV_fsa, grad1_lower25, nulls=alex_tr_bedard_rotated)\n",
    "Bedard_G2upper25corr, Bedard_G2upper25pval = stats.compare_images(Tr_Bedard_FEOBV_fsa, grad2_upper25, nulls=alex_tr_bedard_rotated)\n",
    "Bedard_G2lower25corr, Bedard_G2lower25pval = stats.compare_images(Tr_Bedard_FEOBV_fsa, grad2_lower25, nulls=alex_tr_bedard_rotated)"
   ]
  },
  {
   "cell_type": "code",
   "execution_count": 20,
   "id": "e1cd7414-6097-4a38-b98f-543158c6908b",
   "metadata": {},
   "outputs": [],
   "source": [
    "# Compare with Tuominen_FEOBV\n",
    "Tuominen_k3clust1corr, Tuominen_k3clust1pval = stats.compare_images(Tuominen_FEOBV_fsa, k3clust1, nulls=alex_tuominen_rotated)\n",
    "Tuominen_k3clust2corr, Tuominen_k3clust2pval = stats.compare_images(Tuominen_FEOBV_fsa, k3clust2, nulls=alex_tuominen_rotated)\n",
    "Tuominen_k3clust3corr, Tuominen_k3clust3pval = stats.compare_images(Tuominen_FEOBV_fsa, k3clust3, nulls=alex_tuominen_rotated)\n",
    "\n",
    "Tuominen_G1corr, Tuominen_G1pval = stats.compare_images(Tuominen_FEOBV_fsa, grad1, nulls=alex_tuominen_rotated)\n",
    "Tuominen_G2corr, Tuominen_G2pval = stats.compare_images(Tuominen_FEOBV_fsa, grad2, nulls=alex_tuominen_rotated)\n",
    "\n",
    "Tuominen_G1upper25corr, Tuominen_G1upper25pval = stats.compare_images(Tr_Tuominen_FEOBV_fsa, grad1_upper25, nulls=alex_tr_tuominen_rotated)\n",
    "Tuominen_G1lower25corr, Tuominen_G1lower25pval = stats.compare_images(Tr_Tuominen_FEOBV_fsa, grad1_lower25, nulls=alex_tr_tuominen_rotated)\n",
    "Tuominen_G2upper25corr, Tuominen_G2upper25pval = stats.compare_images(Tr_Tuominen_FEOBV_fsa, grad2_upper25, nulls=alex_tr_tuominen_rotated)\n",
    "Tuominen_G2lower25corr, Tuominen_G2lower25pval = stats.compare_images(Tr_Tuominen_FEOBV_fsa, grad2_lower25, nulls=alex_tr_tuominen_rotated)"
   ]
  },
  {
   "cell_type": "code",
   "execution_count": 21,
   "id": "d4d2e1ee-852f-454f-ab58-b61a6efc3b6e",
   "metadata": {},
   "outputs": [],
   "source": [
    "# Compare with M1\n",
    "M1_k3clust1corr, M1_k3clust1pval = stats.compare_images(M1_fsa, k3clust1, nulls=alex_M1_rotated)\n",
    "M1_k3clust2corr, M1_k3clust2pval = stats.compare_images(M1_fsa, k3clust2, nulls=alex_M1_rotated)\n",
    "M1_k3clust3corr, M1_k3clust3pval = stats.compare_images(M1_fsa, k3clust3, nulls=alex_M1_rotated)\n",
    "\n",
    "M1_G1corr, M1_G1pval = stats.compare_images(M1_fsa, grad1, nulls=alex_M1_rotated)\n",
    "M1_G2corr, M1_G2pval = stats.compare_images(M1_fsa, grad2, nulls=alex_M1_rotated)\n",
    "\n",
    "M1_G1upper25corr, M1_G1upper25pval = stats.compare_images(Tr_M1_fsa, grad1_upper25, nulls=alex_tr_M1_rotated)\n",
    "M1_G1lower25corr, M1_G1lower25pval = stats.compare_images(Tr_M1_fsa, grad1_lower25, nulls=alex_tr_M1_rotated)\n",
    "M1_G2upper25corr, M1_G2upper25pval = stats.compare_images(Tr_M1_fsa, grad2_upper25, nulls=alex_tr_M1_rotated)\n",
    "M1_G2lower25corr, M1_G2lower25pval = stats.compare_images(Tr_M1_fsa, grad2_lower25, nulls=alex_tr_M1_rotated)"
   ]
  },
  {
   "cell_type": "code",
   "execution_count": 22,
   "id": "348c8f47-a6f1-4e82-9f59-a8f3695d376b",
   "metadata": {},
   "outputs": [],
   "source": [
    "# Compare with nAchRs\n",
    "nAchRs_k3clust1corr, nAchRs_k3clust1pval = stats.compare_images(nAchRs_fsa, k3clust1, nulls=alex_nAchRs_rotated)\n",
    "nAchRs_k3clust2corr, nAchRs_k3clust2pval = stats.compare_images(nAchRs_fsa, k3clust2, nulls=alex_nAchRs_rotated)\n",
    "nAchRs_k3clust3corr, nAchRs_k3clust3pval = stats.compare_images(nAchRs_fsa, k3clust3, nulls=alex_nAchRs_rotated)\n",
    "\n",
    "nAchRs_G1corr, nAchRs_G1pval = stats.compare_images(nAchRs_fsa, grad1, nulls=alex_nAchRs_rotated)\n",
    "nAchRs_G2corr, nAchRs_G2pval = stats.compare_images(nAchRs_fsa, grad2, nulls=alex_nAchRs_rotated)\n",
    "\n",
    "nAchRs_G1upper25corr, nAchRs_G1upper25pval = stats.compare_images(Tr_nAchRs_fsa, grad1_upper25, nulls=alex_tr_nAchRs_rotated)\n",
    "nAchRs_G1lower25corr, nAchRs_G1lower25pval = stats.compare_images(Tr_nAchRs_fsa, grad1_lower25, nulls=alex_tr_nAchRs_rotated)\n",
    "nAchRs_G2upper25corr, nAchRs_G2upper25pval = stats.compare_images(Tr_nAchRs_fsa, grad2_upper25, nulls=alex_tr_nAchRs_rotated)\n",
    "nAchRs_G2lower25corr, nAchRs_G2lower25pval = stats.compare_images(Tr_nAchRs_fsa, grad2_lower25, nulls=alex_tr_nAchRs_rotated)"
   ]
  },
  {
   "cell_type": "code",
   "execution_count": 23,
   "id": "ad62a485-c69d-4e2c-988c-1e08a92ccbbd",
   "metadata": {},
   "outputs": [],
   "source": [
    "FH_null_k3clust1corr = [Aghourian_k3clust1corr, Bedard_k3clust1corr, Tuominen_k3clust1corr, M1_k3clust1corr, nAchRs_k3clust1corr]\n",
    "FH_null_k3clust2corr = [Aghourian_k3clust2corr, Bedard_k3clust2corr, Tuominen_k3clust2corr, M1_k3clust2corr, nAchRs_k3clust2corr]\n",
    "FH_null_k3clust3corr = [Aghourian_k3clust3corr, Bedard_k3clust3corr, Tuominen_k3clust3corr, M1_k3clust3corr, nAchRs_k3clust3corr]\n",
    "\n",
    "FH_null_grad1_corr = [Aghourian_G1corr, Bedard_G1corr, Tuominen_G1corr, M1_G1corr, nAchRs_G1corr]\n",
    "FH_null_grad2_corr = [Aghourian_G2corr, Bedard_G2corr, Tuominen_G2corr, M1_G2corr, nAchRs_G2corr]\n",
    "\n",
    "FH_null_grad1_upper25_corr = [Aghourian_G1upper25corr, Bedard_G1upper25corr, Tuominen_G1upper25corr, M1_G1upper25corr, nAchRs_G1upper25corr]\n",
    "FH_null_grad1_lower25_corr = [Aghourian_G1lower25corr, Bedard_G1lower25corr, Tuominen_G1lower25corr, M1_G1lower25corr, nAchRs_G1lower25corr]\n",
    "FH_null_grad2_upper25_corr = [Aghourian_G2upper25corr, Bedard_G2upper25corr, Tuominen_G2upper25corr, M1_G2upper25corr, nAchRs_G2upper25corr]\n",
    "FH_null_grad2_lower25_corr = [Aghourian_G2lower25corr, Bedard_G2lower25corr, Tuominen_G2lower25corr, M1_G2lower25corr, nAchRs_G2lower25corr]"
   ]
  },
  {
   "cell_type": "code",
   "execution_count": 24,
   "id": "47c6dde9-4328-475c-9c52-4a400e39f397",
   "metadata": {},
   "outputs": [],
   "source": [
    "FH_null_k3clust1pval = [Aghourian_k3clust1pval, Bedard_k3clust1pval, Tuominen_k3clust1pval, M1_k3clust1pval, nAchRs_k3clust1pval]\n",
    "FH_null_k3clust2pval = [Aghourian_k3clust2pval, Bedard_k3clust2pval, Tuominen_k3clust2pval, M1_k3clust2pval, nAchRs_k3clust2pval]\n",
    "FH_null_k3clust3pval = [Aghourian_k3clust3pval, Bedard_k3clust3pval, Tuominen_k3clust3pval, M1_k3clust3pval, nAchRs_k3clust3pval]\n",
    "\n",
    "FH_null_grad1_pval = [Aghourian_G1pval, Bedard_G1pval, Tuominen_G1pval, M1_G1pval, nAchRs_G1pval]\n",
    "FH_null_grad2_pval = [Aghourian_G2pval, Bedard_G2pval, Tuominen_G2pval, M1_G2pval, nAchRs_G2pval]\n",
    "\n",
    "FH_null_grad1_upper25_pval = [Aghourian_G1upper25pval, Bedard_G1upper25pval, Tuominen_G1upper25pval, M1_G1upper25pval, nAchRs_G1upper25pval]\n",
    "FH_null_grad1_lower25_pval = [Aghourian_G1lower25pval, Bedard_G1lower25pval, Tuominen_G1lower25pval, M1_G1lower25pval, nAchRs_G1lower25pval]\n",
    "FH_null_grad2_upper25_pval = [Aghourian_G2upper25pval, Bedard_G2upper25pval, Tuominen_G2upper25pval, M1_G2upper25pval, nAchRs_G2upper25pval]\n",
    "FH_null_grad2_lower25_pval = [Aghourian_G2lower25pval, Bedard_G2lower25pval, Tuominen_G2lower25pval, M1_G2lower25pval, nAchRs_G2lower25pval]"
   ]
  },
  {
   "cell_type": "code",
   "execution_count": 25,
   "id": "5d68ccfc-abc9-4915-82cf-aa099b4e7cf3",
   "metadata": {},
   "outputs": [],
   "source": [
    "FH_null_k3clustcorr_df = pd.DataFrame({'k3clust1corr':FH_null_k3clust1corr, 'k3clust1pval':FH_null_k3clust1pval, 'k3clust2corr':FH_null_k3clust2corr, 'k3clust2pval':FH_null_k3clust2pval,'k3clust3corr':FH_null_k3clust3corr, 'k3clust3pval':FH_null_k3clust3pval},index=['Aghourian_FEOBV', 'Bedard_FEOBV', 'Tuominen_FEOBV', 'M1', 'nAchRs'])\n",
    "FH_null_gradcorr_df = pd.DataFrame({'Grad1corr':FH_null_grad1_corr, 'Grad1pval':FH_null_grad1_pval, 'Grad2corr':FH_null_grad2_corr, 'Grad2pval':FH_null_grad2_pval},index=['Aghourian_FEOBV', 'Bedard_FEOBV', 'Tuominen_FEOBV', 'M1', 'nAchRs'])\n",
    "FH_null_grad25corr_df = pd.DataFrame({'Grad1 upper 25% corr':FH_null_grad1_upper25_corr, 'Grad1 upper 25% pval':FH_null_grad1_upper25_pval, 'Grad1 lower 25% corr':FH_null_grad1_lower25_corr, 'Grad1 lower 25% pval':FH_null_grad1_lower25_pval, 'Grad2 upper 25% corr':FH_null_grad2_upper25_corr, 'Grad2 upper 25% pval':FH_null_grad2_upper25_pval, 'Grad2 lower 25% corr':FH_null_grad2_lower25_corr, 'Grad2 lower 25% pval':FH_null_grad2_lower25_pval},index=['Aghourian_FEOBV', 'Bedard_FEOBV', 'Tuominen_FEOBV', 'M1', 'nAchRs'])"
   ]
  },
  {
   "cell_type": "code",
   "execution_count": 26,
   "id": "26a1892d-8bab-469e-be03-a298975ab7de",
   "metadata": {},
   "outputs": [
    {
     "data": {
      "text/html": [
       "<div>\n",
       "<style scoped>\n",
       "    .dataframe tbody tr th:only-of-type {\n",
       "        vertical-align: middle;\n",
       "    }\n",
       "\n",
       "    .dataframe tbody tr th {\n",
       "        vertical-align: top;\n",
       "    }\n",
       "\n",
       "    .dataframe thead th {\n",
       "        text-align: right;\n",
       "    }\n",
       "</style>\n",
       "<table border=\"1\" class=\"dataframe\">\n",
       "  <thead>\n",
       "    <tr style=\"text-align: right;\">\n",
       "      <th></th>\n",
       "      <th>k3clust1corr</th>\n",
       "      <th>k3clust1pval</th>\n",
       "      <th>k3clust2corr</th>\n",
       "      <th>k3clust2pval</th>\n",
       "      <th>k3clust3corr</th>\n",
       "      <th>k3clust3pval</th>\n",
       "    </tr>\n",
       "  </thead>\n",
       "  <tbody>\n",
       "    <tr>\n",
       "      <th>Aghourian_FEOBV</th>\n",
       "      <td>0.025374</td>\n",
       "      <td>0.910891</td>\n",
       "      <td>0.288375</td>\n",
       "      <td>0.009901</td>\n",
       "      <td>-0.036123</td>\n",
       "      <td>0.762376</td>\n",
       "    </tr>\n",
       "    <tr>\n",
       "      <th>Bedard_FEOBV</th>\n",
       "      <td>0.107013</td>\n",
       "      <td>0.336634</td>\n",
       "      <td>0.277646</td>\n",
       "      <td>0.009901</td>\n",
       "      <td>-0.013004</td>\n",
       "      <td>0.910891</td>\n",
       "    </tr>\n",
       "    <tr>\n",
       "      <th>Tuominen_FEOBV</th>\n",
       "      <td>0.055762</td>\n",
       "      <td>0.554455</td>\n",
       "      <td>0.244501</td>\n",
       "      <td>0.009901</td>\n",
       "      <td>0.008741</td>\n",
       "      <td>0.940594</td>\n",
       "    </tr>\n",
       "    <tr>\n",
       "      <th>M1</th>\n",
       "      <td>0.118851</td>\n",
       "      <td>0.237624</td>\n",
       "      <td>0.076639</td>\n",
       "      <td>0.425743</td>\n",
       "      <td>0.026412</td>\n",
       "      <td>0.831683</td>\n",
       "    </tr>\n",
       "    <tr>\n",
       "      <th>nAchRs</th>\n",
       "      <td>-0.085300</td>\n",
       "      <td>0.316832</td>\n",
       "      <td>0.008066</td>\n",
       "      <td>0.930693</td>\n",
       "      <td>-0.141043</td>\n",
       "      <td>0.069307</td>\n",
       "    </tr>\n",
       "  </tbody>\n",
       "</table>\n",
       "</div>"
      ],
      "text/plain": [
       "                 k3clust1corr  k3clust1pval  k3clust2corr  k3clust2pval  \\\n",
       "Aghourian_FEOBV      0.025374      0.910891      0.288375      0.009901   \n",
       "Bedard_FEOBV         0.107013      0.336634      0.277646      0.009901   \n",
       "Tuominen_FEOBV       0.055762      0.554455      0.244501      0.009901   \n",
       "M1                   0.118851      0.237624      0.076639      0.425743   \n",
       "nAchRs              -0.085300      0.316832      0.008066      0.930693   \n",
       "\n",
       "                 k3clust3corr  k3clust3pval  \n",
       "Aghourian_FEOBV     -0.036123      0.762376  \n",
       "Bedard_FEOBV        -0.013004      0.910891  \n",
       "Tuominen_FEOBV       0.008741      0.940594  \n",
       "M1                   0.026412      0.831683  \n",
       "nAchRs              -0.141043      0.069307  "
      ]
     },
     "execution_count": 26,
     "metadata": {},
     "output_type": "execute_result"
    }
   ],
   "source": [
    "FH_null_k3clustcorr_df"
   ]
  },
  {
   "cell_type": "code",
   "execution_count": 27,
   "id": "6ac5e162-d14f-4023-9b8c-f7b26174303f",
   "metadata": {},
   "outputs": [
    {
     "data": {
      "image/png": "[encoded data removed]",
      "text/plain": [
       "<Figure size 432x288 with 1 Axes>"
      ]
     },
     "metadata": {
      "needs_background": "light"
     },
     "output_type": "display_data"
    }
   ],
   "source": [
    "ax = FH_null_k3clustcorr_df[['k3clust1corr','k3clust2corr', 'k3clust3corr']].plot(kind='bar', color=['r','g', 'b'], fontsize=12) \n",
    "for p in ax.patches:\n",
    "    ax.set_ylabel('pearson correlation',fontsize=12)\n",
    "    ax.set_title('Functional HCPMMP null model k-3 cluster', fontsize=16)\n",
    "#     ax.legend(loc='center left', bbox_to_anchor=(1.0, 0.9))\n",
    "ax.figure.savefig(fig_path+'Func_HCPMMP_null_k-3cluster_comp.png', dpi=300)"
   ]
  },
  {
   "cell_type": "code",
   "execution_count": 28,
   "id": "d56be696-7c08-4a33-b3e5-593a19ae0e26",
   "metadata": {},
   "outputs": [
    {
     "data": {
      "text/html": [
       "<div>\n",
       "<style scoped>\n",
       "    .dataframe tbody tr th:only-of-type {\n",
       "        vertical-align: middle;\n",
       "    }\n",
       "\n",
       "    .dataframe tbody tr th {\n",
       "        vertical-align: top;\n",
       "    }\n",
       "\n",
       "    .dataframe thead th {\n",
       "        text-align: right;\n",
       "    }\n",
       "</style>\n",
       "<table border=\"1\" class=\"dataframe\">\n",
       "  <thead>\n",
       "    <tr style=\"text-align: right;\">\n",
       "      <th></th>\n",
       "      <th>Grad1corr</th>\n",
       "      <th>Grad1pval</th>\n",
       "      <th>Grad2corr</th>\n",
       "      <th>Grad2pval</th>\n",
       "    </tr>\n",
       "  </thead>\n",
       "  <tbody>\n",
       "    <tr>\n",
       "      <th>Aghourian_FEOBV</th>\n",
       "      <td>0.189427</td>\n",
       "      <td>0.049505</td>\n",
       "      <td>0.319911</td>\n",
       "      <td>0.019802</td>\n",
       "    </tr>\n",
       "    <tr>\n",
       "      <th>Bedard_FEOBV</th>\n",
       "      <td>0.161131</td>\n",
       "      <td>0.049505</td>\n",
       "      <td>0.112730</td>\n",
       "      <td>0.336634</td>\n",
       "    </tr>\n",
       "    <tr>\n",
       "      <th>Tuominen_FEOBV</th>\n",
       "      <td>0.137697</td>\n",
       "      <td>0.178218</td>\n",
       "      <td>0.280191</td>\n",
       "      <td>0.099010</td>\n",
       "    </tr>\n",
       "    <tr>\n",
       "      <th>M1</th>\n",
       "      <td>0.017409</td>\n",
       "      <td>0.831683</td>\n",
       "      <td>-0.142577</td>\n",
       "      <td>0.297030</td>\n",
       "    </tr>\n",
       "    <tr>\n",
       "      <th>nAchRs</th>\n",
       "      <td>0.093748</td>\n",
       "      <td>0.257426</td>\n",
       "      <td>-0.057026</td>\n",
       "      <td>0.574257</td>\n",
       "    </tr>\n",
       "  </tbody>\n",
       "</table>\n",
       "</div>"
      ],
      "text/plain": [
       "                 Grad1corr  Grad1pval  Grad2corr  Grad2pval\n",
       "Aghourian_FEOBV   0.189427   0.049505   0.319911   0.019802\n",
       "Bedard_FEOBV      0.161131   0.049505   0.112730   0.336634\n",
       "Tuominen_FEOBV    0.137697   0.178218   0.280191   0.099010\n",
       "M1                0.017409   0.831683  -0.142577   0.297030\n",
       "nAchRs            0.093748   0.257426  -0.057026   0.574257"
      ]
     },
     "execution_count": 28,
     "metadata": {},
     "output_type": "execute_result"
    }
   ],
   "source": [
    "FH_null_gradcorr_df"
   ]
  },
  {
   "cell_type": "code",
   "execution_count": 29,
   "id": "aac6afde-65f4-40ac-84a2-6ed2f3a81100",
   "metadata": {},
   "outputs": [
    {
     "data": {
      "image/png": "[encoded data removed]",
      "text/plain": [
       "<Figure size 432x288 with 1 Axes>"
      ]
     },
     "metadata": {
      "needs_background": "light"
     },
     "output_type": "display_data"
    }
   ],
   "source": [
    "ax = FH_null_gradcorr_df[['Grad1corr','Grad2corr']].plot(kind='bar', color=['y', 'c',]) \n",
    "x_offset = -0.5\n",
    "y_offset = 0.5\n",
    "for p in ax.patches:\n",
    "    b = p.get_bbox()\n",
    "    val = \"{:+.2f}\".format(b.y1 + b.y0)        \n",
    "    ax.annotate(val, ((b.x0 + b.x1)/2 + x_offset, b.y1 + y_offset))\n",
    "    ax.set_ylabel('pearson correlation')\n",
    "    ax.set_title('Functional HCPMMP null model Gradients', fontsize=16)\n",
    "ax.figure.savefig(fig_path+'Func_HCPMMP_null_Gradients_comp.png', dpi=300)"
   ]
  },
  {
   "cell_type": "code",
   "execution_count": 30,
   "id": "deeff38c-6dc0-4730-8e83-8ce308553640",
   "metadata": {},
   "outputs": [
    {
     "data": {
      "text/html": [
       "<div>\n",
       "<style scoped>\n",
       "    .dataframe tbody tr th:only-of-type {\n",
       "        vertical-align: middle;\n",
       "    }\n",
       "\n",
       "    .dataframe tbody tr th {\n",
       "        vertical-align: top;\n",
       "    }\n",
       "\n",
       "    .dataframe thead th {\n",
       "        text-align: right;\n",
       "    }\n",
       "</style>\n",
       "<table border=\"1\" class=\"dataframe\">\n",
       "  <thead>\n",
       "    <tr style=\"text-align: right;\">\n",
       "      <th></th>\n",
       "      <th>Grad1 upper 25% corr</th>\n",
       "      <th>Grad1 upper 25% pval</th>\n",
       "      <th>Grad1 lower 25% corr</th>\n",
       "      <th>Grad1 lower 25% pval</th>\n",
       "      <th>Grad2 upper 25% corr</th>\n",
       "      <th>Grad2 upper 25% pval</th>\n",
       "      <th>Grad2 lower 25% corr</th>\n",
       "      <th>Grad2 lower 25% pval</th>\n",
       "    </tr>\n",
       "  </thead>\n",
       "  <tbody>\n",
       "    <tr>\n",
       "      <th>Aghourian_FEOBV</th>\n",
       "      <td>0.259172</td>\n",
       "      <td>0.029703</td>\n",
       "      <td>-0.088638</td>\n",
       "      <td>0.445545</td>\n",
       "      <td>0.261038</td>\n",
       "      <td>0.009901</td>\n",
       "      <td>0.063256</td>\n",
       "      <td>0.544554</td>\n",
       "    </tr>\n",
       "    <tr>\n",
       "      <th>Bedard_FEOBV</th>\n",
       "      <td>0.199555</td>\n",
       "      <td>0.099010</td>\n",
       "      <td>-0.084811</td>\n",
       "      <td>0.534653</td>\n",
       "      <td>0.144562</td>\n",
       "      <td>0.049505</td>\n",
       "      <td>0.065289</td>\n",
       "      <td>0.544554</td>\n",
       "    </tr>\n",
       "    <tr>\n",
       "      <th>Tuominen_FEOBV</th>\n",
       "      <td>0.244560</td>\n",
       "      <td>0.128713</td>\n",
       "      <td>-0.117432</td>\n",
       "      <td>0.366337</td>\n",
       "      <td>0.179399</td>\n",
       "      <td>0.079208</td>\n",
       "      <td>0.079840</td>\n",
       "      <td>0.405941</td>\n",
       "    </tr>\n",
       "    <tr>\n",
       "      <th>M1</th>\n",
       "      <td>-0.034557</td>\n",
       "      <td>0.752475</td>\n",
       "      <td>0.017941</td>\n",
       "      <td>0.871287</td>\n",
       "      <td>-0.027264</td>\n",
       "      <td>0.821782</td>\n",
       "      <td>-0.014259</td>\n",
       "      <td>0.900990</td>\n",
       "    </tr>\n",
       "    <tr>\n",
       "      <th>nAchRs</th>\n",
       "      <td>0.014924</td>\n",
       "      <td>0.910891</td>\n",
       "      <td>-0.062540</td>\n",
       "      <td>0.623762</td>\n",
       "      <td>-0.118398</td>\n",
       "      <td>0.386139</td>\n",
       "      <td>-0.012329</td>\n",
       "      <td>0.930693</td>\n",
       "    </tr>\n",
       "  </tbody>\n",
       "</table>\n",
       "</div>"
      ],
      "text/plain": [
       "                 Grad1 upper 25% corr  Grad1 upper 25% pval  \\\n",
       "Aghourian_FEOBV              0.259172              0.029703   \n",
       "Bedard_FEOBV                 0.199555              0.099010   \n",
       "Tuominen_FEOBV               0.244560              0.128713   \n",
       "M1                          -0.034557              0.752475   \n",
       "nAchRs                       0.014924              0.910891   \n",
       "\n",
       "                 Grad1 lower 25% corr  Grad1 lower 25% pval  \\\n",
       "Aghourian_FEOBV             -0.088638              0.445545   \n",
       "Bedard_FEOBV                -0.084811              0.534653   \n",
       "Tuominen_FEOBV              -0.117432              0.366337   \n",
       "M1                           0.017941              0.871287   \n",
       "nAchRs                      -0.062540              0.623762   \n",
       "\n",
       "                 Grad2 upper 25% corr  Grad2 upper 25% pval  \\\n",
       "Aghourian_FEOBV              0.261038              0.009901   \n",
       "Bedard_FEOBV                 0.144562              0.049505   \n",
       "Tuominen_FEOBV               0.179399              0.079208   \n",
       "M1                          -0.027264              0.821782   \n",
       "nAchRs                      -0.118398              0.386139   \n",
       "\n",
       "                 Grad2 lower 25% corr  Grad2 lower 25% pval  \n",
       "Aghourian_FEOBV              0.063256              0.544554  \n",
       "Bedard_FEOBV                 0.065289              0.544554  \n",
       "Tuominen_FEOBV               0.079840              0.405941  \n",
       "M1                          -0.014259              0.900990  \n",
       "nAchRs                      -0.012329              0.930693  "
      ]
     },
     "execution_count": 30,
     "metadata": {},
     "output_type": "execute_result"
    }
   ],
   "source": [
    "FH_null_grad25corr_df"
   ]
  },
  {
   "cell_type": "code",
   "execution_count": 31,
   "id": "79ff553a-30ab-4ce5-b290-f5c1a90666ee",
   "metadata": {},
   "outputs": [
    {
     "data": {
      "image/png": "[encoded data removed]",
      "text/plain": [
       "<Figure size 432x288 with 1 Axes>"
      ]
     },
     "metadata": {
      "needs_background": "light"
     },
     "output_type": "display_data"
    }
   ],
   "source": [
    "ax = FH_null_grad25corr_df[['Grad1 upper 25% corr','Grad1 lower 25% corr','Grad2 upper 25% corr','Grad2 lower 25% corr']].plot(kind='bar', color=['r','b', 'g', 'm']) \n",
    "x_offset = -1\n",
    "y_offset = 1\n",
    "for p in ax.patches:\n",
    "    b = p.get_bbox()\n",
    "    val = \"{:+.2f}\".format(b.y1 + b.y0)        \n",
    "    ax.annotate(val, ((b.x0 + b.x1)/2 + x_offset, b.y1 + y_offset))\n",
    "    ax.legend(loc='center left', bbox_to_anchor=(1.0, 0.8))\n",
    "    ax.set_ylabel('pearson correlation')\n",
    "    ax.set_title('Functional HCPMMP null model Gradient 25%', fontsize=16)\n",
    "ax.figure.savefig(fig_path+'Func_HCPMMP_null_Gradients_25%_comp.png', dpi=300)"
   ]
  },
  {
   "cell_type": "code",
   "execution_count": 199,
   "id": "e0b8e288-951e-42df-989e-b1aa02d1ffe6",
   "metadata": {},
   "outputs": [],
   "source": [
    "pd.DataFrame(FH_null_k3clustcorr_df).to_csv(results_path + 'Func_HCPMMP_null_k3clust_comp.csv')\n",
    "pd.DataFrame(FH_null_gradcorr_df).to_csv(results_path + 'Func_HCPMMP_null_Grad_comp.csv')\n",
    "pd.DataFrame(FH_null_grad25corr_df).to_csv(results_path + 'Func_HCPMMP_null_Grad25_comp.csv')"
   ]
  },
  {
   "cell_type": "code",
   "execution_count": 33,
   "id": "50a72ce4-a4e7-452d-bd1a-c8361c40c2c1",
   "metadata": {},
   "outputs": [
    {
     "data": {
      "text/html": [
       "<style type=\"text/css\">\n",
       "</style>\n",
       "\n",
       "\n",
       "\n",
       "<table id=\"T_1d131_\" style=\"border-collapse: collapse; font-size: 12pt; font-family: 11pt\">\n",
       "\n",
       "\n",
       "\n",
       "\n",
       "\n",
       "<thead>\n",
       "\n",
       "\n",
       "\n",
       "    <tr style=\"padding: 0; margin: 0;\">\n",
       "\n",
       "\n",
       "\n",
       "      <th class=\"blank level0\"  style=\"text-align: center; border-top: 1.5pt solid black; border-bottom: 1.5pt solid black\" >&nbsp;</th>\n",
       "\n",
       "\n",
       "\n",
       "      <th class=\"col_heading level0 col0\"  style=\"text-align: center; border-top: 1.5pt solid black; border-bottom: 1.5pt solid black\" >Grad1 upper 25% corr</th>\n",
       "\n",
       "\n",
       "\n",
       "      <th class=\"col_heading level0 col1\"  style=\"text-align: center; border-top: 1.5pt solid black; border-bottom: 1.5pt solid black\" >Grad1 upper 25% pval</th>\n",
       "\n",
       "\n",
       "\n",
       "      <th class=\"col_heading level0 col2\"  style=\"text-align: center; border-top: 1.5pt solid black; border-bottom: 1.5pt solid black\" >Grad1 lower 25% corr</th>\n",
       "\n",
       "\n",
       "\n",
       "      <th class=\"col_heading level0 col3\"  style=\"text-align: center; border-top: 1.5pt solid black; border-bottom: 1.5pt solid black\" >Grad1 lower 25% pval</th>\n",
       "\n",
       "\n",
       "\n",
       "      <th class=\"col_heading level0 col4\"  style=\"text-align: center; border-top: 1.5pt solid black; border-bottom: 1.5pt solid black\" >Grad2 upper 25% corr</th>\n",
       "\n",
       "\n",
       "\n",
       "      <th class=\"col_heading level0 col5\"  style=\"text-align: center; border-top: 1.5pt solid black; border-bottom: 1.5pt solid black\" >Grad2 upper 25% pval</th>\n",
       "\n",
       "\n",
       "\n",
       "      <th class=\"col_heading level0 col6\"  style=\"text-align: center; border-top: 1.5pt solid black; border-bottom: 1.5pt solid black\" >Grad2 lower 25% corr</th>\n",
       "\n",
       "\n",
       "\n",
       "      <th class=\"col_heading level0 col7\"  style=\"text-align: center; border-top: 1.5pt solid black; border-bottom: 1.5pt solid black\" >Grad2 lower 25% pval</th>\n",
       "\n",
       "\n",
       "\n",
       "    </tr>\n",
       "\n",
       "\n",
       "\n",
       "</thead>\n",
       "\n",
       "\n",
       "<tbody>\n",
       "\n",
       "\n",
       "\n",
       "    <tr style=\"background-color: white; padding: 0; margin: 0;\">\n",
       "\n",
       "\n",
       "      <th id=\"T_1d131_level0_row0\" class=\"row_heading level0 row0\"  style=\"vertical-align: middle; text-align: left\" >Aghourian_FEOBV</th>\n",
       "\n",
       "      <td id=\"T_1d131_row0_col0\" class=\"data row0 col0\"  style=\"vertical-align: middle; text-align: center\" >0.259172</td>\n",
       "\n",
       "      <td id=\"T_1d131_row0_col1\" class=\"data row0 col1\"  style=\"vertical-align: middle; text-align: center\" >0.029703</td>\n",
       "\n",
       "      <td id=\"T_1d131_row0_col2\" class=\"data row0 col2\"  style=\"vertical-align: middle; text-align: center\" >-0.088638</td>\n",
       "\n",
       "      <td id=\"T_1d131_row0_col3\" class=\"data row0 col3\"  style=\"vertical-align: middle; text-align: center\" >0.445545</td>\n",
       "\n",
       "      <td id=\"T_1d131_row0_col4\" class=\"data row0 col4\"  style=\"vertical-align: middle; text-align: center\" >0.261038</td>\n",
       "\n",
       "      <td id=\"T_1d131_row0_col5\" class=\"data row0 col5\"  style=\"vertical-align: middle; text-align: center\" >0.009901</td>\n",
       "\n",
       "      <td id=\"T_1d131_row0_col6\" class=\"data row0 col6\"  style=\"vertical-align: middle; text-align: center\" >0.063256</td>\n",
       "\n",
       "      <td id=\"T_1d131_row0_col7\" class=\"data row0 col7\"  style=\"vertical-align: middle; text-align: center\" >0.544554</td>\n",
       "\n",
       "\n",
       "    </tr>\n",
       "\n",
       "\n",
       "\n",
       "    <tr style=\"background-color: white; padding: 0; margin: 0;\">\n",
       "\n",
       "\n",
       "      <th id=\"T_1d131_level0_row1\" class=\"row_heading level0 row1\"  style=\"vertical-align: middle; text-align: left\" >Bedard_FEOBV</th>\n",
       "\n",
       "      <td id=\"T_1d131_row1_col0\" class=\"data row1 col0\"  style=\"vertical-align: middle; text-align: center\" >0.199555</td>\n",
       "\n",
       "      <td id=\"T_1d131_row1_col1\" class=\"data row1 col1\"  style=\"vertical-align: middle; text-align: center\" >0.099010</td>\n",
       "\n",
       "      <td id=\"T_1d131_row1_col2\" class=\"data row1 col2\"  style=\"vertical-align: middle; text-align: center\" >-0.084811</td>\n",
       "\n",
       "      <td id=\"T_1d131_row1_col3\" class=\"data row1 col3\"  style=\"vertical-align: middle; text-align: center\" >0.534653</td>\n",
       "\n",
       "      <td id=\"T_1d131_row1_col4\" class=\"data row1 col4\"  style=\"vertical-align: middle; text-align: center\" >0.144562</td>\n",
       "\n",
       "      <td id=\"T_1d131_row1_col5\" class=\"data row1 col5\"  style=\"vertical-align: middle; text-align: center\" >0.049505</td>\n",
       "\n",
       "      <td id=\"T_1d131_row1_col6\" class=\"data row1 col6\"  style=\"vertical-align: middle; text-align: center\" >0.065289</td>\n",
       "\n",
       "      <td id=\"T_1d131_row1_col7\" class=\"data row1 col7\"  style=\"vertical-align: middle; text-align: center\" >0.544554</td>\n",
       "\n",
       "\n",
       "    </tr>\n",
       "\n",
       "\n",
       "\n",
       "    <tr style=\"background-color: white; padding: 0; margin: 0;\">\n",
       "\n",
       "\n",
       "      <th id=\"T_1d131_level0_row2\" class=\"row_heading level0 row2\"  style=\"vertical-align: middle; text-align: left\" >Tuominen_FEOBV</th>\n",
       "\n",
       "      <td id=\"T_1d131_row2_col0\" class=\"data row2 col0\"  style=\"vertical-align: middle; text-align: center\" >0.244560</td>\n",
       "\n",
       "      <td id=\"T_1d131_row2_col1\" class=\"data row2 col1\"  style=\"vertical-align: middle; text-align: center\" >0.128713</td>\n",
       "\n",
       "      <td id=\"T_1d131_row2_col2\" class=\"data row2 col2\"  style=\"vertical-align: middle; text-align: center\" >-0.117432</td>\n",
       "\n",
       "      <td id=\"T_1d131_row2_col3\" class=\"data row2 col3\"  style=\"vertical-align: middle; text-align: center\" >0.366337</td>\n",
       "\n",
       "      <td id=\"T_1d131_row2_col4\" class=\"data row2 col4\"  style=\"vertical-align: middle; text-align: center\" >0.179399</td>\n",
       "\n",
       "      <td id=\"T_1d131_row2_col5\" class=\"data row2 col5\"  style=\"vertical-align: middle; text-align: center\" >0.079208</td>\n",
       "\n",
       "      <td id=\"T_1d131_row2_col6\" class=\"data row2 col6\"  style=\"vertical-align: middle; text-align: center\" >0.079840</td>\n",
       "\n",
       "      <td id=\"T_1d131_row2_col7\" class=\"data row2 col7\"  style=\"vertical-align: middle; text-align: center\" >0.405941</td>\n",
       "\n",
       "\n",
       "    </tr>\n",
       "\n",
       "\n",
       "\n",
       "    <tr style=\"background-color: white; padding: 0; margin: 0;\">\n",
       "\n",
       "\n",
       "      <th id=\"T_1d131_level0_row3\" class=\"row_heading level0 row3\"  style=\"vertical-align: middle; text-align: left\" >M1</th>\n",
       "\n",
       "      <td id=\"T_1d131_row3_col0\" class=\"data row3 col0\"  style=\"vertical-align: middle; text-align: center\" >-0.034557</td>\n",
       "\n",
       "      <td id=\"T_1d131_row3_col1\" class=\"data row3 col1\"  style=\"vertical-align: middle; text-align: center\" >0.752475</td>\n",
       "\n",
       "      <td id=\"T_1d131_row3_col2\" class=\"data row3 col2\"  style=\"vertical-align: middle; text-align: center\" >0.017941</td>\n",
       "\n",
       "      <td id=\"T_1d131_row3_col3\" class=\"data row3 col3\"  style=\"vertical-align: middle; text-align: center\" >0.871287</td>\n",
       "\n",
       "      <td id=\"T_1d131_row3_col4\" class=\"data row3 col4\"  style=\"vertical-align: middle; text-align: center\" >-0.027264</td>\n",
       "\n",
       "      <td id=\"T_1d131_row3_col5\" class=\"data row3 col5\"  style=\"vertical-align: middle; text-align: center\" >0.821782</td>\n",
       "\n",
       "      <td id=\"T_1d131_row3_col6\" class=\"data row3 col6\"  style=\"vertical-align: middle; text-align: center\" >-0.014259</td>\n",
       "\n",
       "      <td id=\"T_1d131_row3_col7\" class=\"data row3 col7\"  style=\"vertical-align: middle; text-align: center\" >0.900990</td>\n",
       "\n",
       "\n",
       "    </tr>\n",
       "\n",
       "\n",
       "\n",
       "    <tr style=\"background-color: white; padding: 0; margin: 0;\">\n",
       "\n",
       "\n",
       "      <th id=\"T_1d131_level0_row4\" class=\"row_heading level0 row4\"  style=\"vertical-align: middle; text-align: left; border-bottom: 1.5pt solid black\" >nAchRs</th>\n",
       "\n",
       "      <td id=\"T_1d131_row4_col0\" class=\"data row4 col0\"  style=\"vertical-align: middle; text-align: center; border-bottom: 1.5pt solid black\" >0.014924</td>\n",
       "\n",
       "      <td id=\"T_1d131_row4_col1\" class=\"data row4 col1\"  style=\"vertical-align: middle; text-align: center; border-bottom: 1.5pt solid black\" >0.910891</td>\n",
       "\n",
       "      <td id=\"T_1d131_row4_col2\" class=\"data row4 col2\"  style=\"vertical-align: middle; text-align: center; border-bottom: 1.5pt solid black\" >-0.062540</td>\n",
       "\n",
       "      <td id=\"T_1d131_row4_col3\" class=\"data row4 col3\"  style=\"vertical-align: middle; text-align: center; border-bottom: 1.5pt solid black\" >0.623762</td>\n",
       "\n",
       "      <td id=\"T_1d131_row4_col4\" class=\"data row4 col4\"  style=\"vertical-align: middle; text-align: center; border-bottom: 1.5pt solid black\" >-0.118398</td>\n",
       "\n",
       "      <td id=\"T_1d131_row4_col5\" class=\"data row4 col5\"  style=\"vertical-align: middle; text-align: center; border-bottom: 1.5pt solid black\" >0.386139</td>\n",
       "\n",
       "      <td id=\"T_1d131_row4_col6\" class=\"data row4 col6\"  style=\"vertical-align: middle; text-align: center; border-bottom: 1.5pt solid black\" >-0.012329</td>\n",
       "\n",
       "      <td id=\"T_1d131_row4_col7\" class=\"data row4 col7\"  style=\"vertical-align: middle; text-align: center; border-bottom: 1.5pt solid black\" >0.930693</td>\n",
       "\n",
       "\n",
       "    </tr>\n",
       "\n",
       "\n",
       "\n",
       "</tbody>\n",
       "\n",
       "</table>\n",
       "\n",
       "\n",
       "\n",
       "<input id=\"B_1d131_\" type=\"button\" value=\"Copy Table\" />\n",
       "<script language=\"javascript\">\n",
       "document.querySelector(\"#B_1d131_\").addEventListener(\"click\", function () {\n",
       "  function walkTheDOM(node, func) {\n",
       "    func(node);\n",
       "    node = node.firstChild;\n",
       "    while (node) {\n",
       "        walkTheDOM(node, func);\n",
       "        node = node.nextSibling;\n",
       "    }\n",
       "  }\n",
       "  \n",
       "  function removePadding(node) {\n",
       "    if (node.tagName === \"TH\" || node.tagName === \"TD\"){\n",
       "      node.style.padding = \"0 5px\";\n",
       "    }\n",
       "  }\n",
       "  \n",
       "  let el = document.getElementById(\"T_1d131_\");\n",
       "  let parent = el.parentNode;\n",
       "  let elCopy = el.cloneNode(true);\n",
       "  \n",
       "  walkTheDOM(elCopy, removePadding);\n",
       "  \n",
       "  parent.appendChild(elCopy);\n",
       "\n",
       "  var body = document.body,\n",
       "    range,\n",
       "    sel;\n",
       "  if (document.createRange && window.getSelection) {\n",
       "    range = document.createRange();\n",
       "    sel = window.getSelection();\n",
       "    sel.removeAllRanges();\n",
       "    try {\n",
       "      range.selectNodeContents(elCopy);\n",
       "      sel.addRange(range);\n",
       "    } catch (e) {\n",
       "      range.selectNode(elCopy);\n",
       "      sel.addRange(range);\n",
       "    }\n",
       "  } else if (body.createTextRange) {\n",
       "    range = body.createTextRange();\n",
       "    range.moveToElementText(elCopy);\n",
       "    range.select();\n",
       "  }\n",
       "  document.execCommand(\"copy\");\n",
       "  elCopy.remove();\n",
       "});\n",
       "\n",
       "</script>\n",
       "\n"
      ],
      "text/plain": [
       "<zentables.zentables.PrettyStyler at 0x7f2a6acac370>"
      ]
     },
     "execution_count": 33,
     "metadata": {},
     "output_type": "execute_result"
    }
   ],
   "source": [
    "FH_null_grad25corr_df.zen.pretty(font_size=\"12pt\")"
   ]
  },
  {
   "cell_type": "code",
   "execution_count": null,
   "id": "08e0461c-a272-42a9-92de-c82b0c8cdd9b",
   "metadata": {},
   "outputs": [],
   "source": []
  }
 ],
 "metadata": {
  "kernelspec": {
   "display_name": "Python 3 (ipykernel)",
   "language": "python",
   "name": "python3"
  },
  "language_info": {
   "codemirror_mode": {
    "name": "ipython",
    "version": 3
   },
   "file_extension": ".py",
   "mimetype": "text/x-python",
   "name": "python",
   "nbconvert_exporter": "python",
   "pygments_lexer": "ipython3",
   "version": "3.9.5"
  }
 },
 "nbformat": 4,
 "nbformat_minor": 5
}
