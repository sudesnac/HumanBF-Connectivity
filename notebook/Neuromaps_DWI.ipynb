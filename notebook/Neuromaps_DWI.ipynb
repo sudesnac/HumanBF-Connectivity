{
 "cells": [
  {
   "cell_type": "code",
   "execution_count": 70,
   "id": "17f897e7-45c7-4ca5-8dc6-d03d6224ddce",
   "metadata": {},
   "outputs": [],
   "source": [
    "# This notebook is for comparing selected receptors of neuromaps with Diffusion BF parcellation cortical data\n",
    "\n",
    "# Includes:\n",
    "#  Selected neuromaps - M1, nAchRs, FEOBVs\n",
    "#  fetching the neuromaps\n",
    "#  transofrming the maps to surface space\n",
    "#  fetching the trsholded neuromaps\n",
    "#  Comparing (stats.compare) neruomaps with BF parcellation cortical data (get only corr)\n",
    "#  Spatial null models of neuromaps and comparing them with BF cortical data (get corr. and pval)"
   ]
  },
  {
   "cell_type": "code",
   "execution_count": 1,
   "id": "017b6c99-b5e9-4947-ada4-e1e6c01e81f5",
   "metadata": {},
   "outputs": [],
   "source": [
    "from neuromaps import stats\n",
    "from neuromaps import datasets, images, nulls, resampling\n",
    "from neuromaps.datasets import available_annotations\n",
    "from neuromaps.datasets import available_tags\n",
    "from neuromaps.datasets import fetch_annotation\n",
    "import nibabel as nib\n",
    "from nilearn.plotting import plot_glass_brain\n",
    "import pandas as pd\n",
    "from neuromaps import transforms, plotting\n",
    "import numpy as np\n",
    "from brainspace.datasets import load_conte69, load_fsa5\n",
    "from brainspace.plotting import plot_hemispheres\n",
    "from neuromaps.datasets import fetch_fslr\n",
    "from surfplot import Plot\n",
    "from matplotlib import pyplot as plt   \n",
    "import zentables as zen"
   ]
  },
  {
   "cell_type": "markdown",
   "id": "f0b76fb7-7195-49ff-b1f1-a9c735fce168",
   "metadata": {},
   "source": [
    "### Setting up the path and loading necessary neuromap files"
   ]
  },
  {
   "cell_type": "code",
   "execution_count": 2,
   "id": "aeaecfc7-6a6d-4a7b-9b8b-662cf642aeba",
   "metadata": {},
   "outputs": [],
   "source": [
    "main_path = \"/srv/khan/users/sudesnac/\"\n",
    "#main_path = \"/home/ROBARTS/schakraborty/graham/sudesnacPJ/21_Codes/\""
   ]
  },
  {
   "cell_type": "code",
   "execution_count": 3,
   "id": "ae2ca3a6-f3e2-4689-833e-d228422e0bb7",
   "metadata": {},
   "outputs": [],
   "source": [
    "# get the current notebook path\n",
    "note_path = main_path + \"/HumanBF-Parcellation/notebook/\"\n",
    "data_path = main_path + \"/HumanBF-Parcellation/data/\"\n",
    "results_path = main_path + \"/HumanBF-Parcellation/results/Neuromaps/\"\n",
    "fig_path = main_path + \"/HumanBF-Parcellation/results/figures/Neuromaps/\""
   ]
  },
  {
   "cell_type": "code",
   "execution_count": 4,
   "id": "e347d2ae-f45e-4eb5-8f9c-458444f59a29",
   "metadata": {},
   "outputs": [],
   "source": [
    "# Receptors to fetch\n",
    "Aghourian_FEOBV = datasets.fetch_annotation(source='aghourian2017', desc='feobv')\n",
    "Bedard_FEOBV = datasets.fetch_annotation(source='bedard2019', desc='feobv')\n",
    "Tuominen_FEOBV = datasets.fetch_annotation(source='tuominen', desc='feobv')\n",
    "M1 = datasets.fetch_annotation(desc='lsn3172176')\n",
    "nAchRs = datasets.fetch_annotation(desc='flubatine')"
   ]
  },
  {
   "cell_type": "code",
   "execution_count": 5,
   "id": "fe41e98e-ded7-4acf-8a91-9237352e50c8",
   "metadata": {},
   "outputs": [],
   "source": [
    "# transform to fsaverage space\n",
    "Aghourian_FEOBV_fsa = transforms.mni152_to_fsaverage(Aghourian_FEOBV, '10k')\n",
    "Bedard_FEOBV_fsa = transforms.mni152_to_fsaverage(Bedard_FEOBV, '10k')\n",
    "Tuominen_FEOBV_fsa = transforms.mni152_to_fsaverage(Tuominen_FEOBV, '10k')\n",
    "M1_fsa = transforms.mni152_to_fsaverage(M1, '10k')\n",
    "nAchRs_fsa = transforms.mni152_to_fsaverage(nAchRs, '10k')"
   ]
  },
  {
   "cell_type": "code",
   "execution_count": 6,
   "id": "d62f5b27-f531-4a8b-a3dc-2ea4b1de05b8",
   "metadata": {},
   "outputs": [],
   "source": [
    "# Load the tresholded data\n",
    "Tr_Aghourian_FEOBV_fslr_L = images.load_gifti(results_path+'Receptor-Aghourian_FEOBV_Treshold25%_L_fsLR-32k.gii')\n",
    "Tr_Aghourian_FEOBV_fslr_R = images.load_gifti(results_path+'Receptor-Aghourian_FEOBV_Treshold25%_R_fsLR-32k.gii')\n",
    "Tr_Aghourian_FEOBV_fslr_L_data = Tr_Aghourian_FEOBV_fslr_L.agg_data()\n",
    "Tr_Aghourian_FEOBV_fslr_R_data = Tr_Aghourian_FEOBV_fslr_R.agg_data()\n",
    "Tr_Aghourian_FEOBV_fslr = (Tr_Aghourian_FEOBV_fslr_L, Tr_Aghourian_FEOBV_fslr_R)\n",
    "\n",
    "Tr_Bedard_FEOBV_fslr_L = images.load_gifti(results_path+'Receptor-Bedard_FEOBV_Treshold25%_L_fsLR-32k.gii')\n",
    "Tr_Bedard_FEOBV_fslr_R = images.load_gifti(results_path+'Receptor-Bedard_FEOBV_Treshold25%_R_fsLR-32k.gii')\n",
    "Tr_Bedard_FEOBV_fslr_L_data = Tr_Bedard_FEOBV_fslr_L.agg_data()\n",
    "Tr_Bedard_FEOBV_fslr_R_data = Tr_Bedard_FEOBV_fslr_R.agg_data()\n",
    "Tr_Bedard_FEOBV_fslr = (Tr_Bedard_FEOBV_fslr_L, Tr_Bedard_FEOBV_fslr_R)\n",
    "\n",
    "Tr_Tuominen_FEOBV_fslr_L = images.load_gifti(results_path+'Receptor-Tuominen_FEOBV_Treshold25%_L_fsLR-32k.gii')\n",
    "Tr_Tuominen_FEOBV_fslr_R = images.load_gifti(results_path+'Receptor-Tuominen_FEOBV_Treshold25%_R_fsLR-32k.gii')\n",
    "Tr_Tuominen_FEOBV_fslr_L_data = Tr_Tuominen_FEOBV_fslr_L.agg_data()\n",
    "Tr_Tuominen_FEOBV_fslr_R_data = Tr_Tuominen_FEOBV_fslr_R.agg_data()\n",
    "Tr_Tuominen_FEOBV_fslr = (Tr_Tuominen_FEOBV_fslr_L, Tr_Tuominen_FEOBV_fslr_R)\n",
    "\n",
    "Tr_M1_fslr_L = images.load_gifti(results_path+'Receptor-M1_Treshold25%_L_fsLR-32k.gii')\n",
    "Tr_M1_fslr_R = images.load_gifti(results_path+'Receptor-M1_Treshold25%_R_fsLR-32k.gii')\n",
    "Tr_M1_fslr_L_data = Tr_M1_fslr_L.agg_data()\n",
    "Tr_M1_fslr_R_data = Tr_M1_fslr_R.agg_data()\n",
    "Tr_M1_fslr = (Tr_M1_fslr_L, Tr_M1_fslr_R)\n",
    "\n",
    "Tr_nAchRs_fslr_L = images.load_gifti(results_path+'Receptor-nAchRs_Treshold25%_L_fsLR-32k.gii')\n",
    "Tr_nAchRs_fslr_R = images.load_gifti(results_path+'Receptor-nAchRs_Treshold25%_R_fsLR-32k.gii')\n",
    "Tr_nAchRs_fslr_L_data = Tr_nAchRs_fslr_L.agg_data()\n",
    "Tr_nAchRs_fslr_R_data = Tr_nAchRs_fslr_R.agg_data()\n",
    "Tr_nAchRs_fslr = (Tr_nAchRs_fslr_L, Tr_nAchRs_fslr_R)"
   ]
  },
  {
   "cell_type": "code",
   "execution_count": 7,
   "id": "30ee4d51-8c09-46c8-a786-4ae422f149c2",
   "metadata": {},
   "outputs": [],
   "source": [
    "# transform tresholded data to fsaverage space\n",
    "Tr_Aghourian_FEOBV_fsa = transforms.fslr_to_fsaverage(Tr_Aghourian_FEOBV_fslr, '10k')\n",
    "Tr_Bedard_FEOBV_fsa = transforms.fslr_to_fsaverage(Tr_Bedard_FEOBV_fslr, '10k')\n",
    "Tr_Tuominen_FEOBV_fsa = transforms.fslr_to_fsaverage(Tr_Tuominen_FEOBV_fslr, '10k')\n",
    "Tr_M1_fsa = transforms.fslr_to_fsaverage(Tr_M1_fslr, '10k')\n",
    "Tr_nAchRs_fsa = transforms.fslr_to_fsaverage(Tr_nAchRs_fslr, '10k')"
   ]
  },
  {
   "cell_type": "markdown",
   "id": "eacd93fd-e19d-4742-9fae-12be9ef04e0b",
   "metadata": {
    "jp-MarkdownHeadingCollapsed": true,
    "tags": []
   },
   "source": [
    "### Compare with Diff UR100 data"
   ]
  },
  {
   "cell_type": "code",
   "execution_count": 77,
   "id": "4feda28e-6000-4f32-ac12-9051b509f465",
   "metadata": {},
   "outputs": [],
   "source": [
    "# Data path\n",
    "DUR100_results_path = \"/home/ROBARTS/schakraborty/graham/sudesnacPJ/21_Codes/HumanBF-Parcellation/results/Diff_UR100/\""
   ]
  },
  {
   "cell_type": "code",
   "execution_count": 78,
   "id": "68e95dd5-162a-47a0-9457-3cac89b94464",
   "metadata": {},
   "outputs": [],
   "source": [
    "# Cluster data\n",
    "DUR_k5clust1_L = images.load_gifti(DUR100_results_path+'Diff_UR100_k-5_cluster-1_L_fsa-10k.gii')\n",
    "DUR_k5clust1_R = images.load_gifti(DUR100_results_path+'Diff_UR100_k-5_cluster-1_R_fsa-10k.gii')\n",
    "k5clust1 = (DUR_k5clust1_L, DUR_k5clust1_R)\n",
    "DUR_k5clust2_L = images.load_gifti(DUR100_results_path+'Diff_UR100_k-5_cluster-2_L_fsa-10k.gii')\n",
    "DUR_k5clust2_R = images.load_gifti(DUR100_results_path+'Diff_UR100_k-5_cluster-2_R_fsa-10k.gii')\n",
    "k5clust2 = (DUR_k5clust2_L, DUR_k5clust2_R)\n",
    "DUR_k5clust3_L = images.load_gifti(DUR100_results_path+'Diff_UR100_k-5_cluster-3_L_fsa-10k.gii')\n",
    "DUR_k5clust3_R = images.load_gifti(DUR100_results_path+'Diff_UR100_k-5_cluster-3_R_fsa-10k.gii')\n",
    "k5clust3 = (DUR_k5clust3_L, DUR_k5clust3_R)\n",
    "DUR_k5clust4_L = images.load_gifti(DUR100_results_path+'Diff_UR100_k-5_cluster-4_L_fsa-10k.gii')\n",
    "DUR_k5clust4_R = images.load_gifti(DUR100_results_path+'Diff_UR100_k-5_cluster-4_R_fsa-10k.gii')\n",
    "k5clust4 = (DUR_k5clust4_L, DUR_k5clust4_R)\n",
    "DUR_k5clust5_L = images.load_gifti(DUR100_results_path+'Diff_UR100_k-5_cluster-5_L_fsa-10k.gii')\n",
    "DUR_k5clust5_R = images.load_gifti(DUR100_results_path+'Diff_UR100_k-5_cluster-5_R_fsa-10k.gii')\n",
    "k5clust5 = (DUR_k5clust5_L, DUR_k5clust5_R)\n",
    "\n",
    "# Gradient Data\n",
    "DUR_grad1_L = images.load_gifti(DUR100_results_path+'Diff_UR100_Gradient-1_weighted_L_fsa-10k.gii')\n",
    "DUR_grad1_R = images.load_gifti(DUR100_results_path+'Diff_UR100_Gradient-1_weighted_R_fsa-10k.gii')\n",
    "grad1 = (DUR_grad1_L, DUR_grad1_R)\n",
    "DUR_grad2_L = images.load_gifti(DUR100_results_path+'Diff_UR100_Gradient-2_weighted_L_fsa-10k.gii')\n",
    "DUR_grad2_R = images.load_gifti(DUR100_results_path+'Diff_UR100_Gradient-2_weighted_R_fsa-10k.gii')\n",
    "grad2 = (DUR_grad2_L, DUR_grad2_R)\n",
    "\n",
    "# Gradient 25% data\n",
    "grad1_upper25_L = images.load_gifti(DUR100_results_path+'Diff_UR100_Gradient-1_Upper25%_L_fsa-10k.gii')\n",
    "grad1_upper25_R = images.load_gifti(DUR100_results_path+'Diff_UR100_Gradient-1_Upper25%_R_fsa-10k.gii')\n",
    "grad1_lower25_L = images.load_gifti(DUR100_results_path+'Diff_UR100_Gradient-1_Lower25%_L_fsa-10k.gii')\n",
    "grad1_lower25_R = images.load_gifti(DUR100_results_path+'Diff_UR100_Gradient-1_Lower25%_R_fsa-10k.gii')\n",
    "grad1_upper25 = (grad1_upper25_L, grad1_upper25_R)\n",
    "grad1_lower25 = (grad1_lower25_L, grad1_lower25_R)\n",
    "grad2_upper25_L = images.load_gifti(DUR100_results_path+'Diff_UR100_Gradient-1_Upper25%_L_fsa-10k.gii')\n",
    "grad2_upper25_R = images.load_gifti(DUR100_results_path+'Diff_UR100_Gradient-1_Upper25%_R_fsa-10k.gii')\n",
    "grad2_lower25_L = images.load_gifti(DUR100_results_path+'Diff_UR100_Gradient-1_Lower25%_L_fsa-10k.gii')\n",
    "grad2_lower25_R = images.load_gifti(DUR100_results_path+'Diff_UR100_Gradient-1_Lower25%_R_fsa-10k.gii')\n",
    "grad2_upper25 = (grad2_upper25_L, grad2_upper25_R)\n",
    "grad2_lower25 = (grad2_lower25_L, grad2_lower25_R)"
   ]
  },
  {
   "cell_type": "code",
   "execution_count": 79,
   "id": "2eb6ca04-63ba-4dc5-a566-dc52a76c4648",
   "metadata": {},
   "outputs": [],
   "source": [
    "# Compare with Aghourian_FEOBV\n",
    "Aghourian_FEOBVk5clust1corr = stats.compare_images(k5clust1, Aghourian_FEOBV_fsa, metric='pearsonr')\n",
    "Aghourian_FEOBVk5clust2corr = stats.compare_images(k5clust2, Aghourian_FEOBV_fsa, metric='pearsonr')\n",
    "Aghourian_FEOBVk5clust3corr = stats.compare_images(k5clust3, Aghourian_FEOBV_fsa, metric='pearsonr')\n",
    "Aghourian_FEOBVk5clust4corr = stats.compare_images(k5clust4, Aghourian_FEOBV_fsa, metric='pearsonr')\n",
    "Aghourian_FEOBVk5clust5corr = stats.compare_images(k5clust5, Aghourian_FEOBV_fsa, metric='pearsonr')\n",
    "\n",
    "Aghourian_FEOBVG1corr = stats.compare_images(grad1, Aghourian_FEOBV_fsa, metric='pearsonr')\n",
    "Aghourian_FEOBVG2corr = stats.compare_images(grad2, Aghourian_FEOBV_fsa, metric='pearsonr')\n",
    "\n",
    "Aghourian_FEOBVG1upper25corr = stats.compare_images(grad1_upper25, Tr_Aghourian_FEOBV_fsa, metric='pearsonr')\n",
    "Aghourian_FEOBVG1lower25corr = stats.compare_images(grad1_lower25, Tr_Aghourian_FEOBV_fsa, metric='pearsonr')\n",
    "Aghourian_FEOBVG2upper25corr = stats.compare_images(grad2_upper25, Tr_Aghourian_FEOBV_fsa, metric='pearsonr')\n",
    "Aghourian_FEOBVG2lower25corr = stats.compare_images(grad2_lower25, Tr_Aghourian_FEOBV_fsa, metric='pearsonr')"
   ]
  },
  {
   "cell_type": "code",
   "execution_count": 80,
   "id": "c3ef5cf2-e87f-4dd3-977b-a52a429a68df",
   "metadata": {},
   "outputs": [],
   "source": [
    "# Compare with Bedard_FEOBV\n",
    "Bedard_FEOBVk5clust1corr = stats.compare_images(k5clust1, Bedard_FEOBV_fsa, metric='pearsonr')\n",
    "Bedard_FEOBVk5clust2corr = stats.compare_images(k5clust2, Bedard_FEOBV_fsa, metric='pearsonr')\n",
    "Bedard_FEOBVk5clust3corr = stats.compare_images(k5clust3, Bedard_FEOBV_fsa, metric='pearsonr')\n",
    "Bedard_FEOBVk5clust4corr = stats.compare_images(k5clust4, Bedard_FEOBV_fsa, metric='pearsonr')\n",
    "Bedard_FEOBVk5clust5corr = stats.compare_images(k5clust5, Bedard_FEOBV_fsa, metric='pearsonr')\n",
    "\n",
    "Bedard_FEOBVG1corr = stats.compare_images(grad1, Bedard_FEOBV_fsa, metric='pearsonr')\n",
    "Bedard_FEOBVG2corr = stats.compare_images(grad2, Bedard_FEOBV_fsa, metric='pearsonr')\n",
    "\n",
    "Bedard_FEOBVG1upper25corr = stats.compare_images(grad1_upper25, Tr_Bedard_FEOBV_fsa, metric='pearsonr')\n",
    "Bedard_FEOBVG1lower25corr = stats.compare_images(grad1_lower25, Tr_Bedard_FEOBV_fsa, metric='pearsonr')\n",
    "Bedard_FEOBVG2upper25corr = stats.compare_images(grad2_upper25, Tr_Bedard_FEOBV_fsa, metric='pearsonr')\n",
    "Bedard_FEOBVG2lower25corr = stats.compare_images(grad2_lower25, Tr_Bedard_FEOBV_fsa, metric='pearsonr')"
   ]
  },
  {
   "cell_type": "code",
   "execution_count": 81,
   "id": "aacafc1e-8de8-4aff-bd45-3e5efdaa3c02",
   "metadata": {},
   "outputs": [],
   "source": [
    "# Compare with Tuominen_FEOBV\n",
    "Tuominen_FEOBVk5clust1corr = stats.compare_images(k5clust1, Tuominen_FEOBV_fsa, metric='pearsonr')\n",
    "Tuominen_FEOBVk5clust2corr = stats.compare_images(k5clust2, Tuominen_FEOBV_fsa, metric='pearsonr')\n",
    "Tuominen_FEOBVk5clust3corr = stats.compare_images(k5clust3, Tuominen_FEOBV_fsa, metric='pearsonr')\n",
    "Tuominen_FEOBVk5clust4corr = stats.compare_images(k5clust4, Tuominen_FEOBV_fsa, metric='pearsonr')\n",
    "Tuominen_FEOBVk5clust5corr = stats.compare_images(k5clust5, Tuominen_FEOBV_fsa, metric='pearsonr')\n",
    "\n",
    "Tuominen_FEOBVG1corr = stats.compare_images(grad1, Tuominen_FEOBV_fsa, metric='pearsonr')\n",
    "Tuominen_FEOBVG2corr = stats.compare_images(grad2, Tuominen_FEOBV_fsa, metric='pearsonr')\n",
    "\n",
    "Tuominen_FEOBVG1upper25corr = stats.compare_images(grad1_upper25, Tr_Tuominen_FEOBV_fsa, metric='pearsonr')\n",
    "Tuominen_FEOBVG1lower25corr = stats.compare_images(grad1_lower25, Tr_Tuominen_FEOBV_fsa, metric='pearsonr')\n",
    "Tuominen_FEOBVG2upper25corr = stats.compare_images(grad2_upper25, Tr_Tuominen_FEOBV_fsa, metric='pearsonr')\n",
    "Tuominen_FEOBVG2lower25corr = stats.compare_images(grad2_lower25, Tr_Tuominen_FEOBV_fsa, metric='pearsonr')"
   ]
  },
  {
   "cell_type": "code",
   "execution_count": 82,
   "id": "31ea74d8-c732-415d-a949-26876f4e0583",
   "metadata": {},
   "outputs": [],
   "source": [
    "# Compare with M1\n",
    "M1k5clust1corr = stats.compare_images(k5clust1, M1_fsa, metric='pearsonr')\n",
    "M1k5clust2corr = stats.compare_images(k5clust2, M1_fsa, metric='pearsonr')\n",
    "M1k5clust3corr = stats.compare_images(k5clust3, M1_fsa, metric='pearsonr')\n",
    "M1k5clust4corr = stats.compare_images(k5clust4, M1_fsa, metric='pearsonr')\n",
    "M1k5clust5corr = stats.compare_images(k5clust5, M1_fsa, metric='pearsonr')\n",
    "\n",
    "M1G1corr = stats.compare_images(grad1, M1_fsa, metric='pearsonr')\n",
    "M1G2corr = stats.compare_images(grad2, M1_fsa, metric='pearsonr')\n",
    "\n",
    "M1G1upper25corr = stats.compare_images(grad1_upper25, Tr_M1_fsa, metric='pearsonr')\n",
    "M1G1lower25corr = stats.compare_images(grad1_lower25, Tr_M1_fsa, metric='pearsonr')\n",
    "M1G2upper25corr = stats.compare_images(grad2_upper25, Tr_M1_fsa, metric='pearsonr')\n",
    "M1G2lower25corr = stats.compare_images(grad2_lower25, Tr_M1_fsa, metric='pearsonr')"
   ]
  },
  {
   "cell_type": "code",
   "execution_count": 83,
   "id": "07b6fe4d-0b58-4fa7-8446-5320ff041688",
   "metadata": {},
   "outputs": [],
   "source": [
    "# Compare with nAchRs\n",
    "nAchRsk5clust1corr = stats.compare_images(k5clust1, nAchRs_fsa, metric='pearsonr')\n",
    "nAchRsk5clust2corr = stats.compare_images(k5clust2, nAchRs_fsa, metric='pearsonr')\n",
    "nAchRsk5clust3corr = stats.compare_images(k5clust3, nAchRs_fsa, metric='pearsonr')\n",
    "nAchRsk5clust4corr = stats.compare_images(k5clust4, nAchRs_fsa, metric='pearsonr')\n",
    "nAchRsk5clust5corr = stats.compare_images(k5clust5, nAchRs_fsa, metric='pearsonr')\n",
    "\n",
    "nAchRsG1corr = stats.compare_images(grad1, nAchRs_fsa, metric='pearsonr')\n",
    "nAchRsG2corr = stats.compare_images(grad2, nAchRs_fsa, metric='pearsonr')\n",
    "\n",
    "nAchRsG1upper25corr = stats.compare_images(grad1_upper25, Tr_nAchRs_fsa, metric='pearsonr')\n",
    "nAchRsG1lower25corr = stats.compare_images(grad1_lower25, Tr_nAchRs_fsa, metric='pearsonr')\n",
    "nAchRsG2upper25corr = stats.compare_images(grad2_upper25, Tr_nAchRs_fsa, metric='pearsonr')\n",
    "nAchRsG2lower25corr = stats.compare_images(grad2_lower25, Tr_nAchRs_fsa, metric='pearsonr')"
   ]
  },
  {
   "cell_type": "code",
   "execution_count": 84,
   "id": "db31bb24-9cd3-482d-9a58-4a705a82e32f",
   "metadata": {},
   "outputs": [],
   "source": [
    "DUR_k5clust1corr = [Aghourian_FEOBVk5clust1corr, Bedard_FEOBVk5clust1corr, Tuominen_FEOBVk5clust1corr, M1k5clust1corr, nAchRsk5clust1corr]\n",
    "DUR_k5clust2corr = [Aghourian_FEOBVk5clust2corr, Bedard_FEOBVk5clust2corr, Tuominen_FEOBVk5clust2corr, M1k5clust2corr, nAchRsk5clust2corr]\n",
    "DUR_k5clust3corr = [Aghourian_FEOBVk5clust3corr, Bedard_FEOBVk5clust3corr, Tuominen_FEOBVk5clust3corr, M1k5clust3corr, nAchRsk5clust3corr]\n",
    "DUR_k5clust4corr = [Aghourian_FEOBVk5clust4corr, Bedard_FEOBVk5clust4corr, Tuominen_FEOBVk5clust4corr, M1k5clust4corr, nAchRsk5clust4corr]\n",
    "DUR_k5clust5corr = [Aghourian_FEOBVk5clust5corr, Bedard_FEOBVk5clust5corr, Tuominen_FEOBVk5clust5corr, M1k5clust5corr, nAchRsk5clust5corr]\n",
    "\n",
    "DUR_grad1_corr = [Aghourian_FEOBVG1corr, Bedard_FEOBVG1corr, Tuominen_FEOBVG1corr, M1G1corr, nAchRsG1corr]\n",
    "DUR_grad2_corr = [Aghourian_FEOBVG2corr, Bedard_FEOBVG2corr, Tuominen_FEOBVG2corr, M1G2corr, nAchRsG2corr]\n",
    "\n",
    "DUR_grad1_upper25_corr = [Aghourian_FEOBVG1upper25corr, Bedard_FEOBVG1upper25corr, Tuominen_FEOBVG1upper25corr, M1G1upper25corr, nAchRsG1upper25corr]\n",
    "DUR_grad1_lower25_corr = [Aghourian_FEOBVG1lower25corr, Bedard_FEOBVG1lower25corr, Tuominen_FEOBVG1lower25corr, M1G1lower25corr, nAchRsG1lower25corr]\n",
    "DUR_grad2_upper25_corr = [Aghourian_FEOBVG2upper25corr, Bedard_FEOBVG2upper25corr, Tuominen_FEOBVG2upper25corr, M1G2upper25corr, nAchRsG2upper25corr]\n",
    "DUR_grad2_lower25_corr = [Aghourian_FEOBVG2lower25corr, Bedard_FEOBVG2lower25corr, Tuominen_FEOBVG2lower25corr, M1G2lower25corr, nAchRsG2lower25corr]"
   ]
  },
  {
   "cell_type": "code",
   "execution_count": 85,
   "id": "8876ec8f-c2c4-49a6-846a-b9a06595bfc1",
   "metadata": {},
   "outputs": [],
   "source": [
    "DUR_k5clustcorr_df = pd.DataFrame({'k5clust1':DUR_k5clust1corr,'k5clust2':DUR_k5clust2corr, 'k5clust3':DUR_k5clust3corr, 'k5clust4':DUR_k5clust4corr, 'k5clust5':DUR_k5clust5corr},index=['Aghourian_FEOBV', 'Bedard_FEOBV', 'Tuominen_FEOBV', 'M1', 'nAchRs'])\n",
    "DUR_gradcorr_df = pd.DataFrame({'Grad1':DUR_grad1_corr,'Grad2':DUR_grad2_corr},index=['Aghourian_FEOBV', 'Bedard_FEOBV', 'Tuominen_FEOBV', 'M1', 'nAchRs'])\n",
    "DUR_grad25corr_df = pd.DataFrame({'Grad1 upper 25%':DUR_grad1_upper25_corr, 'Grad1 lower 25%':DUR_grad1_lower25_corr, 'Grad2 upper 25%':DUR_grad2_upper25_corr, 'Grad2 lower 25%':DUR_grad2_lower25_corr},index=['Aghourian_FEOBV', 'Bedard_FEOBV', 'Tuominen_FEOBV', 'M1', 'nAchRs'])"
   ]
  },
  {
   "cell_type": "code",
   "execution_count": 86,
   "id": "3dc08354-b75e-4bde-be40-827fe9be3ed7",
   "metadata": {},
   "outputs": [],
   "source": [
    "pd.DataFrame(DUR_k5clustcorr_df).to_csv(results_path + 'Diff_UR100_k5clust_corr.csv')\n",
    "pd.DataFrame(DUR_gradcorr_df).to_csv(results_path + 'Diff_UR100_Grad_corr.csv')\n",
    "pd.DataFrame(DUR_grad25corr_df).to_csv(results_path + 'Diff_UR100_Grad25_corr.csv')"
   ]
  },
  {
   "cell_type": "code",
   "execution_count": 87,
   "id": "e5a43d9e-8cfc-424b-8aef-dada2c275acd",
   "metadata": {},
   "outputs": [
    {
     "data": {
      "image/png": "[encoded data removed]",
      "text/plain": [
       "<Figure size 432x288 with 1 Axes>"
      ]
     },
     "metadata": {
      "needs_background": "light"
     },
     "output_type": "display_data"
    }
   ],
   "source": [
    "ax = DUR_k5clustcorr_df.plot(kind='bar', color=['r','g', 'b'], fontsize=12) \n",
    "for p in ax.patches:\n",
    "    ax.set_ylabel('pearson correlation',fontsize=12)\n",
    "    ax.set_title('Diffusion UR100 k-5 cluster', fontsize=16)\n",
    "    ax.legend(loc='center left', bbox_to_anchor=(1.0, 0.7))\n",
    "ax.figure.savefig(fig_path+'Diff_UR100_k-5cluster_comp.png', dpi=300)"
   ]
  },
  {
   "cell_type": "code",
   "execution_count": 88,
   "id": "5d9afa57-5037-45e0-ba23-ef7afbee2cc2",
   "metadata": {},
   "outputs": [
    {
     "data": {
      "image/png": "[encoded data removed]",
      "text/plain": [
       "<Figure size 432x288 with 1 Axes>"
      ]
     },
     "metadata": {
      "needs_background": "light"
     },
     "output_type": "display_data"
    }
   ],
   "source": [
    "ax = DUR_gradcorr_df.plot(kind='bar', color=['y', 'c',]) \n",
    "x_offset = -0.5\n",
    "y_offset = 0.5\n",
    "for p in ax.patches:\n",
    "    b = p.get_bbox()\n",
    "    val = \"{:+.2f}\".format(b.y1 + b.y0)        \n",
    "    ax.annotate(val, ((b.x0 + b.x1)/2 + x_offset, b.y1 + y_offset))\n",
    "    ax.set_ylabel('pearson correlation')\n",
    "    ax.set_title('Diffusion UR100 Gradients', fontsize=16)\n",
    "ax.figure.savefig(fig_path+'Diff_UR100_Gradients_comp.png', dpi=300)"
   ]
  },
  {
   "cell_type": "code",
   "execution_count": 89,
   "id": "6f52be4e-ca48-43a2-9015-715d3ac93917",
   "metadata": {},
   "outputs": [
    {
     "data": {
      "image/png": "[encoded data removed]",
      "text/plain": [
       "<Figure size 432x288 with 1 Axes>"
      ]
     },
     "metadata": {
      "needs_background": "light"
     },
     "output_type": "display_data"
    }
   ],
   "source": [
    "ax = DUR_grad25corr_df.plot(kind='bar', color=['r','b', 'g', 'm']) \n",
    "x_offset = -1\n",
    "y_offset = 1\n",
    "for p in ax.patches:\n",
    "    b = p.get_bbox()\n",
    "    val = \"{:+.2f}\".format(b.y1 + b.y0)        \n",
    "    ax.annotate(val, ((b.x0 + b.x1)/2 + x_offset, b.y1 + y_offset))\n",
    "    ax.legend(loc='center left', bbox_to_anchor=(1.0, 0.7))\n",
    "    ax.set_ylabel('pearson correlation')\n",
    "    ax.set_title('Diffusion UR100 Gradient 25%', fontsize=16)\n",
    "ax.figure.savefig(fig_path+'Diff_UR100_Gradients_25%_comp.png', dpi=300)"
   ]
  },
  {
   "cell_type": "markdown",
   "id": "a43773cc-f999-4c8c-b574-33cc80d60f3b",
   "metadata": {
    "jp-MarkdownHeadingCollapsed": true,
    "tags": []
   },
   "source": [
    "### Spatial Null models"
   ]
  },
  {
   "cell_type": "code",
   "execution_count": 23,
   "id": "1542f04d-2f63-4dda-ab31-2382249af68f",
   "metadata": {},
   "outputs": [],
   "source": [
    "alex_aghourian_rotated = nulls.alexander_bloch(Aghourian_FEOBV_fsa, atlas='fsaverage', density='10k', n_perm=100, seed=1234)\n",
    "alex_bedard_rotated = nulls.alexander_bloch(Bedard_FEOBV_fsa, atlas='fsaverage', density='10k', n_perm=100, seed=1234)\n",
    "alex_tuominen_rotated = nulls.alexander_bloch(Tuominen_FEOBV_fsa, atlas='fsaverage', density='10k', n_perm=100, seed=1234)\n",
    "alex_M1_rotated = nulls.alexander_bloch(M1_fsa, atlas='fsaverage', density='10k', n_perm=100, seed=1234)\n",
    "alex_nAchRs_rotated = nulls.alexander_bloch(nAchRs_fsa, atlas='fsaverage', density='10k', n_perm=100, seed=1234)"
   ]
  },
  {
   "cell_type": "code",
   "execution_count": 24,
   "id": "e99d084e-dc0b-4654-b0a6-38922be6309e",
   "metadata": {},
   "outputs": [],
   "source": [
    "alex_tr_aghourian_rotated = nulls.alexander_bloch(Tr_Aghourian_FEOBV_fsa, atlas='fsaverage', density='10k', n_perm=100, seed=1234)\n",
    "alex_tr_bedard_rotated = nulls.alexander_bloch(Tr_Bedard_FEOBV_fsa, atlas='fsaverage', density='10k', n_perm=100, seed=1234)\n",
    "alex_tr_tuominen_rotated = nulls.alexander_bloch(Tr_Tuominen_FEOBV_fsa, atlas='fsaverage', density='10k', n_perm=100, seed=1234)\n",
    "alex_tr_M1_rotated = nulls.alexander_bloch(Tr_M1_fsa, atlas='fsaverage', density='10k', n_perm=100, seed=1234)\n",
    "alex_tr_nAchRs_rotated = nulls.alexander_bloch(Tr_nAchRs_fsa, atlas='fsaverage', density='10k', n_perm=100, seed=1234)"
   ]
  },
  {
   "cell_type": "code",
   "execution_count": 92,
   "id": "dd14cfef-0e73-44fb-a8eb-13a3d3a9128c",
   "metadata": {},
   "outputs": [],
   "source": [
    "# Compare with Aghourian_FEOBV\n",
    "Aghourian_k5clust1corr, Aghourian_k5clust1pval = stats.compare_images(Aghourian_FEOBV_fsa, k5clust1, nulls=alex_aghourian_rotated)\n",
    "Aghourian_k5clust2corr, Aghourian_k5clust2pval = stats.compare_images(Aghourian_FEOBV_fsa, k5clust2, nulls=alex_aghourian_rotated)\n",
    "Aghourian_k5clust3corr, Aghourian_k5clust3pval = stats.compare_images(Aghourian_FEOBV_fsa, k5clust3, nulls=alex_aghourian_rotated)\n",
    "Aghourian_k5clust4corr, Aghourian_k5clust4pval = stats.compare_images(Aghourian_FEOBV_fsa, k5clust4, nulls=alex_aghourian_rotated)\n",
    "Aghourian_k5clust5corr, Aghourian_k5clust5pval = stats.compare_images(Aghourian_FEOBV_fsa, k5clust5, nulls=alex_aghourian_rotated)\n",
    "\n",
    "Aghourian_G1corr, Aghourian_G1pval = stats.compare_images(Aghourian_FEOBV_fsa, grad1, nulls=alex_aghourian_rotated)\n",
    "Aghourian_G2corr, Aghourian_G2pval = stats.compare_images(Aghourian_FEOBV_fsa, grad2, nulls=alex_aghourian_rotated)\n",
    "\n",
    "Aghourian_G1upper25corr, Aghourian_G1upper25pval = stats.compare_images(Tr_Aghourian_FEOBV_fsa, grad1_upper25, nulls=alex_tr_aghourian_rotated)\n",
    "Aghourian_G1lower25corr, Aghourian_G1lower25pval = stats.compare_images(Tr_Aghourian_FEOBV_fsa, grad1_lower25, nulls=alex_tr_aghourian_rotated)\n",
    "Aghourian_G2upper25corr, Aghourian_G2upper25pval = stats.compare_images(Tr_Aghourian_FEOBV_fsa, grad2_upper25, nulls=alex_tr_aghourian_rotated)\n",
    "Aghourian_G2lower25corr, Aghourian_G2lower25pval = stats.compare_images(Tr_Aghourian_FEOBV_fsa, grad2_lower25, nulls=alex_tr_aghourian_rotated)"
   ]
  },
  {
   "cell_type": "code",
   "execution_count": 93,
   "id": "d4a4b1fd-95e5-43b9-a65d-5dc629e9c411",
   "metadata": {},
   "outputs": [],
   "source": [
    "# Compare with Bedard_FEOBV\n",
    "Bedard_k5clust1corr, Bedard_k5clust1pval = stats.compare_images(Bedard_FEOBV_fsa, k5clust1, nulls=alex_bedard_rotated)\n",
    "Bedard_k5clust2corr, Bedard_k5clust2pval = stats.compare_images(Bedard_FEOBV_fsa, k5clust2, nulls=alex_bedard_rotated)\n",
    "Bedard_k5clust3corr, Bedard_k5clust3pval = stats.compare_images(Bedard_FEOBV_fsa, k5clust3, nulls=alex_bedard_rotated)\n",
    "Bedard_k5clust4corr, Bedard_k5clust4pval = stats.compare_images(Bedard_FEOBV_fsa, k5clust4, nulls=alex_bedard_rotated)\n",
    "Bedard_k5clust5corr, Bedard_k5clust5pval = stats.compare_images(Bedard_FEOBV_fsa, k5clust5, nulls=alex_bedard_rotated)\n",
    "\n",
    "Bedard_G1corr, Bedard_G1pval = stats.compare_images(Bedard_FEOBV_fsa, grad1, nulls=alex_bedard_rotated)\n",
    "Bedard_G2corr, Bedard_G2pval = stats.compare_images(Bedard_FEOBV_fsa, grad2, nulls=alex_bedard_rotated)\n",
    "\n",
    "Bedard_G1upper25corr, Bedard_G1upper25pval = stats.compare_images(Tr_Bedard_FEOBV_fsa, grad1_upper25, nulls=alex_tr_bedard_rotated)\n",
    "Bedard_G1lower25corr, Bedard_G1lower25pval = stats.compare_images(Tr_Bedard_FEOBV_fsa, grad1_lower25, nulls=alex_tr_bedard_rotated)\n",
    "Bedard_G2upper25corr, Bedard_G2upper25pval = stats.compare_images(Tr_Bedard_FEOBV_fsa, grad2_upper25, nulls=alex_tr_bedard_rotated)\n",
    "Bedard_G2lower25corr, Bedard_G2lower25pval = stats.compare_images(Tr_Bedard_FEOBV_fsa, grad2_lower25, nulls=alex_tr_bedard_rotated)"
   ]
  },
  {
   "cell_type": "code",
   "execution_count": 94,
   "id": "db3ba7ff-0796-4397-b6c9-4609fa58dbfb",
   "metadata": {},
   "outputs": [],
   "source": [
    "# Compare with Tuominen_FEOBV\n",
    "Tuominen_k5clust1corr, Tuominen_k5clust1pval = stats.compare_images(Tuominen_FEOBV_fsa, k5clust1, nulls=alex_tuominen_rotated)\n",
    "Tuominen_k5clust2corr, Tuominen_k5clust2pval = stats.compare_images(Tuominen_FEOBV_fsa, k5clust2, nulls=alex_tuominen_rotated)\n",
    "Tuominen_k5clust3corr, Tuominen_k5clust3pval = stats.compare_images(Tuominen_FEOBV_fsa, k5clust3, nulls=alex_tuominen_rotated)\n",
    "Tuominen_k5clust4corr, Tuominen_k5clust4pval = stats.compare_images(Tuominen_FEOBV_fsa, k5clust4, nulls=alex_tuominen_rotated)\n",
    "Tuominen_k5clust5corr, Tuominen_k5clust5pval = stats.compare_images(Tuominen_FEOBV_fsa, k5clust5, nulls=alex_tuominen_rotated)\n",
    "\n",
    "Tuominen_G1corr, Tuominen_G1pval = stats.compare_images(Tuominen_FEOBV_fsa, grad1, nulls=alex_tuominen_rotated)\n",
    "Tuominen_G2corr, Tuominen_G2pval = stats.compare_images(Tuominen_FEOBV_fsa, grad2, nulls=alex_tuominen_rotated)\n",
    "\n",
    "Tuominen_G1upper25corr, Tuominen_G1upper25pval = stats.compare_images(Tr_Tuominen_FEOBV_fsa, grad1_upper25, nulls=alex_tr_tuominen_rotated)\n",
    "Tuominen_G1lower25corr, Tuominen_G1lower25pval = stats.compare_images(Tr_Tuominen_FEOBV_fsa, grad1_lower25, nulls=alex_tr_tuominen_rotated)\n",
    "Tuominen_G2upper25corr, Tuominen_G2upper25pval = stats.compare_images(Tr_Tuominen_FEOBV_fsa, grad2_upper25, nulls=alex_tr_tuominen_rotated)\n",
    "Tuominen_G2lower25corr, Tuominen_G2lower25pval = stats.compare_images(Tr_Tuominen_FEOBV_fsa, grad2_lower25, nulls=alex_tr_tuominen_rotated)"
   ]
  },
  {
   "cell_type": "code",
   "execution_count": 95,
   "id": "20e43b21-2ae1-45d2-90bf-355e85f51871",
   "metadata": {},
   "outputs": [],
   "source": [
    "# Compare with M1\n",
    "M1_k5clust1corr, M1_k5clust1pval = stats.compare_images(M1_fsa, k5clust1, nulls=alex_M1_rotated)\n",
    "M1_k5clust2corr, M1_k5clust2pval = stats.compare_images(M1_fsa, k5clust2, nulls=alex_M1_rotated)\n",
    "M1_k5clust3corr, M1_k5clust3pval = stats.compare_images(M1_fsa, k5clust3, nulls=alex_M1_rotated)\n",
    "M1_k5clust4corr, M1_k5clust4pval = stats.compare_images(M1_fsa, k5clust4, nulls=alex_M1_rotated)\n",
    "M1_k5clust5corr, M1_k5clust5pval = stats.compare_images(M1_fsa, k5clust5, nulls=alex_M1_rotated)\n",
    "\n",
    "M1_G1corr, M1_G1pval = stats.compare_images(M1_fsa, grad1, nulls=alex_M1_rotated)\n",
    "M1_G2corr, M1_G2pval = stats.compare_images(M1_fsa, grad2, nulls=alex_M1_rotated)\n",
    "\n",
    "M1_G1upper25corr, M1_G1upper25pval = stats.compare_images(Tr_M1_fsa, grad1_upper25, nulls=alex_tr_M1_rotated)\n",
    "M1_G1lower25corr, M1_G1lower25pval = stats.compare_images(Tr_M1_fsa, grad1_lower25, nulls=alex_tr_M1_rotated)\n",
    "M1_G2upper25corr, M1_G2upper25pval = stats.compare_images(Tr_M1_fsa, grad2_upper25, nulls=alex_tr_M1_rotated)\n",
    "M1_G2lower25corr, M1_G2lower25pval = stats.compare_images(Tr_M1_fsa, grad2_lower25, nulls=alex_tr_M1_rotated)"
   ]
  },
  {
   "cell_type": "code",
   "execution_count": 96,
   "id": "5c7e10d8-7d08-4815-8a6f-c79e422e0c03",
   "metadata": {},
   "outputs": [],
   "source": [
    "# Compare with nAchRs\n",
    "nAchRs_k5clust1corr, nAchRs_k5clust1pval = stats.compare_images(nAchRs_fsa, k5clust1, nulls=alex_nAchRs_rotated)\n",
    "nAchRs_k5clust2corr, nAchRs_k5clust2pval = stats.compare_images(nAchRs_fsa, k5clust2, nulls=alex_nAchRs_rotated)\n",
    "nAchRs_k5clust3corr, nAchRs_k5clust3pval = stats.compare_images(nAchRs_fsa, k5clust3, nulls=alex_nAchRs_rotated)\n",
    "nAchRs_k5clust4corr, nAchRs_k5clust4pval = stats.compare_images(nAchRs_fsa, k5clust4, nulls=alex_nAchRs_rotated)\n",
    "nAchRs_k5clust5corr, nAchRs_k5clust5pval = stats.compare_images(nAchRs_fsa, k5clust5, nulls=alex_nAchRs_rotated)\n",
    "\n",
    "nAchRs_G1corr, nAchRs_G1pval = stats.compare_images(nAchRs_fsa, grad1, nulls=alex_nAchRs_rotated)\n",
    "nAchRs_G2corr, nAchRs_G2pval = stats.compare_images(nAchRs_fsa, grad2, nulls=alex_nAchRs_rotated)\n",
    "\n",
    "nAchRs_G1upper25corr, nAchRs_G1upper25pval = stats.compare_images(Tr_nAchRs_fsa, grad1_upper25, nulls=alex_tr_nAchRs_rotated)\n",
    "nAchRs_G1lower25corr, nAchRs_G1lower25pval = stats.compare_images(Tr_nAchRs_fsa, grad1_lower25, nulls=alex_tr_nAchRs_rotated)\n",
    "nAchRs_G2upper25corr, nAchRs_G2upper25pval = stats.compare_images(Tr_nAchRs_fsa, grad2_upper25, nulls=alex_tr_nAchRs_rotated)\n",
    "nAchRs_G2lower25corr, nAchRs_G2lower25pval = stats.compare_images(Tr_nAchRs_fsa, grad2_lower25, nulls=alex_tr_nAchRs_rotated)"
   ]
  },
  {
   "cell_type": "code",
   "execution_count": 97,
   "id": "57e3b3fa-8132-4dea-b46f-245cdfa420ad",
   "metadata": {},
   "outputs": [],
   "source": [
    "DUR_null_k5clust1corr = [Aghourian_k5clust1corr, Bedard_k5clust1corr, Tuominen_k5clust1corr, M1_k5clust1corr, nAchRs_k5clust1corr]\n",
    "DUR_null_k5clust2corr = [Aghourian_k5clust2corr, Bedard_k5clust2corr, Tuominen_k5clust2corr, M1_k5clust2corr, nAchRs_k5clust2corr]\n",
    "DUR_null_k5clust3corr = [Aghourian_k5clust3corr, Bedard_k5clust3corr, Tuominen_k5clust3corr, M1_k5clust3corr, nAchRs_k5clust3corr]\n",
    "DUR_null_k5clust4corr = [Aghourian_k5clust4corr, Bedard_k5clust4corr, Tuominen_k5clust4corr, M1_k5clust4corr, nAchRs_k5clust4corr]\n",
    "DUR_null_k5clust5corr = [Aghourian_k5clust5corr, Bedard_k5clust5corr, Tuominen_k5clust5corr, M1_k5clust5corr, nAchRs_k5clust5corr]\n",
    "\n",
    "DUR_null_grad1_corr = [Aghourian_G1corr, Bedard_G1corr, Tuominen_G1corr, M1_G1corr, nAchRs_G1corr]\n",
    "DUR_null_grad2_corr = [Aghourian_G2corr, Bedard_G2corr, Tuominen_G2corr, M1_G2corr, nAchRs_G2corr]\n",
    "\n",
    "DUR_null_grad1_upper25_corr = [Aghourian_G1upper25corr, Bedard_G1upper25corr, Tuominen_G1upper25corr, M1_G1upper25corr, nAchRs_G1upper25corr]\n",
    "DUR_null_grad1_lower25_corr = [Aghourian_G1lower25corr, Bedard_G1lower25corr, Tuominen_G1lower25corr, M1_G1lower25corr, nAchRs_G1lower25corr]\n",
    "DUR_null_grad2_upper25_corr = [Aghourian_G2upper25corr, Bedard_G2upper25corr, Tuominen_G2upper25corr, M1_G2upper25corr, nAchRs_G2upper25corr]\n",
    "DUR_null_grad2_lower25_corr = [Aghourian_G2lower25corr, Bedard_G2lower25corr, Tuominen_G2lower25corr, M1_G2lower25corr, nAchRs_G2lower25corr]"
   ]
  },
  {
   "cell_type": "code",
   "execution_count": 98,
   "id": "12817635-9033-4aa2-8e16-12f7ce1e4fcc",
   "metadata": {},
   "outputs": [],
   "source": [
    "DUR_null_k5clust1pval = [Aghourian_k5clust1pval, Bedard_k5clust1pval, Tuominen_k5clust1pval, M1_k5clust1pval, nAchRs_k5clust1pval]\n",
    "DUR_null_k5clust2pval = [Aghourian_k5clust2pval, Bedard_k5clust2pval, Tuominen_k5clust2pval, M1_k5clust2pval, nAchRs_k5clust2pval]\n",
    "DUR_null_k5clust3pval = [Aghourian_k5clust3pval, Bedard_k5clust3pval, Tuominen_k5clust3pval, M1_k5clust3pval, nAchRs_k5clust3pval]\n",
    "DUR_null_k5clust4pval = [Aghourian_k5clust4pval, Bedard_k5clust4pval, Tuominen_k5clust4pval, M1_k5clust4pval, nAchRs_k5clust4pval]\n",
    "DUR_null_k5clust5pval = [Aghourian_k5clust5pval, Bedard_k5clust5pval, Tuominen_k5clust5pval, M1_k5clust5pval, nAchRs_k5clust5pval]\n",
    "\n",
    "DUR_null_grad1_pval = [Aghourian_G1pval, Bedard_G1pval, Tuominen_G1pval, M1_G1pval, nAchRs_G1pval]\n",
    "DUR_null_grad2_pval = [Aghourian_G2pval, Bedard_G2pval, Tuominen_G2pval, M1_G2pval, nAchRs_G2pval]\n",
    "\n",
    "DUR_null_grad1_upper25_pval = [Aghourian_G1upper25pval, Bedard_G1upper25pval, Tuominen_G1upper25pval, M1_G1upper25pval, nAchRs_G1upper25pval]\n",
    "DUR_null_grad1_lower25_pval = [Aghourian_G1lower25pval, Bedard_G1lower25pval, Tuominen_G1lower25pval, M1_G1lower25pval, nAchRs_G1lower25pval]\n",
    "DUR_null_grad2_upper25_pval = [Aghourian_G2upper25pval, Bedard_G2upper25pval, Tuominen_G2upper25pval, M1_G2upper25pval, nAchRs_G2upper25pval]\n",
    "DUR_null_grad2_lower25_pval = [Aghourian_G2lower25pval, Bedard_G2lower25pval, Tuominen_G2lower25pval, M1_G2lower25pval, nAchRs_G2lower25pval]"
   ]
  },
  {
   "cell_type": "code",
   "execution_count": 99,
   "id": "d91fe4d4-4a56-4ea2-ac9f-aa783e230891",
   "metadata": {},
   "outputs": [],
   "source": [
    "DUR_null_k5clustcorr_df = pd.DataFrame({'k5clust1corr':DUR_null_k5clust1corr, 'k5clust1pval':DUR_null_k5clust1pval, 'k5clust2corr':DUR_null_k5clust2corr, 'k5clust2pval':DUR_null_k5clust2pval,'k5clust3corr':DUR_null_k5clust3corr, 'k5clust3pval':DUR_null_k5clust3pval, 'k5clust4corr':DUR_null_k5clust4corr, 'k5clust4pval':DUR_null_k5clust4pval, 'k5clust5corr':DUR_null_k5clust5corr, 'k5clust5pval':DUR_null_k5clust5pval},index=['Aghourian_FEOBV', 'Bedard_FEOBV', 'Tuominen_FEOBV', 'M1', 'nAchRs'])\n",
    "DUR_null_gradcorr_df = pd.DataFrame({'Grad1corr':DUR_null_grad1_corr, 'Grad1pval':DUR_null_grad1_pval, 'Grad2corr':DUR_null_grad2_corr, 'Grad2pval':DUR_null_grad2_pval},index=['Aghourian_FEOBV', 'Bedard_FEOBV', 'Tuominen_FEOBV', 'M1', 'nAchRs'])\n",
    "DUR_null_grad25corr_df = pd.DataFrame({'Grad1 upper 25% corr':DUR_null_grad1_upper25_corr, 'Grad1 upper 25% pval':DUR_null_grad1_upper25_pval, 'Grad1 lower 25% corr':DUR_null_grad1_lower25_corr, 'Grad1 lower 25% pval':DUR_null_grad1_lower25_pval, 'Grad2 upper 25% corr':DUR_null_grad2_upper25_corr, 'Grad2 upper 25% pval':DUR_null_grad2_upper25_pval, 'Grad2 lower 25% corr':DUR_null_grad2_lower25_corr, 'Grad2 lower 25% pval':DUR_null_grad2_lower25_pval},index=['Aghourian_FEOBV', 'Bedard_FEOBV', 'Tuominen_FEOBV', 'M1', 'nAchRs'])"
   ]
  },
  {
   "cell_type": "code",
   "execution_count": 100,
   "id": "8bf3539b-7a93-4587-bab8-1e34ebada398",
   "metadata": {},
   "outputs": [],
   "source": [
    "pd.DataFrame(DUR_null_k5clustcorr_df).to_csv(results_path + 'Diff_UR100_null_k5clust_comp.csv')\n",
    "pd.DataFrame(DUR_null_gradcorr_df).to_csv(results_path + 'Diff_UR100_null_Grad_comp.csv')\n",
    "pd.DataFrame(DUR_null_grad25corr_df).to_csv(results_path + 'Diff_UR100_null_Grad25_comp.csv')"
   ]
  },
  {
   "cell_type": "code",
   "execution_count": 101,
   "id": "4ed2cbae-fdb2-48fe-af83-a0e7033b27ae",
   "metadata": {},
   "outputs": [
    {
     "data": {
      "text/html": [
       "<div>\n",
       "<style scoped>\n",
       "    .dataframe tbody tr th:only-of-type {\n",
       "        vertical-align: middle;\n",
       "    }\n",
       "\n",
       "    .dataframe tbody tr th {\n",
       "        vertical-align: top;\n",
       "    }\n",
       "\n",
       "    .dataframe thead th {\n",
       "        text-align: right;\n",
       "    }\n",
       "</style>\n",
       "<table border=\"1\" class=\"dataframe\">\n",
       "  <thead>\n",
       "    <tr style=\"text-align: right;\">\n",
       "      <th></th>\n",
       "      <th>k5clust1corr</th>\n",
       "      <th>k5clust1pval</th>\n",
       "      <th>k5clust2corr</th>\n",
       "      <th>k5clust2pval</th>\n",
       "      <th>k5clust3corr</th>\n",
       "      <th>k5clust3pval</th>\n",
       "      <th>k5clust4corr</th>\n",
       "      <th>k5clust4pval</th>\n",
       "      <th>k5clust5corr</th>\n",
       "      <th>k5clust5pval</th>\n",
       "    </tr>\n",
       "  </thead>\n",
       "  <tbody>\n",
       "    <tr>\n",
       "      <th>Aghourian_FEOBV</th>\n",
       "      <td>-0.125537</td>\n",
       "      <td>0.326733</td>\n",
       "      <td>0.006544</td>\n",
       "      <td>0.950495</td>\n",
       "      <td>-0.149628</td>\n",
       "      <td>0.297030</td>\n",
       "      <td>0.037134</td>\n",
       "      <td>0.712871</td>\n",
       "      <td>-0.017623</td>\n",
       "      <td>0.881188</td>\n",
       "    </tr>\n",
       "    <tr>\n",
       "      <th>Bedard_FEOBV</th>\n",
       "      <td>-0.046835</td>\n",
       "      <td>0.663366</td>\n",
       "      <td>0.086752</td>\n",
       "      <td>0.386139</td>\n",
       "      <td>-0.146176</td>\n",
       "      <td>0.267327</td>\n",
       "      <td>0.093408</td>\n",
       "      <td>0.326733</td>\n",
       "      <td>-0.001230</td>\n",
       "      <td>0.990099</td>\n",
       "    </tr>\n",
       "    <tr>\n",
       "      <th>Tuominen_FEOBV</th>\n",
       "      <td>-0.053197</td>\n",
       "      <td>0.653465</td>\n",
       "      <td>0.069922</td>\n",
       "      <td>0.435644</td>\n",
       "      <td>-0.116227</td>\n",
       "      <td>0.297030</td>\n",
       "      <td>0.088526</td>\n",
       "      <td>0.306931</td>\n",
       "      <td>0.001823</td>\n",
       "      <td>0.940594</td>\n",
       "    </tr>\n",
       "    <tr>\n",
       "      <th>M1</th>\n",
       "      <td>-0.070688</td>\n",
       "      <td>0.504950</td>\n",
       "      <td>-0.044061</td>\n",
       "      <td>0.564356</td>\n",
       "      <td>-0.057074</td>\n",
       "      <td>0.673267</td>\n",
       "      <td>-0.029875</td>\n",
       "      <td>0.732673</td>\n",
       "      <td>-0.064932</td>\n",
       "      <td>0.386139</td>\n",
       "    </tr>\n",
       "    <tr>\n",
       "      <th>nAchRs</th>\n",
       "      <td>-0.167429</td>\n",
       "      <td>0.049505</td>\n",
       "      <td>-0.124260</td>\n",
       "      <td>0.049505</td>\n",
       "      <td>-0.116370</td>\n",
       "      <td>0.158416</td>\n",
       "      <td>-0.090710</td>\n",
       "      <td>0.168317</td>\n",
       "      <td>-0.073823</td>\n",
       "      <td>0.297030</td>\n",
       "    </tr>\n",
       "  </tbody>\n",
       "</table>\n",
       "</div>"
      ],
      "text/plain": [
       "                 k5clust1corr  k5clust1pval  k5clust2corr  k5clust2pval  \\\n",
       "Aghourian_FEOBV     -0.125537      0.326733      0.006544      0.950495   \n",
       "Bedard_FEOBV        -0.046835      0.663366      0.086752      0.386139   \n",
       "Tuominen_FEOBV      -0.053197      0.653465      0.069922      0.435644   \n",
       "M1                  -0.070688      0.504950     -0.044061      0.564356   \n",
       "nAchRs              -0.167429      0.049505     -0.124260      0.049505   \n",
       "\n",
       "                 k5clust3corr  k5clust3pval  k5clust4corr  k5clust4pval  \\\n",
       "Aghourian_FEOBV     -0.149628      0.297030      0.037134      0.712871   \n",
       "Bedard_FEOBV        -0.146176      0.267327      0.093408      0.326733   \n",
       "Tuominen_FEOBV      -0.116227      0.297030      0.088526      0.306931   \n",
       "M1                  -0.057074      0.673267     -0.029875      0.732673   \n",
       "nAchRs              -0.116370      0.158416     -0.090710      0.168317   \n",
       "\n",
       "                 k5clust5corr  k5clust5pval  \n",
       "Aghourian_FEOBV     -0.017623      0.881188  \n",
       "Bedard_FEOBV        -0.001230      0.990099  \n",
       "Tuominen_FEOBV       0.001823      0.940594  \n",
       "M1                  -0.064932      0.386139  \n",
       "nAchRs              -0.073823      0.297030  "
      ]
     },
     "execution_count": 101,
     "metadata": {},
     "output_type": "execute_result"
    }
   ],
   "source": [
    "DUR_null_k5clustcorr_df"
   ]
  },
  {
   "cell_type": "code",
   "execution_count": 104,
   "id": "3330d032-d701-4015-b23c-28b77f2780d2",
   "metadata": {},
   "outputs": [
    {
     "data": {
      "image/png": "[encoded data removed]",
      "text/plain": [
       "<Figure size 432x288 with 1 Axes>"
      ]
     },
     "metadata": {
      "needs_background": "light"
     },
     "output_type": "display_data"
    }
   ],
   "source": [
    "ax = DUR_null_k5clustcorr_df[['k5clust1corr','k5clust2corr', 'k5clust3corr', 'k5clust4corr', 'k5clust5corr']].plot(kind='bar', color=['r','g', 'b'], fontsize=12) \n",
    "for p in ax.patches:\n",
    "    ax.set_ylabel('pearson correlation',fontsize=12)\n",
    "    ax.set_title('Diffusion UR100 null model k-5 cluster', fontsize=16)\n",
    "    ax.legend(loc='center left', bbox_to_anchor=(1.0, 0.8))\n",
    "ax.figure.savefig(fig_path+'Diff_UR100_null_k-5cluster_comp.png', dpi=300)"
   ]
  },
  {
   "cell_type": "code",
   "execution_count": 105,
   "id": "34b9a9cf-4793-4893-91db-0b9531151dbf",
   "metadata": {},
   "outputs": [
    {
     "data": {
      "text/html": [
       "<div>\n",
       "<style scoped>\n",
       "    .dataframe tbody tr th:only-of-type {\n",
       "        vertical-align: middle;\n",
       "    }\n",
       "\n",
       "    .dataframe tbody tr th {\n",
       "        vertical-align: top;\n",
       "    }\n",
       "\n",
       "    .dataframe thead th {\n",
       "        text-align: right;\n",
       "    }\n",
       "</style>\n",
       "<table border=\"1\" class=\"dataframe\">\n",
       "  <thead>\n",
       "    <tr style=\"text-align: right;\">\n",
       "      <th></th>\n",
       "      <th>Grad1corr</th>\n",
       "      <th>Grad1pval</th>\n",
       "      <th>Grad2corr</th>\n",
       "      <th>Grad2pval</th>\n",
       "    </tr>\n",
       "  </thead>\n",
       "  <tbody>\n",
       "    <tr>\n",
       "      <th>Aghourian_FEOBV</th>\n",
       "      <td>-0.269554</td>\n",
       "      <td>0.079208</td>\n",
       "      <td>0.019335</td>\n",
       "      <td>0.920792</td>\n",
       "    </tr>\n",
       "    <tr>\n",
       "      <th>Bedard_FEOBV</th>\n",
       "      <td>-0.314786</td>\n",
       "      <td>0.009901</td>\n",
       "      <td>-0.165886</td>\n",
       "      <td>0.247525</td>\n",
       "    </tr>\n",
       "    <tr>\n",
       "      <th>Tuominen_FEOBV</th>\n",
       "      <td>-0.282084</td>\n",
       "      <td>0.009901</td>\n",
       "      <td>-0.094706</td>\n",
       "      <td>0.514851</td>\n",
       "    </tr>\n",
       "    <tr>\n",
       "      <th>M1</th>\n",
       "      <td>-0.030085</td>\n",
       "      <td>0.831683</td>\n",
       "      <td>0.082281</td>\n",
       "      <td>0.564356</td>\n",
       "    </tr>\n",
       "    <tr>\n",
       "      <th>nAchRs</th>\n",
       "      <td>-0.050232</td>\n",
       "      <td>0.495050</td>\n",
       "      <td>0.152217</td>\n",
       "      <td>0.079208</td>\n",
       "    </tr>\n",
       "  </tbody>\n",
       "</table>\n",
       "</div>"
      ],
      "text/plain": [
       "                 Grad1corr  Grad1pval  Grad2corr  Grad2pval\n",
       "Aghourian_FEOBV  -0.269554   0.079208   0.019335   0.920792\n",
       "Bedard_FEOBV     -0.314786   0.009901  -0.165886   0.247525\n",
       "Tuominen_FEOBV   -0.282084   0.009901  -0.094706   0.514851\n",
       "M1               -0.030085   0.831683   0.082281   0.564356\n",
       "nAchRs           -0.050232   0.495050   0.152217   0.079208"
      ]
     },
     "execution_count": 105,
     "metadata": {},
     "output_type": "execute_result"
    }
   ],
   "source": [
    "DUR_null_gradcorr_df"
   ]
  },
  {
   "cell_type": "code",
   "execution_count": 106,
   "id": "75b9ba9d-b9fa-4a5d-9309-02cbbe423559",
   "metadata": {},
   "outputs": [
    {
     "data": {
      "image/png": "[encoded data removed]",
      "text/plain": [
       "<Figure size 432x288 with 1 Axes>"
      ]
     },
     "metadata": {
      "needs_background": "light"
     },
     "output_type": "display_data"
    }
   ],
   "source": [
    "ax = DUR_null_gradcorr_df[['Grad1corr','Grad2corr']].plot(kind='bar', color=['y', 'c',]) \n",
    "x_offset = -0.5\n",
    "y_offset = 0.5\n",
    "for p in ax.patches:\n",
    "    b = p.get_bbox()\n",
    "    val = \"{:+.2f}\".format(b.y1 + b.y0)        \n",
    "    ax.annotate(val, ((b.x0 + b.x1)/2 + x_offset, b.y1 + y_offset))\n",
    "    ax.set_ylabel('pearson correlation')\n",
    "    ax.set_title('Diffusion UR100 null model Gradients', fontsize=16)\n",
    "ax.figure.savefig(fig_path+'Diff_UR100_null_Gradients_comp.png', dpi=300)"
   ]
  },
  {
   "cell_type": "code",
   "execution_count": 107,
   "id": "17b38c84-24c8-41bc-bf8f-5e3a64d61b56",
   "metadata": {},
   "outputs": [
    {
     "data": {
      "text/html": [
       "<div>\n",
       "<style scoped>\n",
       "    .dataframe tbody tr th:only-of-type {\n",
       "        vertical-align: middle;\n",
       "    }\n",
       "\n",
       "    .dataframe tbody tr th {\n",
       "        vertical-align: top;\n",
       "    }\n",
       "\n",
       "    .dataframe thead th {\n",
       "        text-align: right;\n",
       "    }\n",
       "</style>\n",
       "<table border=\"1\" class=\"dataframe\">\n",
       "  <thead>\n",
       "    <tr style=\"text-align: right;\">\n",
       "      <th></th>\n",
       "      <th>Grad1 upper 25% corr</th>\n",
       "      <th>Grad1 upper 25% pval</th>\n",
       "      <th>Grad1 lower 25% corr</th>\n",
       "      <th>Grad1 lower 25% pval</th>\n",
       "      <th>Grad2 upper 25% corr</th>\n",
       "      <th>Grad2 upper 25% pval</th>\n",
       "      <th>Grad2 lower 25% corr</th>\n",
       "      <th>Grad2 lower 25% pval</th>\n",
       "    </tr>\n",
       "  </thead>\n",
       "  <tbody>\n",
       "    <tr>\n",
       "      <th>Aghourian_FEOBV</th>\n",
       "      <td>0.036076</td>\n",
       "      <td>0.762376</td>\n",
       "      <td>0.097287</td>\n",
       "      <td>0.415842</td>\n",
       "      <td>0.036076</td>\n",
       "      <td>0.762376</td>\n",
       "      <td>0.097287</td>\n",
       "      <td>0.415842</td>\n",
       "    </tr>\n",
       "    <tr>\n",
       "      <th>Bedard_FEOBV</th>\n",
       "      <td>-0.155864</td>\n",
       "      <td>0.148515</td>\n",
       "      <td>0.050116</td>\n",
       "      <td>0.574257</td>\n",
       "      <td>-0.155864</td>\n",
       "      <td>0.148515</td>\n",
       "      <td>0.050116</td>\n",
       "      <td>0.574257</td>\n",
       "    </tr>\n",
       "    <tr>\n",
       "      <th>Tuominen_FEOBV</th>\n",
       "      <td>-0.154634</td>\n",
       "      <td>0.138614</td>\n",
       "      <td>-0.015861</td>\n",
       "      <td>0.841584</td>\n",
       "      <td>-0.154634</td>\n",
       "      <td>0.138614</td>\n",
       "      <td>-0.015861</td>\n",
       "      <td>0.841584</td>\n",
       "    </tr>\n",
       "    <tr>\n",
       "      <th>M1</th>\n",
       "      <td>-0.013720</td>\n",
       "      <td>0.930693</td>\n",
       "      <td>-0.068362</td>\n",
       "      <td>0.366337</td>\n",
       "      <td>-0.013720</td>\n",
       "      <td>0.930693</td>\n",
       "      <td>-0.068362</td>\n",
       "      <td>0.366337</td>\n",
       "    </tr>\n",
       "    <tr>\n",
       "      <th>nAchRs</th>\n",
       "      <td>-0.116003</td>\n",
       "      <td>0.495050</td>\n",
       "      <td>-0.129444</td>\n",
       "      <td>0.267327</td>\n",
       "      <td>-0.116003</td>\n",
       "      <td>0.495050</td>\n",
       "      <td>-0.129444</td>\n",
       "      <td>0.267327</td>\n",
       "    </tr>\n",
       "  </tbody>\n",
       "</table>\n",
       "</div>"
      ],
      "text/plain": [
       "                 Grad1 upper 25% corr  Grad1 upper 25% pval  \\\n",
       "Aghourian_FEOBV              0.036076              0.762376   \n",
       "Bedard_FEOBV                -0.155864              0.148515   \n",
       "Tuominen_FEOBV              -0.154634              0.138614   \n",
       "M1                          -0.013720              0.930693   \n",
       "nAchRs                      -0.116003              0.495050   \n",
       "\n",
       "                 Grad1 lower 25% corr  Grad1 lower 25% pval  \\\n",
       "Aghourian_FEOBV              0.097287              0.415842   \n",
       "Bedard_FEOBV                 0.050116              0.574257   \n",
       "Tuominen_FEOBV              -0.015861              0.841584   \n",
       "M1                          -0.068362              0.366337   \n",
       "nAchRs                      -0.129444              0.267327   \n",
       "\n",
       "                 Grad2 upper 25% corr  Grad2 upper 25% pval  \\\n",
       "Aghourian_FEOBV              0.036076              0.762376   \n",
       "Bedard_FEOBV                -0.155864              0.148515   \n",
       "Tuominen_FEOBV              -0.154634              0.138614   \n",
       "M1                          -0.013720              0.930693   \n",
       "nAchRs                      -0.116003              0.495050   \n",
       "\n",
       "                 Grad2 lower 25% corr  Grad2 lower 25% pval  \n",
       "Aghourian_FEOBV              0.097287              0.415842  \n",
       "Bedard_FEOBV                 0.050116              0.574257  \n",
       "Tuominen_FEOBV              -0.015861              0.841584  \n",
       "M1                          -0.068362              0.366337  \n",
       "nAchRs                      -0.129444              0.267327  "
      ]
     },
     "execution_count": 107,
     "metadata": {},
     "output_type": "execute_result"
    }
   ],
   "source": [
    "DUR_null_grad25corr_df"
   ]
  },
  {
   "cell_type": "code",
   "execution_count": 108,
   "id": "64875cd7-b2c1-49bf-936d-7bcac4ce179a",
   "metadata": {},
   "outputs": [
    {
     "data": {
      "image/png": "[encoded data removed]",
      "text/plain": [
       "<Figure size 432x288 with 1 Axes>"
      ]
     },
     "metadata": {
      "needs_background": "light"
     },
     "output_type": "display_data"
    }
   ],
   "source": [
    "ax = DUR_null_grad25corr_df[['Grad1 upper 25% corr','Grad1 lower 25% corr','Grad2 upper 25% corr','Grad2 lower 25% corr']].plot(kind='bar', color=['r','b', 'g', 'm']) \n",
    "x_offset = -1\n",
    "y_offset = 1\n",
    "for p in ax.patches:\n",
    "    b = p.get_bbox()\n",
    "    val = \"{:+.2f}\".format(b.y1 + b.y0)        \n",
    "    ax.annotate(val, ((b.x0 + b.x1)/2 + x_offset, b.y1 + y_offset))\n",
    "    ax.legend(loc='center left', bbox_to_anchor=(1.0, 0.8))\n",
    "    ax.set_ylabel('pearson correlation')\n",
    "    ax.set_title('Diffusion UR100 null model Gradient 25%', fontsize=16)\n",
    "ax.figure.savefig(fig_path+'Diff_UR100_null_Gradients_25%_comp.png', dpi=300)"
   ]
  },
  {
   "cell_type": "code",
   "execution_count": 109,
   "id": "114e77c0-317f-45e9-ac8b-92c3651d5b09",
   "metadata": {},
   "outputs": [],
   "source": [
    "pd.DataFrame(DUR_null_k5clustcorr_df).to_csv(results_path + 'Diff_UR100_null_k3clust_comp.csv')\n",
    "pd.DataFrame(DUR_null_gradcorr_df).to_csv(results_path + 'Diff_UR100_null_Grad_comp.csv')\n",
    "pd.DataFrame(DUR_null_grad25corr_df).to_csv(results_path + 'Diff_UR100_null_Grad25_comp.csv')"
   ]
  },
  {
   "cell_type": "markdown",
   "id": "3b8e58c8-fbac-4ac8-91e1-48ee2ec7a4f3",
   "metadata": {},
   "source": [
    "### Compare with Diff 7Tsubj(7TDWI) data"
   ]
  },
  {
   "cell_type": "code",
   "execution_count": 9,
   "id": "360be474-5bdc-44e6-a862-b67fd6b26330",
   "metadata": {},
   "outputs": [],
   "source": [
    "# Data path\n",
    "D7Ts_results_path = main_path + \"/HumanBF-Parcellation/results/Diff_7Tsubj7TDWI/\""
   ]
  },
  {
   "cell_type": "code",
   "execution_count": 10,
   "id": "eafafe4b-6d48-439f-ba9d-25d1451a415d",
   "metadata": {},
   "outputs": [],
   "source": [
    "# Cluster data\n",
    "D7T_k5clust1_L = images.load_gifti(D7Ts_results_path+'Diff_7Tsubj7TDWI_k-5_cluster-1_L_fsa-10k.gii')\n",
    "D7T_k5clust1_R = images.load_gifti(D7Ts_results_path+'Diff_7Tsubj7TDWI_k-5_cluster-1_R_fsa-10k.gii')\n",
    "k5clust1 = (D7T_k5clust1_L, D7T_k5clust1_R)\n",
    "D7T_k5clust2_L = images.load_gifti(D7Ts_results_path+'Diff_7Tsubj7TDWI_k-5_cluster-2_L_fsa-10k.gii')\n",
    "D7T_k5clust2_R = images.load_gifti(D7Ts_results_path+'Diff_7Tsubj7TDWI_k-5_cluster-2_R_fsa-10k.gii')\n",
    "k5clust2 = (D7T_k5clust2_L, D7T_k5clust2_R)\n",
    "D7T_k5clust3_L = images.load_gifti(D7Ts_results_path+'Diff_7Tsubj7TDWI_k-5_cluster-3_L_fsa-10k.gii')\n",
    "D7T_k5clust3_R = images.load_gifti(D7Ts_results_path+'Diff_7Tsubj7TDWI_k-5_cluster-3_R_fsa-10k.gii')\n",
    "k5clust3 = (D7T_k5clust3_L, D7T_k5clust3_R)\n",
    "D7T_k5clust4_L = images.load_gifti(D7Ts_results_path+'Diff_7Tsubj7TDWI_k-5_cluster-4_L_fsa-10k.gii')\n",
    "D7T_k5clust4_R = images.load_gifti(D7Ts_results_path+'Diff_7Tsubj7TDWI_k-5_cluster-4_R_fsa-10k.gii')\n",
    "k5clust4 = (D7T_k5clust4_L, D7T_k5clust4_R)\n",
    "D7T_k5clust5_L = images.load_gifti(D7Ts_results_path+'Diff_7Tsubj7TDWI_k-5_cluster-5_L_fsa-10k.gii')\n",
    "D7T_k5clust5_R = images.load_gifti(D7Ts_results_path+'Diff_7Tsubj7TDWI_k-5_cluster-5_R_fsa-10k.gii')\n",
    "k5clust5 = (D7T_k5clust5_L, D7T_k5clust5_R)\n",
    "\n",
    "# Gradient Data\n",
    "D7T_grad1_L = images.load_gifti(D7Ts_results_path+'Diff_7Tsubj7TDWI_Gradient-1_weighted_L_fsa-10k.gii')\n",
    "D7T_grad1_R = images.load_gifti(D7Ts_results_path+'Diff_7Tsubj7TDWI_Gradient-1_weighted_R_fsa-10k.gii')\n",
    "grad1 = (D7T_grad1_L, D7T_grad1_R)\n",
    "D7T_grad2_L = images.load_gifti(D7Ts_results_path+'Diff_7Tsubj7TDWI_Gradient-2_weighted_L_fsa-10k.gii')\n",
    "D7T_grad2_R = images.load_gifti(D7Ts_results_path+'Diff_7Tsubj7TDWI_Gradient-2_weighted_R_fsa-10k.gii')\n",
    "grad2 = (D7T_grad2_L, D7T_grad2_R)\n",
    "\n",
    "# Gradient 25% data\n",
    "grad1_upper25_L = images.load_gifti(D7Ts_results_path+'Diff_7Tsubj7TDWI_Gradient-1_Upper25%_L_fsa-10k.gii')\n",
    "grad1_upper25_R = images.load_gifti(D7Ts_results_path+'Diff_7Tsubj7TDWI_Gradient-1_Upper25%_R_fsa-10k.gii')\n",
    "grad1_lower25_L = images.load_gifti(D7Ts_results_path+'Diff_7Tsubj7TDWI_Gradient-1_Lower25%_L_fsa-10k.gii')\n",
    "grad1_lower25_R = images.load_gifti(D7Ts_results_path+'Diff_7Tsubj7TDWI_Gradient-1_Lower25%_R_fsa-10k.gii')\n",
    "grad1_upper25 = (grad1_upper25_L, grad1_upper25_R)\n",
    "grad1_lower25 = (grad1_lower25_L, grad1_lower25_R)\n",
    "grad2_upper25_L = images.load_gifti(D7Ts_results_path+'Diff_7Tsubj7TDWI_Gradient-1_Upper25%_L_fsa-10k.gii')\n",
    "grad2_upper25_R = images.load_gifti(D7Ts_results_path+'Diff_7Tsubj7TDWI_Gradient-1_Upper25%_R_fsa-10k.gii')\n",
    "grad2_lower25_L = images.load_gifti(D7Ts_results_path+'Diff_7Tsubj7TDWI_Gradient-1_Lower25%_L_fsa-10k.gii')\n",
    "grad2_lower25_R = images.load_gifti(D7Ts_results_path+'Diff_7Tsubj7TDWI_Gradient-1_Lower25%_R_fsa-10k.gii')\n",
    "grad2_upper25 = (grad2_upper25_L, grad2_upper25_R)\n",
    "grad2_lower25 = (grad2_lower25_L, grad2_lower25_R)"
   ]
  },
  {
   "cell_type": "code",
   "execution_count": 11,
   "id": "ca673fe5-5028-47e3-ac07-0430815825ea",
   "metadata": {},
   "outputs": [],
   "source": [
    "# Compare with Aghourian_FEOBV\n",
    "Aghourian_FEOBVk5clust1corr = stats.compare_images(k5clust1, Aghourian_FEOBV_fsa, metric='pearsonr')\n",
    "Aghourian_FEOBVk5clust2corr = stats.compare_images(k5clust2, Aghourian_FEOBV_fsa, metric='pearsonr')\n",
    "Aghourian_FEOBVk5clust3corr = stats.compare_images(k5clust3, Aghourian_FEOBV_fsa, metric='pearsonr')\n",
    "Aghourian_FEOBVk5clust4corr = stats.compare_images(k5clust4, Aghourian_FEOBV_fsa, metric='pearsonr')\n",
    "Aghourian_FEOBVk5clust5corr = stats.compare_images(k5clust5, Aghourian_FEOBV_fsa, metric='pearsonr')\n",
    "\n",
    "Aghourian_FEOBVG1corr = stats.compare_images(grad1, Aghourian_FEOBV_fsa, metric='pearsonr')\n",
    "Aghourian_FEOBVG2corr = stats.compare_images(grad2, Aghourian_FEOBV_fsa, metric='pearsonr')\n",
    "\n",
    "Aghourian_FEOBVG1upper25corr = stats.compare_images(grad1_upper25, Tr_Aghourian_FEOBV_fsa, metric='pearsonr')\n",
    "Aghourian_FEOBVG1lower25corr = stats.compare_images(grad1_lower25, Tr_Aghourian_FEOBV_fsa, metric='pearsonr')\n",
    "Aghourian_FEOBVG2upper25corr = stats.compare_images(grad2_upper25, Tr_Aghourian_FEOBV_fsa, metric='pearsonr')\n",
    "Aghourian_FEOBVG2lower25corr = stats.compare_images(grad2_lower25, Tr_Aghourian_FEOBV_fsa, metric='pearsonr')"
   ]
  },
  {
   "cell_type": "code",
   "execution_count": 12,
   "id": "60066bde-bd1d-4d0a-b61f-e44ab0c213d8",
   "metadata": {},
   "outputs": [],
   "source": [
    "# Compare with Bedard_FEOBV\n",
    "Bedard_FEOBVk5clust1corr = stats.compare_images(k5clust1, Bedard_FEOBV_fsa, metric='pearsonr')\n",
    "Bedard_FEOBVk5clust2corr = stats.compare_images(k5clust2, Bedard_FEOBV_fsa, metric='pearsonr')\n",
    "Bedard_FEOBVk5clust3corr = stats.compare_images(k5clust3, Bedard_FEOBV_fsa, metric='pearsonr')\n",
    "Bedard_FEOBVk5clust4corr = stats.compare_images(k5clust4, Bedard_FEOBV_fsa, metric='pearsonr')\n",
    "Bedard_FEOBVk5clust5corr = stats.compare_images(k5clust5, Bedard_FEOBV_fsa, metric='pearsonr')\n",
    "\n",
    "Bedard_FEOBVG1corr = stats.compare_images(grad1, Bedard_FEOBV_fsa, metric='pearsonr')\n",
    "Bedard_FEOBVG2corr = stats.compare_images(grad2, Bedard_FEOBV_fsa, metric='pearsonr')\n",
    "\n",
    "Bedard_FEOBVG1upper25corr = stats.compare_images(grad1_upper25, Tr_Bedard_FEOBV_fsa, metric='pearsonr')\n",
    "Bedard_FEOBVG1lower25corr = stats.compare_images(grad1_lower25, Tr_Bedard_FEOBV_fsa, metric='pearsonr')\n",
    "Bedard_FEOBVG2upper25corr = stats.compare_images(grad2_upper25, Tr_Bedard_FEOBV_fsa, metric='pearsonr')\n",
    "Bedard_FEOBVG2lower25corr = stats.compare_images(grad2_lower25, Tr_Bedard_FEOBV_fsa, metric='pearsonr')"
   ]
  },
  {
   "cell_type": "code",
   "execution_count": 13,
   "id": "1d0ca679-dfa7-4127-9d60-0b063467dada",
   "metadata": {},
   "outputs": [],
   "source": [
    "# Compare with Tuominen_FEOBV\n",
    "Tuominen_FEOBVk5clust1corr = stats.compare_images(k5clust1, Tuominen_FEOBV_fsa, metric='pearsonr')\n",
    "Tuominen_FEOBVk5clust2corr = stats.compare_images(k5clust2, Tuominen_FEOBV_fsa, metric='pearsonr')\n",
    "Tuominen_FEOBVk5clust3corr = stats.compare_images(k5clust3, Tuominen_FEOBV_fsa, metric='pearsonr')\n",
    "Tuominen_FEOBVk5clust4corr = stats.compare_images(k5clust4, Tuominen_FEOBV_fsa, metric='pearsonr')\n",
    "Tuominen_FEOBVk5clust5corr = stats.compare_images(k5clust5, Tuominen_FEOBV_fsa, metric='pearsonr')\n",
    "\n",
    "Tuominen_FEOBVG1corr = stats.compare_images(grad1, Tuominen_FEOBV_fsa, metric='pearsonr')\n",
    "Tuominen_FEOBVG2corr = stats.compare_images(grad2, Tuominen_FEOBV_fsa, metric='pearsonr')\n",
    "\n",
    "Tuominen_FEOBVG1upper25corr = stats.compare_images(grad1_upper25, Tr_Tuominen_FEOBV_fsa, metric='pearsonr')\n",
    "Tuominen_FEOBVG1lower25corr = stats.compare_images(grad1_lower25, Tr_Tuominen_FEOBV_fsa, metric='pearsonr')\n",
    "Tuominen_FEOBVG2upper25corr = stats.compare_images(grad2_upper25, Tr_Tuominen_FEOBV_fsa, metric='pearsonr')\n",
    "Tuominen_FEOBVG2lower25corr = stats.compare_images(grad2_lower25, Tr_Tuominen_FEOBV_fsa, metric='pearsonr')"
   ]
  },
  {
   "cell_type": "code",
   "execution_count": 14,
   "id": "5b35ed25-e051-4197-a73d-8451a3c864ed",
   "metadata": {},
   "outputs": [],
   "source": [
    "# Compare with M1\n",
    "M1k5clust1corr = stats.compare_images(k5clust1, M1_fsa, metric='pearsonr')\n",
    "M1k5clust2corr = stats.compare_images(k5clust2, M1_fsa, metric='pearsonr')\n",
    "M1k5clust3corr = stats.compare_images(k5clust3, M1_fsa, metric='pearsonr')\n",
    "M1k5clust4corr = stats.compare_images(k5clust4, M1_fsa, metric='pearsonr')\n",
    "M1k5clust5corr = stats.compare_images(k5clust5, M1_fsa, metric='pearsonr')\n",
    "\n",
    "M1G1corr = stats.compare_images(grad1, M1_fsa, metric='pearsonr')\n",
    "M1G2corr = stats.compare_images(grad2, M1_fsa, metric='pearsonr')\n",
    "\n",
    "M1G1upper25corr = stats.compare_images(grad1_upper25, Tr_M1_fsa, metric='pearsonr')\n",
    "M1G1lower25corr = stats.compare_images(grad1_lower25, Tr_M1_fsa, metric='pearsonr')\n",
    "M1G2upper25corr = stats.compare_images(grad2_upper25, Tr_M1_fsa, metric='pearsonr')\n",
    "M1G2lower25corr = stats.compare_images(grad2_lower25, Tr_M1_fsa, metric='pearsonr')"
   ]
  },
  {
   "cell_type": "code",
   "execution_count": 15,
   "id": "33f66aee-860a-4eea-a6ab-8324db03cbd5",
   "metadata": {},
   "outputs": [],
   "source": [
    "# Compare with nAchRs\n",
    "nAchRsk5clust1corr = stats.compare_images(k5clust1, nAchRs_fsa, metric='pearsonr')\n",
    "nAchRsk5clust2corr = stats.compare_images(k5clust2, nAchRs_fsa, metric='pearsonr')\n",
    "nAchRsk5clust3corr = stats.compare_images(k5clust3, nAchRs_fsa, metric='pearsonr')\n",
    "nAchRsk5clust4corr = stats.compare_images(k5clust4, nAchRs_fsa, metric='pearsonr')\n",
    "nAchRsk5clust5corr = stats.compare_images(k5clust5, nAchRs_fsa, metric='pearsonr')\n",
    "\n",
    "nAchRsG1corr = stats.compare_images(grad1, nAchRs_fsa, metric='pearsonr')\n",
    "nAchRsG2corr = stats.compare_images(grad2, nAchRs_fsa, metric='pearsonr')\n",
    "\n",
    "nAchRsG1upper25corr = stats.compare_images(grad1_upper25, Tr_nAchRs_fsa, metric='pearsonr')\n",
    "nAchRsG1lower25corr = stats.compare_images(grad1_lower25, Tr_nAchRs_fsa, metric='pearsonr')\n",
    "nAchRsG2upper25corr = stats.compare_images(grad2_upper25, Tr_nAchRs_fsa, metric='pearsonr')\n",
    "nAchRsG2lower25corr = stats.compare_images(grad2_lower25, Tr_nAchRs_fsa, metric='pearsonr')"
   ]
  },
  {
   "cell_type": "code",
   "execution_count": 16,
   "id": "4935e110-e3a8-4301-977d-4e8bc6e8a3c3",
   "metadata": {},
   "outputs": [],
   "source": [
    "D7T_k5clust1corr = [Aghourian_FEOBVk5clust1corr, Bedard_FEOBVk5clust1corr, Tuominen_FEOBVk5clust1corr, M1k5clust1corr, nAchRsk5clust1corr]\n",
    "D7T_k5clust2corr = [Aghourian_FEOBVk5clust2corr, Bedard_FEOBVk5clust2corr, Tuominen_FEOBVk5clust2corr, M1k5clust2corr, nAchRsk5clust2corr]\n",
    "D7T_k5clust3corr = [Aghourian_FEOBVk5clust3corr, Bedard_FEOBVk5clust3corr, Tuominen_FEOBVk5clust3corr, M1k5clust3corr, nAchRsk5clust3corr]\n",
    "D7T_k5clust4corr = [Aghourian_FEOBVk5clust4corr, Bedard_FEOBVk5clust4corr, Tuominen_FEOBVk5clust4corr, M1k5clust4corr, nAchRsk5clust4corr]\n",
    "D7T_k5clust5corr = [Aghourian_FEOBVk5clust5corr, Bedard_FEOBVk5clust5corr, Tuominen_FEOBVk5clust5corr, M1k5clust5corr, nAchRsk5clust5corr]\n",
    "\n",
    "D7T_grad1_corr = [Aghourian_FEOBVG1corr, Bedard_FEOBVG1corr, Tuominen_FEOBVG1corr, M1G1corr, nAchRsG1corr]\n",
    "D7T_grad2_corr = [Aghourian_FEOBVG2corr, Bedard_FEOBVG2corr, Tuominen_FEOBVG2corr, M1G2corr, nAchRsG2corr]\n",
    "\n",
    "D7T_grad1_upper25_corr = [Aghourian_FEOBVG1upper25corr, Bedard_FEOBVG1upper25corr, Tuominen_FEOBVG1upper25corr, M1G1upper25corr, nAchRsG1upper25corr]\n",
    "D7T_grad1_lower25_corr = [Aghourian_FEOBVG1lower25corr, Bedard_FEOBVG1lower25corr, Tuominen_FEOBVG1lower25corr, M1G1lower25corr, nAchRsG1lower25corr]\n",
    "D7T_grad2_upper25_corr = [Aghourian_FEOBVG2upper25corr, Bedard_FEOBVG2upper25corr, Tuominen_FEOBVG2upper25corr, M1G2upper25corr, nAchRsG2upper25corr]\n",
    "D7T_grad2_lower25_corr = [Aghourian_FEOBVG2lower25corr, Bedard_FEOBVG2lower25corr, Tuominen_FEOBVG2lower25corr, M1G2lower25corr, nAchRsG2lower25corr]"
   ]
  },
  {
   "cell_type": "code",
   "execution_count": 17,
   "id": "e06f478a-fc88-4259-9b54-d52d3d80bddc",
   "metadata": {},
   "outputs": [],
   "source": [
    "D7T_k5clustcorr_df = pd.DataFrame({'k5clust1':D7T_k5clust1corr,'k5clust2':D7T_k5clust2corr, 'k5clust3':D7T_k5clust3corr, 'k5clust4':D7T_k5clust4corr, 'k5clust5':D7T_k5clust5corr},index=['Aghourian_FEOBV', 'Bedard_FEOBV', 'Tuominen_FEOBV', 'M1', 'nAchRs'])\n",
    "D7T_gradcorr_df = pd.DataFrame({'Grad1':D7T_grad1_corr,'Grad2':D7T_grad2_corr},index=['Aghourian_FEOBV', 'Bedard_FEOBV', 'Tuominen_FEOBV', 'M1', 'nAchRs'])\n",
    "D7T_grad25corr_df = pd.DataFrame({'Grad1 upper 25%':D7T_grad1_upper25_corr, 'Grad1 lower 25%':D7T_grad1_lower25_corr, 'Grad2 upper 25%':D7T_grad2_upper25_corr, 'Grad2 lower 25%':D7T_grad2_lower25_corr},index=['Aghourian_FEOBV', 'Bedard_FEOBV', 'Tuominen_FEOBV', 'M1', 'nAchRs'])"
   ]
  },
  {
   "cell_type": "code",
   "execution_count": 18,
   "id": "4068e6b5-5902-40b7-82d6-2f65c32b5749",
   "metadata": {},
   "outputs": [],
   "source": [
    "pd.DataFrame(D7T_k5clustcorr_df).to_csv(results_path + 'Diff_7Tsubj7TDWI_k5clust_corr.csv')\n",
    "pd.DataFrame(D7T_gradcorr_df).to_csv(results_path + 'Diff_7Tsubj7TDWI_Grad_corr.csv')\n",
    "pd.DataFrame(D7T_grad25corr_df).to_csv(results_path + 'Diff_7Tsubj7TDWI_Grad25_corr.csv')"
   ]
  },
  {
   "cell_type": "code",
   "execution_count": 19,
   "id": "0077c162-668c-4d52-9290-ce2f035f1692",
   "metadata": {},
   "outputs": [
    {
     "data": {
      "image/png": "[encoded data removed]",
      "text/plain": [
       "<Figure size 432x288 with 1 Axes>"
      ]
     },
     "metadata": {
      "needs_background": "light"
     },
     "output_type": "display_data"
    }
   ],
   "source": [
    "ax = D7T_k5clustcorr_df.plot(kind='bar', color=['r','g', 'b'], fontsize=12) \n",
    "for p in ax.patches:\n",
    "    ax.set_ylabel('pearson correlation',fontsize=12)\n",
    "    ax.set_title('Diffusion 7Tsubj7TDWI k-5 cluster', fontsize=16)\n",
    "    ax.legend(loc='center left', bbox_to_anchor=(1.0, 0.7))\n",
    "ax.figure.savefig(fig_path+'Diff_7Tsubj7TDWI_k-5cluster_comp.png', dpi=300)"
   ]
  },
  {
   "cell_type": "code",
   "execution_count": 20,
   "id": "60365119-0838-4855-a14c-379b2ca5c58f",
   "metadata": {},
   "outputs": [
    {
     "data": {
      "image/png": "[encoded data removed]",
      "text/plain": [
       "<Figure size 432x288 with 1 Axes>"
      ]
     },
     "metadata": {
      "needs_background": "light"
     },
     "output_type": "display_data"
    }
   ],
   "source": [
    "ax = D7T_gradcorr_df.plot(kind='bar', color=['y', 'c',]) \n",
    "x_offset = -0.5\n",
    "y_offset = 0.5\n",
    "for p in ax.patches:\n",
    "    b = p.get_bbox()\n",
    "    val = \"{:+.2f}\".format(b.y1 + b.y0)        \n",
    "    ax.annotate(val, ((b.x0 + b.x1)/2 + x_offset, b.y1 + y_offset))\n",
    "    ax.set_ylabel('pearson correlation')\n",
    "    ax.set_title('Diffusion 7Tsubj7TDWI Gradients', fontsize=16)\n",
    "ax.figure.savefig(fig_path+'Diff_7Tsubj7TDWI_Gradients_comp.png', dpi=300)"
   ]
  },
  {
   "cell_type": "code",
   "execution_count": 21,
   "id": "96c104b4-e751-420d-a5f9-1be6146c3dfb",
   "metadata": {},
   "outputs": [
    {
     "data": {
      "image/png": "[encoded data removed]",
      "text/plain": [
       "<Figure size 432x288 with 1 Axes>"
      ]
     },
     "metadata": {
      "needs_background": "light"
     },
     "output_type": "display_data"
    }
   ],
   "source": [
    "ax = D7T_grad25corr_df.plot(kind='bar', color=['r','b', 'g', 'm']) \n",
    "x_offset = -1\n",
    "y_offset = 1\n",
    "for p in ax.patches:\n",
    "    b = p.get_bbox()\n",
    "    val = \"{:+.2f}\".format(b.y1 + b.y0)        \n",
    "    ax.annotate(val, ((b.x0 + b.x1)/2 + x_offset, b.y1 + y_offset))\n",
    "    ax.legend(loc='center left', bbox_to_anchor=(1.0, 0.7))\n",
    "    ax.set_ylabel('pearson correlation')\n",
    "    ax.set_title('Diffusion 7Tsubj7TDWI Gradient 25%', fontsize=16)\n",
    "ax.figure.savefig(fig_path+'Diff_7Tsubj7TDWI_Gradients_25%_comp.png', dpi=300)"
   ]
  },
  {
   "cell_type": "markdown",
   "id": "c143dd37-0c40-4373-b869-fa51de1764e7",
   "metadata": {},
   "source": [
    "### spatial null model for 7Tsubj 7TDWI data"
   ]
  },
  {
   "cell_type": "code",
   "execution_count": 25,
   "id": "c22cb5f9-5912-48d8-89ec-8d6c2c043e82",
   "metadata": {},
   "outputs": [],
   "source": [
    "# Compare with Aghourian_FEOBV\n",
    "Aghourian_k5clust1corr, Aghourian_k5clust1pval = stats.compare_images(Aghourian_FEOBV_fsa, k5clust1, nulls=alex_aghourian_rotated)\n",
    "Aghourian_k5clust2corr, Aghourian_k5clust2pval = stats.compare_images(Aghourian_FEOBV_fsa, k5clust2, nulls=alex_aghourian_rotated)\n",
    "Aghourian_k5clust3corr, Aghourian_k5clust3pval = stats.compare_images(Aghourian_FEOBV_fsa, k5clust3, nulls=alex_aghourian_rotated)\n",
    "Aghourian_k5clust4corr, Aghourian_k5clust4pval = stats.compare_images(Aghourian_FEOBV_fsa, k5clust4, nulls=alex_aghourian_rotated)\n",
    "Aghourian_k5clust5corr, Aghourian_k5clust5pval = stats.compare_images(Aghourian_FEOBV_fsa, k5clust5, nulls=alex_aghourian_rotated)\n",
    "\n",
    "Aghourian_G1corr, Aghourian_G1pval = stats.compare_images(Aghourian_FEOBV_fsa, grad1, nulls=alex_aghourian_rotated)\n",
    "Aghourian_G2corr, Aghourian_G2pval = stats.compare_images(Aghourian_FEOBV_fsa, grad2, nulls=alex_aghourian_rotated)\n",
    "\n",
    "Aghourian_G1upper25corr, Aghourian_G1upper25pval = stats.compare_images(Tr_Aghourian_FEOBV_fsa, grad1_upper25, nulls=alex_tr_aghourian_rotated)\n",
    "Aghourian_G1lower25corr, Aghourian_G1lower25pval = stats.compare_images(Tr_Aghourian_FEOBV_fsa, grad1_lower25, nulls=alex_tr_aghourian_rotated)\n",
    "Aghourian_G2upper25corr, Aghourian_G2upper25pval = stats.compare_images(Tr_Aghourian_FEOBV_fsa, grad2_upper25, nulls=alex_tr_aghourian_rotated)\n",
    "Aghourian_G2lower25corr, Aghourian_G2lower25pval = stats.compare_images(Tr_Aghourian_FEOBV_fsa, grad2_lower25, nulls=alex_tr_aghourian_rotated)"
   ]
  },
  {
   "cell_type": "code",
   "execution_count": 26,
   "id": "6c08ce6f-0df9-4920-9726-74b12d4337c7",
   "metadata": {},
   "outputs": [],
   "source": [
    "# Compare with Bedard_FEOBV\n",
    "Bedard_k5clust1corr, Bedard_k5clust1pval = stats.compare_images(Bedard_FEOBV_fsa, k5clust1, nulls=alex_bedard_rotated)\n",
    "Bedard_k5clust2corr, Bedard_k5clust2pval = stats.compare_images(Bedard_FEOBV_fsa, k5clust2, nulls=alex_bedard_rotated)\n",
    "Bedard_k5clust3corr, Bedard_k5clust3pval = stats.compare_images(Bedard_FEOBV_fsa, k5clust3, nulls=alex_bedard_rotated)\n",
    "Bedard_k5clust4corr, Bedard_k5clust4pval = stats.compare_images(Bedard_FEOBV_fsa, k5clust4, nulls=alex_bedard_rotated)\n",
    "Bedard_k5clust5corr, Bedard_k5clust5pval = stats.compare_images(Bedard_FEOBV_fsa, k5clust5, nulls=alex_bedard_rotated)\n",
    "\n",
    "Bedard_G1corr, Bedard_G1pval = stats.compare_images(Bedard_FEOBV_fsa, grad1, nulls=alex_bedard_rotated)\n",
    "Bedard_G2corr, Bedard_G2pval = stats.compare_images(Bedard_FEOBV_fsa, grad2, nulls=alex_bedard_rotated)\n",
    "\n",
    "Bedard_G1upper25corr, Bedard_G1upper25pval = stats.compare_images(Tr_Bedard_FEOBV_fsa, grad1_upper25, nulls=alex_tr_bedard_rotated)\n",
    "Bedard_G1lower25corr, Bedard_G1lower25pval = stats.compare_images(Tr_Bedard_FEOBV_fsa, grad1_lower25, nulls=alex_tr_bedard_rotated)\n",
    "Bedard_G2upper25corr, Bedard_G2upper25pval = stats.compare_images(Tr_Bedard_FEOBV_fsa, grad2_upper25, nulls=alex_tr_bedard_rotated)\n",
    "Bedard_G2lower25corr, Bedard_G2lower25pval = stats.compare_images(Tr_Bedard_FEOBV_fsa, grad2_lower25, nulls=alex_tr_bedard_rotated)"
   ]
  },
  {
   "cell_type": "code",
   "execution_count": 27,
   "id": "aa9bdbad-aa0b-45e4-91f6-6dc02aae20ac",
   "metadata": {},
   "outputs": [],
   "source": [
    "# Compare with Tuominen_FEOBV\n",
    "Tuominen_k5clust1corr, Tuominen_k5clust1pval = stats.compare_images(Tuominen_FEOBV_fsa, k5clust1, nulls=alex_tuominen_rotated)\n",
    "Tuominen_k5clust2corr, Tuominen_k5clust2pval = stats.compare_images(Tuominen_FEOBV_fsa, k5clust2, nulls=alex_tuominen_rotated)\n",
    "Tuominen_k5clust3corr, Tuominen_k5clust3pval = stats.compare_images(Tuominen_FEOBV_fsa, k5clust3, nulls=alex_tuominen_rotated)\n",
    "Tuominen_k5clust4corr, Tuominen_k5clust4pval = stats.compare_images(Tuominen_FEOBV_fsa, k5clust4, nulls=alex_tuominen_rotated)\n",
    "Tuominen_k5clust5corr, Tuominen_k5clust5pval = stats.compare_images(Tuominen_FEOBV_fsa, k5clust5, nulls=alex_tuominen_rotated)\n",
    "\n",
    "Tuominen_G1corr, Tuominen_G1pval = stats.compare_images(Tuominen_FEOBV_fsa, grad1, nulls=alex_tuominen_rotated)\n",
    "Tuominen_G2corr, Tuominen_G2pval = stats.compare_images(Tuominen_FEOBV_fsa, grad2, nulls=alex_tuominen_rotated)\n",
    "\n",
    "Tuominen_G1upper25corr, Tuominen_G1upper25pval = stats.compare_images(Tr_Tuominen_FEOBV_fsa, grad1_upper25, nulls=alex_tr_tuominen_rotated)\n",
    "Tuominen_G1lower25corr, Tuominen_G1lower25pval = stats.compare_images(Tr_Tuominen_FEOBV_fsa, grad1_lower25, nulls=alex_tr_tuominen_rotated)\n",
    "Tuominen_G2upper25corr, Tuominen_G2upper25pval = stats.compare_images(Tr_Tuominen_FEOBV_fsa, grad2_upper25, nulls=alex_tr_tuominen_rotated)\n",
    "Tuominen_G2lower25corr, Tuominen_G2lower25pval = stats.compare_images(Tr_Tuominen_FEOBV_fsa, grad2_lower25, nulls=alex_tr_tuominen_rotated)"
   ]
  },
  {
   "cell_type": "code",
   "execution_count": 28,
   "id": "5f699f74-2d48-4077-92b6-d31c3b3caa01",
   "metadata": {},
   "outputs": [],
   "source": [
    "# Compare with M1\n",
    "M1_k5clust1corr, M1_k5clust1pval = stats.compare_images(M1_fsa, k5clust1, nulls=alex_M1_rotated)\n",
    "M1_k5clust2corr, M1_k5clust2pval = stats.compare_images(M1_fsa, k5clust2, nulls=alex_M1_rotated)\n",
    "M1_k5clust3corr, M1_k5clust3pval = stats.compare_images(M1_fsa, k5clust3, nulls=alex_M1_rotated)\n",
    "M1_k5clust4corr, M1_k5clust4pval = stats.compare_images(M1_fsa, k5clust4, nulls=alex_M1_rotated)\n",
    "M1_k5clust5corr, M1_k5clust5pval = stats.compare_images(M1_fsa, k5clust5, nulls=alex_M1_rotated)\n",
    "\n",
    "M1_G1corr, M1_G1pval = stats.compare_images(M1_fsa, grad1, nulls=alex_M1_rotated)\n",
    "M1_G2corr, M1_G2pval = stats.compare_images(M1_fsa, grad2, nulls=alex_M1_rotated)\n",
    "\n",
    "M1_G1upper25corr, M1_G1upper25pval = stats.compare_images(Tr_M1_fsa, grad1_upper25, nulls=alex_tr_M1_rotated)\n",
    "M1_G1lower25corr, M1_G1lower25pval = stats.compare_images(Tr_M1_fsa, grad1_lower25, nulls=alex_tr_M1_rotated)\n",
    "M1_G2upper25corr, M1_G2upper25pval = stats.compare_images(Tr_M1_fsa, grad2_upper25, nulls=alex_tr_M1_rotated)\n",
    "M1_G2lower25corr, M1_G2lower25pval = stats.compare_images(Tr_M1_fsa, grad2_lower25, nulls=alex_tr_M1_rotated)"
   ]
  },
  {
   "cell_type": "code",
   "execution_count": 29,
   "id": "bf80fb3f-1072-41f8-90a6-25d83526d4d5",
   "metadata": {},
   "outputs": [],
   "source": [
    "# Compare with nAchRs\n",
    "nAchRs_k5clust1corr, nAchRs_k5clust1pval = stats.compare_images(nAchRs_fsa, k5clust1, nulls=alex_nAchRs_rotated)\n",
    "nAchRs_k5clust2corr, nAchRs_k5clust2pval = stats.compare_images(nAchRs_fsa, k5clust2, nulls=alex_nAchRs_rotated)\n",
    "nAchRs_k5clust3corr, nAchRs_k5clust3pval = stats.compare_images(nAchRs_fsa, k5clust3, nulls=alex_nAchRs_rotated)\n",
    "nAchRs_k5clust4corr, nAchRs_k5clust4pval = stats.compare_images(nAchRs_fsa, k5clust4, nulls=alex_nAchRs_rotated)\n",
    "nAchRs_k5clust5corr, nAchRs_k5clust5pval = stats.compare_images(nAchRs_fsa, k5clust5, nulls=alex_nAchRs_rotated)\n",
    "\n",
    "nAchRs_G1corr, nAchRs_G1pval = stats.compare_images(nAchRs_fsa, grad1, nulls=alex_nAchRs_rotated)\n",
    "nAchRs_G2corr, nAchRs_G2pval = stats.compare_images(nAchRs_fsa, grad2, nulls=alex_nAchRs_rotated)\n",
    "\n",
    "nAchRs_G1upper25corr, nAchRs_G1upper25pval = stats.compare_images(Tr_nAchRs_fsa, grad1_upper25, nulls=alex_tr_nAchRs_rotated)\n",
    "nAchRs_G1lower25corr, nAchRs_G1lower25pval = stats.compare_images(Tr_nAchRs_fsa, grad1_lower25, nulls=alex_tr_nAchRs_rotated)\n",
    "nAchRs_G2upper25corr, nAchRs_G2upper25pval = stats.compare_images(Tr_nAchRs_fsa, grad2_upper25, nulls=alex_tr_nAchRs_rotated)\n",
    "nAchRs_G2lower25corr, nAchRs_G2lower25pval = stats.compare_images(Tr_nAchRs_fsa, grad2_lower25, nulls=alex_tr_nAchRs_rotated)"
   ]
  },
  {
   "cell_type": "code",
   "execution_count": 30,
   "id": "8bb263af-6e19-4b9d-bfa2-637a6a11d867",
   "metadata": {},
   "outputs": [],
   "source": [
    "D7T_null_k5clust1corr = [Aghourian_k5clust1corr, Bedard_k5clust1corr, Tuominen_k5clust1corr, M1_k5clust1corr, nAchRs_k5clust1corr]\n",
    "D7T_null_k5clust2corr = [Aghourian_k5clust2corr, Bedard_k5clust2corr, Tuominen_k5clust2corr, M1_k5clust2corr, nAchRs_k5clust2corr]\n",
    "D7T_null_k5clust3corr = [Aghourian_k5clust3corr, Bedard_k5clust3corr, Tuominen_k5clust3corr, M1_k5clust3corr, nAchRs_k5clust3corr]\n",
    "D7T_null_k5clust4corr = [Aghourian_k5clust4corr, Bedard_k5clust4corr, Tuominen_k5clust4corr, M1_k5clust4corr, nAchRs_k5clust4corr]\n",
    "D7T_null_k5clust5corr = [Aghourian_k5clust5corr, Bedard_k5clust5corr, Tuominen_k5clust5corr, M1_k5clust5corr, nAchRs_k5clust5corr]\n",
    "\n",
    "D7T_null_grad1_corr = [Aghourian_G1corr, Bedard_G1corr, Tuominen_G1corr, M1_G1corr, nAchRs_G1corr]\n",
    "D7T_null_grad2_corr = [Aghourian_G2corr, Bedard_G2corr, Tuominen_G2corr, M1_G2corr, nAchRs_G2corr]\n",
    "\n",
    "D7T_null_grad1_upper25_corr = [Aghourian_G1upper25corr, Bedard_G1upper25corr, Tuominen_G1upper25corr, M1_G1upper25corr, nAchRs_G1upper25corr]\n",
    "D7T_null_grad1_lower25_corr = [Aghourian_G1lower25corr, Bedard_G1lower25corr, Tuominen_G1lower25corr, M1_G1lower25corr, nAchRs_G1lower25corr]\n",
    "D7T_null_grad2_upper25_corr = [Aghourian_G2upper25corr, Bedard_G2upper25corr, Tuominen_G2upper25corr, M1_G2upper25corr, nAchRs_G2upper25corr]\n",
    "D7T_null_grad2_lower25_corr = [Aghourian_G2lower25corr, Bedard_G2lower25corr, Tuominen_G2lower25corr, M1_G2lower25corr, nAchRs_G2lower25corr]"
   ]
  },
  {
   "cell_type": "code",
   "execution_count": 31,
   "id": "dfa15c37-a18a-4e2a-ab8e-b0885e60b7bb",
   "metadata": {},
   "outputs": [],
   "source": [
    "D7T_null_k5clust1pval = [Aghourian_k5clust1pval, Bedard_k5clust1pval, Tuominen_k5clust1pval, M1_k5clust1pval, nAchRs_k5clust1pval]\n",
    "D7T_null_k5clust2pval = [Aghourian_k5clust2pval, Bedard_k5clust2pval, Tuominen_k5clust2pval, M1_k5clust2pval, nAchRs_k5clust2pval]\n",
    "D7T_null_k5clust3pval = [Aghourian_k5clust3pval, Bedard_k5clust3pval, Tuominen_k5clust3pval, M1_k5clust3pval, nAchRs_k5clust3pval]\n",
    "D7T_null_k5clust4pval = [Aghourian_k5clust4pval, Bedard_k5clust4pval, Tuominen_k5clust4pval, M1_k5clust4pval, nAchRs_k5clust4pval]\n",
    "D7T_null_k5clust5pval = [Aghourian_k5clust5pval, Bedard_k5clust5pval, Tuominen_k5clust5pval, M1_k5clust5pval, nAchRs_k5clust5pval]\n",
    "\n",
    "D7T_null_grad1_pval = [Aghourian_G1pval, Bedard_G1pval, Tuominen_G1pval, M1_G1pval, nAchRs_G1pval]\n",
    "D7T_null_grad2_pval = [Aghourian_G2pval, Bedard_G2pval, Tuominen_G2pval, M1_G2pval, nAchRs_G2pval]\n",
    "\n",
    "D7T_null_grad1_upper25_pval = [Aghourian_G1upper25pval, Bedard_G1upper25pval, Tuominen_G1upper25pval, M1_G1upper25pval, nAchRs_G1upper25pval]\n",
    "D7T_null_grad1_lower25_pval = [Aghourian_G1lower25pval, Bedard_G1lower25pval, Tuominen_G1lower25pval, M1_G1lower25pval, nAchRs_G1lower25pval]\n",
    "D7T_null_grad2_upper25_pval = [Aghourian_G2upper25pval, Bedard_G2upper25pval, Tuominen_G2upper25pval, M1_G2upper25pval, nAchRs_G2upper25pval]\n",
    "D7T_null_grad2_lower25_pval = [Aghourian_G2lower25pval, Bedard_G2lower25pval, Tuominen_G2lower25pval, M1_G2lower25pval, nAchRs_G2lower25pval]"
   ]
  },
  {
   "cell_type": "code",
   "execution_count": 32,
   "id": "ae847d6a-3a7f-470a-b82f-c294f81a1026",
   "metadata": {},
   "outputs": [],
   "source": [
    "D7T_null_k5clustcorr_df = pd.DataFrame({'k5clust1corr':D7T_null_k5clust1corr, 'k5clust1pval':D7T_null_k5clust1pval, 'k5clust2corr':D7T_null_k5clust2corr, 'k5clust2pval':D7T_null_k5clust2pval,'k5clust3corr':D7T_null_k5clust3corr, 'k5clust3pval':D7T_null_k5clust3pval, 'k5clust4corr':D7T_null_k5clust4corr, 'k5clust4pval':D7T_null_k5clust4pval, 'k5clust5corr':D7T_null_k5clust5corr, 'k5clust5pval':D7T_null_k5clust5pval},index=['Aghourian_FEOBV', 'Bedard_FEOBV', 'Tuominen_FEOBV', 'M1', 'nAchRs'])\n",
    "D7T_null_gradcorr_df = pd.DataFrame({'Grad1corr':D7T_null_grad1_corr, 'Grad1pval':D7T_null_grad1_pval, 'Grad2corr':D7T_null_grad2_corr, 'Grad2pval':D7T_null_grad2_pval},index=['Aghourian_FEOBV', 'Bedard_FEOBV', 'Tuominen_FEOBV', 'M1', 'nAchRs'])\n",
    "D7T_null_grad25corr_df = pd.DataFrame({'Grad1 upper 25% corr':D7T_null_grad1_upper25_corr, 'Grad1 upper 25% pval':D7T_null_grad1_upper25_pval, 'Grad1 lower 25% corr':D7T_null_grad1_lower25_corr, 'Grad1 lower 25% pval':D7T_null_grad1_lower25_pval, 'Grad2 upper 25% corr':D7T_null_grad2_upper25_corr, 'Grad2 upper 25% pval':D7T_null_grad2_upper25_pval, 'Grad2 lower 25% corr':D7T_null_grad2_lower25_corr, 'Grad2 lower 25% pval':D7T_null_grad2_lower25_pval},index=['Aghourian_FEOBV', 'Bedard_FEOBV', 'Tuominen_FEOBV', 'M1', 'nAchRs'])"
   ]
  },
  {
   "cell_type": "code",
   "execution_count": 33,
   "id": "38e2dffc-5389-4c21-92e1-108a42134c16",
   "metadata": {},
   "outputs": [],
   "source": [
    "pd.DataFrame(D7T_null_k5clustcorr_df).to_csv(results_path + 'Diff_7Tsubj7TDWI_null_k5clust_comp.csv')\n",
    "pd.DataFrame(D7T_null_gradcorr_df).to_csv(results_path + 'Diff_7Tsubj7TDWI_null_Grad_comp.csv')\n",
    "pd.DataFrame(D7T_null_grad25corr_df).to_csv(results_path + 'Diff_7Tsubj7TDWI_null_Grad25_comp.csv')"
   ]
  },
  {
   "cell_type": "code",
   "execution_count": 34,
   "id": "14804f92-dbdd-4c95-91ca-a7c5d39b34b0",
   "metadata": {},
   "outputs": [
    {
     "data": {
      "text/html": [
       "<div>\n",
       "<style scoped>\n",
       "    .dataframe tbody tr th:only-of-type {\n",
       "        vertical-align: middle;\n",
       "    }\n",
       "\n",
       "    .dataframe tbody tr th {\n",
       "        vertical-align: top;\n",
       "    }\n",
       "\n",
       "    .dataframe thead th {\n",
       "        text-align: right;\n",
       "    }\n",
       "</style>\n",
       "<table border=\"1\" class=\"dataframe\">\n",
       "  <thead>\n",
       "    <tr style=\"text-align: right;\">\n",
       "      <th></th>\n",
       "      <th>k5clust1corr</th>\n",
       "      <th>k5clust1pval</th>\n",
       "      <th>k5clust2corr</th>\n",
       "      <th>k5clust2pval</th>\n",
       "      <th>k5clust3corr</th>\n",
       "      <th>k5clust3pval</th>\n",
       "      <th>k5clust4corr</th>\n",
       "      <th>k5clust4pval</th>\n",
       "      <th>k5clust5corr</th>\n",
       "      <th>k5clust5pval</th>\n",
       "    </tr>\n",
       "  </thead>\n",
       "  <tbody>\n",
       "    <tr>\n",
       "      <th>Aghourian_FEOBV</th>\n",
       "      <td>-0.373909</td>\n",
       "      <td>0.039604</td>\n",
       "      <td>-0.180762</td>\n",
       "      <td>0.277228</td>\n",
       "      <td>-0.181453</td>\n",
       "      <td>0.267327</td>\n",
       "      <td>0.003740</td>\n",
       "      <td>1.000000</td>\n",
       "      <td>-0.372328</td>\n",
       "      <td>0.039604</td>\n",
       "    </tr>\n",
       "    <tr>\n",
       "      <th>Bedard_FEOBV</th>\n",
       "      <td>-0.172119</td>\n",
       "      <td>0.425743</td>\n",
       "      <td>-0.057271</td>\n",
       "      <td>0.772277</td>\n",
       "      <td>-0.092032</td>\n",
       "      <td>0.603960</td>\n",
       "      <td>0.012688</td>\n",
       "      <td>0.950495</td>\n",
       "      <td>-0.292161</td>\n",
       "      <td>0.069307</td>\n",
       "    </tr>\n",
       "    <tr>\n",
       "      <th>Tuominen_FEOBV</th>\n",
       "      <td>-0.156009</td>\n",
       "      <td>0.455446</td>\n",
       "      <td>-0.001122</td>\n",
       "      <td>1.000000</td>\n",
       "      <td>-0.020455</td>\n",
       "      <td>0.831683</td>\n",
       "      <td>0.107217</td>\n",
       "      <td>0.574257</td>\n",
       "      <td>-0.226953</td>\n",
       "      <td>0.198020</td>\n",
       "    </tr>\n",
       "    <tr>\n",
       "      <th>M1</th>\n",
       "      <td>-0.045330</td>\n",
       "      <td>0.762376</td>\n",
       "      <td>-0.055318</td>\n",
       "      <td>0.722772</td>\n",
       "      <td>-0.085791</td>\n",
       "      <td>0.574257</td>\n",
       "      <td>-0.077150</td>\n",
       "      <td>0.732673</td>\n",
       "      <td>-0.050577</td>\n",
       "      <td>0.752475</td>\n",
       "    </tr>\n",
       "    <tr>\n",
       "      <th>nAchRs</th>\n",
       "      <td>-0.367473</td>\n",
       "      <td>0.009901</td>\n",
       "      <td>-0.272481</td>\n",
       "      <td>0.009901</td>\n",
       "      <td>-0.239469</td>\n",
       "      <td>0.039604</td>\n",
       "      <td>-0.195620</td>\n",
       "      <td>0.069307</td>\n",
       "      <td>-0.316789</td>\n",
       "      <td>0.019802</td>\n",
       "    </tr>\n",
       "  </tbody>\n",
       "</table>\n",
       "</div>"
      ],
      "text/plain": [
       "                 k5clust1corr  k5clust1pval  k5clust2corr  k5clust2pval  \\\n",
       "Aghourian_FEOBV     -0.373909      0.039604     -0.180762      0.277228   \n",
       "Bedard_FEOBV        -0.172119      0.425743     -0.057271      0.772277   \n",
       "Tuominen_FEOBV      -0.156009      0.455446     -0.001122      1.000000   \n",
       "M1                  -0.045330      0.762376     -0.055318      0.722772   \n",
       "nAchRs              -0.367473      0.009901     -0.272481      0.009901   \n",
       "\n",
       "                 k5clust3corr  k5clust3pval  k5clust4corr  k5clust4pval  \\\n",
       "Aghourian_FEOBV     -0.181453      0.267327      0.003740      1.000000   \n",
       "Bedard_FEOBV        -0.092032      0.603960      0.012688      0.950495   \n",
       "Tuominen_FEOBV      -0.020455      0.831683      0.107217      0.574257   \n",
       "M1                  -0.085791      0.574257     -0.077150      0.732673   \n",
       "nAchRs              -0.239469      0.039604     -0.195620      0.069307   \n",
       "\n",
       "                 k5clust5corr  k5clust5pval  \n",
       "Aghourian_FEOBV     -0.372328      0.039604  \n",
       "Bedard_FEOBV        -0.292161      0.069307  \n",
       "Tuominen_FEOBV      -0.226953      0.198020  \n",
       "M1                  -0.050577      0.752475  \n",
       "nAchRs              -0.316789      0.019802  "
      ]
     },
     "execution_count": 34,
     "metadata": {},
     "output_type": "execute_result"
    }
   ],
   "source": [
    "D7T_null_k5clustcorr_df"
   ]
  },
  {
   "cell_type": "code",
   "execution_count": 35,
   "id": "a458d97d-6386-4d76-9703-122527d50bd4",
   "metadata": {},
   "outputs": [
    {
     "data": {
      "image/png": "[encoded data removed]",
      "text/plain": [
       "<Figure size 432x288 with 1 Axes>"
      ]
     },
     "metadata": {
      "needs_background": "light"
     },
     "output_type": "display_data"
    }
   ],
   "source": [
    "ax = D7T_null_k5clustcorr_df[['k5clust1corr','k5clust2corr', 'k5clust3corr', 'k5clust4corr', 'k5clust5corr']].plot(kind='bar', color=['r','g', 'b'], fontsize=12) \n",
    "for p in ax.patches:\n",
    "    ax.set_ylabel('pearson correlation',fontsize=12)\n",
    "    ax.set_title('Diffusion 7Tsubj7TDWI null model k-5 cluster', fontsize=16)\n",
    "    ax.legend(loc='center left', bbox_to_anchor=(1.0, 0.8))\n",
    "ax.figure.savefig(fig_path+'Diff_7Tsubj7TDWI_null_k-5cluster_comp.png', dpi=300)"
   ]
  },
  {
   "cell_type": "code",
   "execution_count": 36,
   "id": "f4449b3d-e9b1-4653-97bc-f41fc9a55150",
   "metadata": {},
   "outputs": [
    {
     "data": {
      "text/html": [
       "<div>\n",
       "<style scoped>\n",
       "    .dataframe tbody tr th:only-of-type {\n",
       "        vertical-align: middle;\n",
       "    }\n",
       "\n",
       "    .dataframe tbody tr th {\n",
       "        vertical-align: top;\n",
       "    }\n",
       "\n",
       "    .dataframe thead th {\n",
       "        text-align: right;\n",
       "    }\n",
       "</style>\n",
       "<table border=\"1\" class=\"dataframe\">\n",
       "  <thead>\n",
       "    <tr style=\"text-align: right;\">\n",
       "      <th></th>\n",
       "      <th>Grad1corr</th>\n",
       "      <th>Grad1pval</th>\n",
       "      <th>Grad2corr</th>\n",
       "      <th>Grad2pval</th>\n",
       "    </tr>\n",
       "  </thead>\n",
       "  <tbody>\n",
       "    <tr>\n",
       "      <th>Aghourian_FEOBV</th>\n",
       "      <td>-0.452315</td>\n",
       "      <td>0.009901</td>\n",
       "      <td>0.252707</td>\n",
       "      <td>0.207921</td>\n",
       "    </tr>\n",
       "    <tr>\n",
       "      <th>Bedard_FEOBV</th>\n",
       "      <td>-0.312072</td>\n",
       "      <td>0.069307</td>\n",
       "      <td>-0.010798</td>\n",
       "      <td>0.940594</td>\n",
       "    </tr>\n",
       "    <tr>\n",
       "      <th>Tuominen_FEOBV</th>\n",
       "      <td>-0.367854</td>\n",
       "      <td>0.039604</td>\n",
       "      <td>0.079673</td>\n",
       "      <td>0.534653</td>\n",
       "    </tr>\n",
       "    <tr>\n",
       "      <th>M1</th>\n",
       "      <td>0.048724</td>\n",
       "      <td>0.881188</td>\n",
       "      <td>0.010518</td>\n",
       "      <td>0.950495</td>\n",
       "    </tr>\n",
       "    <tr>\n",
       "      <th>nAchRs</th>\n",
       "      <td>-0.186494</td>\n",
       "      <td>0.138614</td>\n",
       "      <td>0.130719</td>\n",
       "      <td>0.267327</td>\n",
       "    </tr>\n",
       "  </tbody>\n",
       "</table>\n",
       "</div>"
      ],
      "text/plain": [
       "                 Grad1corr  Grad1pval  Grad2corr  Grad2pval\n",
       "Aghourian_FEOBV  -0.452315   0.009901   0.252707   0.207921\n",
       "Bedard_FEOBV     -0.312072   0.069307  -0.010798   0.940594\n",
       "Tuominen_FEOBV   -0.367854   0.039604   0.079673   0.534653\n",
       "M1                0.048724   0.881188   0.010518   0.950495\n",
       "nAchRs           -0.186494   0.138614   0.130719   0.267327"
      ]
     },
     "execution_count": 36,
     "metadata": {},
     "output_type": "execute_result"
    }
   ],
   "source": [
    "D7T_null_gradcorr_df"
   ]
  },
  {
   "cell_type": "code",
   "execution_count": 37,
   "id": "220c954b-d79e-4602-a295-72a382daf28b",
   "metadata": {},
   "outputs": [
    {
     "data": {
      "image/png": "[encoded data removed]",
      "text/plain": [
       "<Figure size 432x288 with 1 Axes>"
      ]
     },
     "metadata": {
      "needs_background": "light"
     },
     "output_type": "display_data"
    }
   ],
   "source": [
    "ax = D7T_null_gradcorr_df[['Grad1corr','Grad2corr']].plot(kind='bar', color=['y', 'c',]) \n",
    "x_offset = -0.5\n",
    "y_offset = 0.5\n",
    "for p in ax.patches:\n",
    "    b = p.get_bbox()\n",
    "    val = \"{:+.2f}\".format(b.y1 + b.y0)        \n",
    "    ax.annotate(val, ((b.x0 + b.x1)/2 + x_offset, b.y1 + y_offset))\n",
    "    ax.set_ylabel('pearson correlation')\n",
    "    ax.set_title('Diffusion 7Tsubj7TDWI null model Gradients', fontsize=16)\n",
    "ax.figure.savefig(fig_path+'Diff_7Tsubj7TDWI_null_Gradients_comp.png', dpi=300)"
   ]
  },
  {
   "cell_type": "code",
   "execution_count": 38,
   "id": "89a650ab-5bfc-4fe3-82f8-d8a709621b8e",
   "metadata": {},
   "outputs": [
    {
     "data": {
      "text/html": [
       "<div>\n",
       "<style scoped>\n",
       "    .dataframe tbody tr th:only-of-type {\n",
       "        vertical-align: middle;\n",
       "    }\n",
       "\n",
       "    .dataframe tbody tr th {\n",
       "        vertical-align: top;\n",
       "    }\n",
       "\n",
       "    .dataframe thead th {\n",
       "        text-align: right;\n",
       "    }\n",
       "</style>\n",
       "<table border=\"1\" class=\"dataframe\">\n",
       "  <thead>\n",
       "    <tr style=\"text-align: right;\">\n",
       "      <th></th>\n",
       "      <th>Grad1 upper 25% corr</th>\n",
       "      <th>Grad1 upper 25% pval</th>\n",
       "      <th>Grad1 lower 25% corr</th>\n",
       "      <th>Grad1 lower 25% pval</th>\n",
       "      <th>Grad2 upper 25% corr</th>\n",
       "      <th>Grad2 upper 25% pval</th>\n",
       "      <th>Grad2 lower 25% corr</th>\n",
       "      <th>Grad2 lower 25% pval</th>\n",
       "    </tr>\n",
       "  </thead>\n",
       "  <tbody>\n",
       "    <tr>\n",
       "      <th>Aghourian_FEOBV</th>\n",
       "      <td>-0.053578</td>\n",
       "      <td>0.722772</td>\n",
       "      <td>0.087466</td>\n",
       "      <td>0.653465</td>\n",
       "      <td>-0.053578</td>\n",
       "      <td>0.722772</td>\n",
       "      <td>0.087466</td>\n",
       "      <td>0.653465</td>\n",
       "    </tr>\n",
       "    <tr>\n",
       "      <th>Bedard_FEOBV</th>\n",
       "      <td>-0.095147</td>\n",
       "      <td>0.613861</td>\n",
       "      <td>0.031421</td>\n",
       "      <td>0.881188</td>\n",
       "      <td>-0.095147</td>\n",
       "      <td>0.613861</td>\n",
       "      <td>0.031421</td>\n",
       "      <td>0.881188</td>\n",
       "    </tr>\n",
       "    <tr>\n",
       "      <th>Tuominen_FEOBV</th>\n",
       "      <td>-0.178835</td>\n",
       "      <td>0.366337</td>\n",
       "      <td>-0.070393</td>\n",
       "      <td>0.772277</td>\n",
       "      <td>-0.178835</td>\n",
       "      <td>0.366337</td>\n",
       "      <td>-0.070393</td>\n",
       "      <td>0.772277</td>\n",
       "    </tr>\n",
       "    <tr>\n",
       "      <th>M1</th>\n",
       "      <td>0.001413</td>\n",
       "      <td>1.000000</td>\n",
       "      <td>-0.060140</td>\n",
       "      <td>0.772277</td>\n",
       "      <td>0.001413</td>\n",
       "      <td>1.000000</td>\n",
       "      <td>-0.060140</td>\n",
       "      <td>0.772277</td>\n",
       "    </tr>\n",
       "    <tr>\n",
       "      <th>nAchRs</th>\n",
       "      <td>-0.084020</td>\n",
       "      <td>0.722772</td>\n",
       "      <td>-0.165129</td>\n",
       "      <td>0.405941</td>\n",
       "      <td>-0.084020</td>\n",
       "      <td>0.722772</td>\n",
       "      <td>-0.165129</td>\n",
       "      <td>0.405941</td>\n",
       "    </tr>\n",
       "  </tbody>\n",
       "</table>\n",
       "</div>"
      ],
      "text/plain": [
       "                 Grad1 upper 25% corr  Grad1 upper 25% pval  \\\n",
       "Aghourian_FEOBV             -0.053578              0.722772   \n",
       "Bedard_FEOBV                -0.095147              0.613861   \n",
       "Tuominen_FEOBV              -0.178835              0.366337   \n",
       "M1                           0.001413              1.000000   \n",
       "nAchRs                      -0.084020              0.722772   \n",
       "\n",
       "                 Grad1 lower 25% corr  Grad1 lower 25% pval  \\\n",
       "Aghourian_FEOBV              0.087466              0.653465   \n",
       "Bedard_FEOBV                 0.031421              0.881188   \n",
       "Tuominen_FEOBV              -0.070393              0.772277   \n",
       "M1                          -0.060140              0.772277   \n",
       "nAchRs                      -0.165129              0.405941   \n",
       "\n",
       "                 Grad2 upper 25% corr  Grad2 upper 25% pval  \\\n",
       "Aghourian_FEOBV             -0.053578              0.722772   \n",
       "Bedard_FEOBV                -0.095147              0.613861   \n",
       "Tuominen_FEOBV              -0.178835              0.366337   \n",
       "M1                           0.001413              1.000000   \n",
       "nAchRs                      -0.084020              0.722772   \n",
       "\n",
       "                 Grad2 lower 25% corr  Grad2 lower 25% pval  \n",
       "Aghourian_FEOBV              0.087466              0.653465  \n",
       "Bedard_FEOBV                 0.031421              0.881188  \n",
       "Tuominen_FEOBV              -0.070393              0.772277  \n",
       "M1                          -0.060140              0.772277  \n",
       "nAchRs                      -0.165129              0.405941  "
      ]
     },
     "execution_count": 38,
     "metadata": {},
     "output_type": "execute_result"
    }
   ],
   "source": [
    "D7T_null_grad25corr_df"
   ]
  },
  {
   "cell_type": "code",
   "execution_count": 39,
   "id": "b569292a-bb26-479e-898d-48fd3ef1f95f",
   "metadata": {},
   "outputs": [
    {
     "data": {
      "image/png": "[encoded data removed]",
      "text/plain": [
       "<Figure size 432x288 with 1 Axes>"
      ]
     },
     "metadata": {
      "needs_background": "light"
     },
     "output_type": "display_data"
    }
   ],
   "source": [
    "ax = D7T_null_grad25corr_df[['Grad1 upper 25% corr','Grad1 lower 25% corr','Grad2 upper 25% corr','Grad2 lower 25% corr']].plot(kind='bar', color=['r','b', 'g', 'm']) \n",
    "x_offset = -1\n",
    "y_offset = 1\n",
    "for p in ax.patches:\n",
    "    b = p.get_bbox()\n",
    "    val = \"{:+.2f}\".format(b.y1 + b.y0)        \n",
    "    ax.annotate(val, ((b.x0 + b.x1)/2 + x_offset, b.y1 + y_offset))\n",
    "    ax.legend(loc='center left', bbox_to_anchor=(1.0, 0.8))\n",
    "    ax.set_ylabel('pearson correlation')\n",
    "    ax.set_title('Diffusion 7Tsubj7TDWI null model Gradient 25%', fontsize=16)\n",
    "ax.figure.savefig(fig_path+'Diff_7Tsubj7TDWI_null_Gradients_25%_comp.png', dpi=300)"
   ]
  },
  {
   "cell_type": "code",
   "execution_count": 40,
   "id": "6d769eb7-1777-4090-80a7-c58f319a04d6",
   "metadata": {},
   "outputs": [
    {
     "data": {
      "text/html": [
       "<style type=\"text/css\">\n",
       "</style>\n",
       "\n",
       "\n",
       "\n",
       "<table id=\"T_6a6e9\" style=\"border-collapse: collapse; \">\n",
       "\n",
       "\n",
       "\n",
       "\n",
       "\n",
       "<thead>\n",
       "\n",
       "\n",
       "\n",
       "    <tr style=\"padding: 0; margin: 0;\">\n",
       "\n",
       "\n",
       "\n",
       "      <th class=\"blank level0\"  style=\"text-align: center; border-top: 1.5pt solid black; border-bottom: 1.5pt solid black\" >&nbsp;</th>\n",
       "\n",
       "\n",
       "\n",
       "      <th class=\"col_heading level0 col0\"  style=\"text-align: center; border-top: 1.5pt solid black; border-bottom: 1.5pt solid black\" >Grad1 upper 25% corr</th>\n",
       "\n",
       "\n",
       "\n",
       "      <th class=\"col_heading level0 col1\"  style=\"text-align: center; border-top: 1.5pt solid black; border-bottom: 1.5pt solid black\" >Grad1 upper 25% pval</th>\n",
       "\n",
       "\n",
       "\n",
       "      <th class=\"col_heading level0 col2\"  style=\"text-align: center; border-top: 1.5pt solid black; border-bottom: 1.5pt solid black\" >Grad1 lower 25% corr</th>\n",
       "\n",
       "\n",
       "\n",
       "      <th class=\"col_heading level0 col3\"  style=\"text-align: center; border-top: 1.5pt solid black; border-bottom: 1.5pt solid black\" >Grad1 lower 25% pval</th>\n",
       "\n",
       "\n",
       "\n",
       "      <th class=\"col_heading level0 col4\"  style=\"text-align: center; border-top: 1.5pt solid black; border-bottom: 1.5pt solid black\" >Grad2 upper 25% corr</th>\n",
       "\n",
       "\n",
       "\n",
       "      <th class=\"col_heading level0 col5\"  style=\"text-align: center; border-top: 1.5pt solid black; border-bottom: 1.5pt solid black\" >Grad2 upper 25% pval</th>\n",
       "\n",
       "\n",
       "\n",
       "      <th class=\"col_heading level0 col6\"  style=\"text-align: center; border-top: 1.5pt solid black; border-bottom: 1.5pt solid black\" >Grad2 lower 25% corr</th>\n",
       "\n",
       "\n",
       "\n",
       "      <th class=\"col_heading level0 col7\"  style=\"text-align: center; border-top: 1.5pt solid black; border-bottom: 1.5pt solid black\" >Grad2 lower 25% pval</th>\n",
       "\n",
       "\n",
       "\n",
       "    </tr>\n",
       "\n",
       "\n",
       "\n",
       "</thead>\n",
       "\n",
       "\n",
       "<tbody>\n",
       "\n",
       "\n",
       "\n",
       "    <tr style=\"background-color: white; padding: 0; margin: 0;\">\n",
       "\n",
       "\n",
       "      <th id=\"T_6a6e9level0_row0\" class=\"row_heading level0 row0\"  style=\"vertical-align: middle; text-align: left\" >Aghourian_FEOBV</th>\n",
       "\n",
       "      <td id=\"T_6a6e9row0_col0\" class=\"data row0 col0\"  style=\"vertical-align: middle; text-align: center\" >-0.053578</td>\n",
       "\n",
       "      <td id=\"T_6a6e9row0_col1\" class=\"data row0 col1\"  style=\"vertical-align: middle; text-align: center\" >0.722772</td>\n",
       "\n",
       "      <td id=\"T_6a6e9row0_col2\" class=\"data row0 col2\"  style=\"vertical-align: middle; text-align: center\" >0.087466</td>\n",
       "\n",
       "      <td id=\"T_6a6e9row0_col3\" class=\"data row0 col3\"  style=\"vertical-align: middle; text-align: center\" >0.653465</td>\n",
       "\n",
       "      <td id=\"T_6a6e9row0_col4\" class=\"data row0 col4\"  style=\"vertical-align: middle; text-align: center\" >-0.053578</td>\n",
       "\n",
       "      <td id=\"T_6a6e9row0_col5\" class=\"data row0 col5\"  style=\"vertical-align: middle; text-align: center\" >0.722772</td>\n",
       "\n",
       "      <td id=\"T_6a6e9row0_col6\" class=\"data row0 col6\"  style=\"vertical-align: middle; text-align: center\" >0.087466</td>\n",
       "\n",
       "      <td id=\"T_6a6e9row0_col7\" class=\"data row0 col7\"  style=\"vertical-align: middle; text-align: center\" >0.653465</td>\n",
       "\n",
       "\n",
       "    </tr>\n",
       "\n",
       "\n",
       "\n",
       "    <tr style=\"background-color: white; padding: 0; margin: 0;\">\n",
       "\n",
       "\n",
       "      <th id=\"T_6a6e9level0_row1\" class=\"row_heading level0 row1\"  style=\"vertical-align: middle; text-align: left\" >Bedard_FEOBV</th>\n",
       "\n",
       "      <td id=\"T_6a6e9row1_col0\" class=\"data row1 col0\"  style=\"vertical-align: middle; text-align: center\" >-0.095147</td>\n",
       "\n",
       "      <td id=\"T_6a6e9row1_col1\" class=\"data row1 col1\"  style=\"vertical-align: middle; text-align: center\" >0.613861</td>\n",
       "\n",
       "      <td id=\"T_6a6e9row1_col2\" class=\"data row1 col2\"  style=\"vertical-align: middle; text-align: center\" >0.031421</td>\n",
       "\n",
       "      <td id=\"T_6a6e9row1_col3\" class=\"data row1 col3\"  style=\"vertical-align: middle; text-align: center\" >0.881188</td>\n",
       "\n",
       "      <td id=\"T_6a6e9row1_col4\" class=\"data row1 col4\"  style=\"vertical-align: middle; text-align: center\" >-0.095147</td>\n",
       "\n",
       "      <td id=\"T_6a6e9row1_col5\" class=\"data row1 col5\"  style=\"vertical-align: middle; text-align: center\" >0.613861</td>\n",
       "\n",
       "      <td id=\"T_6a6e9row1_col6\" class=\"data row1 col6\"  style=\"vertical-align: middle; text-align: center\" >0.031421</td>\n",
       "\n",
       "      <td id=\"T_6a6e9row1_col7\" class=\"data row1 col7\"  style=\"vertical-align: middle; text-align: center\" >0.881188</td>\n",
       "\n",
       "\n",
       "    </tr>\n",
       "\n",
       "\n",
       "\n",
       "    <tr style=\"background-color: white; padding: 0; margin: 0;\">\n",
       "\n",
       "\n",
       "      <th id=\"T_6a6e9level0_row2\" class=\"row_heading level0 row2\"  style=\"vertical-align: middle; text-align: left\" >Tuominen_FEOBV</th>\n",
       "\n",
       "      <td id=\"T_6a6e9row2_col0\" class=\"data row2 col0\"  style=\"vertical-align: middle; text-align: center\" >-0.178835</td>\n",
       "\n",
       "      <td id=\"T_6a6e9row2_col1\" class=\"data row2 col1\"  style=\"vertical-align: middle; text-align: center\" >0.366337</td>\n",
       "\n",
       "      <td id=\"T_6a6e9row2_col2\" class=\"data row2 col2\"  style=\"vertical-align: middle; text-align: center\" >-0.070393</td>\n",
       "\n",
       "      <td id=\"T_6a6e9row2_col3\" class=\"data row2 col3\"  style=\"vertical-align: middle; text-align: center\" >0.772277</td>\n",
       "\n",
       "      <td id=\"T_6a6e9row2_col4\" class=\"data row2 col4\"  style=\"vertical-align: middle; text-align: center\" >-0.178835</td>\n",
       "\n",
       "      <td id=\"T_6a6e9row2_col5\" class=\"data row2 col5\"  style=\"vertical-align: middle; text-align: center\" >0.366337</td>\n",
       "\n",
       "      <td id=\"T_6a6e9row2_col6\" class=\"data row2 col6\"  style=\"vertical-align: middle; text-align: center\" >-0.070393</td>\n",
       "\n",
       "      <td id=\"T_6a6e9row2_col7\" class=\"data row2 col7\"  style=\"vertical-align: middle; text-align: center\" >0.772277</td>\n",
       "\n",
       "\n",
       "    </tr>\n",
       "\n",
       "\n",
       "\n",
       "    <tr style=\"background-color: white; padding: 0; margin: 0;\">\n",
       "\n",
       "\n",
       "      <th id=\"T_6a6e9level0_row3\" class=\"row_heading level0 row3\"  style=\"vertical-align: middle; text-align: left\" >M1</th>\n",
       "\n",
       "      <td id=\"T_6a6e9row3_col0\" class=\"data row3 col0\"  style=\"vertical-align: middle; text-align: center\" >0.001413</td>\n",
       "\n",
       "      <td id=\"T_6a6e9row3_col1\" class=\"data row3 col1\"  style=\"vertical-align: middle; text-align: center\" >1.000000</td>\n",
       "\n",
       "      <td id=\"T_6a6e9row3_col2\" class=\"data row3 col2\"  style=\"vertical-align: middle; text-align: center\" >-0.060140</td>\n",
       "\n",
       "      <td id=\"T_6a6e9row3_col3\" class=\"data row3 col3\"  style=\"vertical-align: middle; text-align: center\" >0.772277</td>\n",
       "\n",
       "      <td id=\"T_6a6e9row3_col4\" class=\"data row3 col4\"  style=\"vertical-align: middle; text-align: center\" >0.001413</td>\n",
       "\n",
       "      <td id=\"T_6a6e9row3_col5\" class=\"data row3 col5\"  style=\"vertical-align: middle; text-align: center\" >1.000000</td>\n",
       "\n",
       "      <td id=\"T_6a6e9row3_col6\" class=\"data row3 col6\"  style=\"vertical-align: middle; text-align: center\" >-0.060140</td>\n",
       "\n",
       "      <td id=\"T_6a6e9row3_col7\" class=\"data row3 col7\"  style=\"vertical-align: middle; text-align: center\" >0.772277</td>\n",
       "\n",
       "\n",
       "    </tr>\n",
       "\n",
       "\n",
       "\n",
       "    <tr style=\"background-color: white; padding: 0; margin: 0;\">\n",
       "\n",
       "\n",
       "      <th id=\"T_6a6e9level0_row4\" class=\"row_heading level0 row4\"  style=\"vertical-align: middle; text-align: left; border-bottom: 1.5pt solid black\" >nAchRs</th>\n",
       "\n",
       "      <td id=\"T_6a6e9row4_col0\" class=\"data row4 col0\"  style=\"vertical-align: middle; text-align: center; border-bottom: 1.5pt solid black\" >-0.084020</td>\n",
       "\n",
       "      <td id=\"T_6a6e9row4_col1\" class=\"data row4 col1\"  style=\"vertical-align: middle; text-align: center; border-bottom: 1.5pt solid black\" >0.722772</td>\n",
       "\n",
       "      <td id=\"T_6a6e9row4_col2\" class=\"data row4 col2\"  style=\"vertical-align: middle; text-align: center; border-bottom: 1.5pt solid black\" >-0.165129</td>\n",
       "\n",
       "      <td id=\"T_6a6e9row4_col3\" class=\"data row4 col3\"  style=\"vertical-align: middle; text-align: center; border-bottom: 1.5pt solid black\" >0.405941</td>\n",
       "\n",
       "      <td id=\"T_6a6e9row4_col4\" class=\"data row4 col4\"  style=\"vertical-align: middle; text-align: center; border-bottom: 1.5pt solid black\" >-0.084020</td>\n",
       "\n",
       "      <td id=\"T_6a6e9row4_col5\" class=\"data row4 col5\"  style=\"vertical-align: middle; text-align: center; border-bottom: 1.5pt solid black\" >0.722772</td>\n",
       "\n",
       "      <td id=\"T_6a6e9row4_col6\" class=\"data row4 col6\"  style=\"vertical-align: middle; text-align: center; border-bottom: 1.5pt solid black\" >-0.165129</td>\n",
       "\n",
       "      <td id=\"T_6a6e9row4_col7\" class=\"data row4 col7\"  style=\"vertical-align: middle; text-align: center; border-bottom: 1.5pt solid black\" >0.405941</td>\n",
       "\n",
       "\n",
       "    </tr>\n",
       "\n",
       "\n",
       "\n",
       "</tbody>\n",
       "\n",
       "</table>\n",
       "\n",
       "\n",
       "\n",
       "<input id=\"B_6a6e9\" type=\"button\" value=\"Copy Table\" />\n",
       "<script language=\"javascript\">\n",
       "document.querySelector(\"#B_6a6e9\").addEventListener(\"click\", function () {\n",
       "  function walkTheDOM(node, func) {\n",
       "    func(node);\n",
       "    node = node.firstChild;\n",
       "    while (node) {\n",
       "        walkTheDOM(node, func);\n",
       "        node = node.nextSibling;\n",
       "    }\n",
       "  }\n",
       "\n",
       "  function removePadding(node) {\n",
       "    if (node.tagName === \"TH\" || node.tagName === \"TD\"){\n",
       "      node.style.padding = \"0 5px\";\n",
       "    }\n",
       "  }\n",
       "\n",
       "  let el = document.getElementById(\"T_6a6e9\");\n",
       "  let parent = el.parentNode;\n",
       "  let elCopy = el.cloneNode(true);\n",
       "\n",
       "  walkTheDOM(elCopy, removePadding);\n",
       "\n",
       "  parent.appendChild(elCopy);\n",
       "\n",
       "  var body = document.body,\n",
       "    range,\n",
       "    sel;\n",
       "  if (document.createRange && window.getSelection) {\n",
       "    range = document.createRange();\n",
       "    sel = window.getSelection();\n",
       "    sel.removeAllRanges();\n",
       "    try {\n",
       "      range.selectNodeContents(elCopy);\n",
       "      sel.addRange(range);\n",
       "    } catch (e) {\n",
       "      range.selectNode(elCopy);\n",
       "      sel.addRange(range);\n",
       "    }\n",
       "  } else if (body.createTextRange) {\n",
       "    range = body.createTextRange();\n",
       "    range.moveToElementText(elCopy);\n",
       "    range.select();\n",
       "  }\n",
       "  document.execCommand(\"copy\");\n",
       "  elCopy.remove();\n",
       "});\n",
       "\n",
       "</script>\n",
       "\n"
      ],
      "text/plain": [
       "<zentables.zentables.PrettyStyler at 0x7f61616da6a0>"
      ]
     },
     "execution_count": 40,
     "metadata": {},
     "output_type": "execute_result"
    }
   ],
   "source": [
    "D7T_null_grad25corr_df.zen.pretty(font_size=\"12pt\")"
   ]
  },
  {
   "cell_type": "code",
   "execution_count": null,
   "id": "f8c87771-f890-4609-88af-8b465b9c1b06",
   "metadata": {},
   "outputs": [],
   "source": []
  }
 ],
 "metadata": {
  "kernelspec": {
   "display_name": "Python 3 (ipykernel)",
   "language": "python",
   "name": "python3"
  },
  "language_info": {
   "codemirror_mode": {
    "name": "ipython",
    "version": 3
   },
   "file_extension": ".py",
   "mimetype": "text/x-python",
   "name": "python",
   "nbconvert_exporter": "python",
   "pygments_lexer": "ipython3",
   "version": "3.8.10"
  }
 },
 "nbformat": 4,
 "nbformat_minor": 5
}
