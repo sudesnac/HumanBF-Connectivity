{
 "cells": [
  {
   "cell_type": "code",
   "execution_count": null,
   "id": "c4a6262a-0822-4a60-8cba-1fb29745790f",
   "metadata": {},
   "outputs": [],
   "source": [
    "# This notebook is for calculating the connectivity distance / streamline distance of functional and structural matrices\n",
    "# Includes:\n",
    "#\n",
    "#\n",
    "#\n",
    "#"
   ]
  },
  {
   "cell_type": "code",
   "execution_count": 1,
   "id": "ddb4352b-6b91-46fd-aa62-f84eca8b1c67",
   "metadata": {},
   "outputs": [],
   "source": [
    "import nibabel as nib\n",
    "import numpy as np\n",
    "import matplotlib.pyplot as plt\n",
    "import os\n",
    "import surfdist as sd\n",
    "from surfdist import viz, load, utils, analysis\n",
    "from brainspace.datasets import load_fsa5\n",
    "from brainspace.plotting import plot_hemispheres\n",
    "from brainspace.datasets import load_parcellation\n",
    "from brainspace.utils.parcellation import map_to_labels"
   ]
  },
  {
   "cell_type": "code",
   "execution_count": null,
   "id": "c53aa6e7-07f0-415d-a50c-d6fbc03d6783",
   "metadata": {},
   "outputs": [],
   "source": []
  },
  {
   "cell_type": "code",
   "execution_count": 2,
   "id": "8dde892a-3d36-48db-b15d-e0e8f1c93f5f",
   "metadata": {},
   "outputs": [],
   "source": [
    "# get the current notebook path\n",
    "note_path = \"/home/ROBARTS/schakraborty/graham/sudesnacPJ/21_Codes/HumanBF-Parcellation/notebook/\"\n",
    "data_path = \"/home/ROBARTS/schakraborty/graham/sudesnacPJ/21_Codes/HumanBF-Parcellation/data/\"\n",
    "results_path = \"/home/ROBARTS/schakraborty/graham/sudesnacPJ/21_Codes/HumanBF-Parcellation/results/Conn_dist/\"\n",
    "fig_path = \"/home/ROBARTS/schakraborty/graham/sudesnacPJ/21_Codes/HumanBF-Parcellation/results/figures/Conn_dist/\""
   ]
  },
  {
   "cell_type": "code",
   "execution_count": 3,
   "id": "8f93e988-ae49-4da8-b65c-d45b8b2d047b",
   "metadata": {},
   "outputs": [],
   "source": [
    "Func_results_path = \"/home/ROBARTS/schakraborty/graham/sudesnacPJ/21_Codes/HumanBF-Parcellation/results/Func_HCPMMP/\"\n",
    "Diff_results_path = \"/home/ROBARTS/schakraborty/graham/sudesnacPJ/21_Codes/HumanBF-Parcellation/results/Diff_7Tsubj7TDWI/\""
   ]
  },
  {
   "cell_type": "code",
   "execution_count": null,
   "id": "700d8021-28eb-44c5-8bea-dafe5ae37403",
   "metadata": {},
   "outputs": [],
   "source": []
  }
 ],
 "metadata": {
  "kernelspec": {
   "display_name": "Python 3 (ipykernel)",
   "language": "python",
   "name": "python3"
  },
  "language_info": {
   "codemirror_mode": {
    "name": "ipython",
    "version": 3
   },
   "file_extension": ".py",
   "mimetype": "text/x-python",
   "name": "python",
   "nbconvert_exporter": "python",
   "pygments_lexer": "ipython3",
   "version": "3.8.10"
  }
 },
 "nbformat": 4,
 "nbformat_minor": 5
}
